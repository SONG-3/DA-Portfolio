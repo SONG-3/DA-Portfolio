{
 "cells": [
  {
   "cell_type": "markdown",
   "id": "2c173a8c",
   "metadata": {},
   "source": [
    "### 모델 결과 해석"
   ]
  },
  {
   "cell_type": "markdown",
   "id": "6c1aadca",
   "metadata": {},
   "source": [
    "- 최종 모델 XGBoost(임계값 0.4 + 베이지안 최적화) \n",
    "    - 실제 결제 전환 가능성 있는 유저를 예측하는데에 초점을 맞춘 모델 \n",
    "    - 예측된 결제 전환 가능성 높은 유저에 마케팅 비용을 집중하는데 모델 활용 가능"
   ]
  },
  {
   "cell_type": "markdown",
   "id": "c5b8e9f5",
   "metadata": {},
   "source": [
    "### 클러스터링 결과 해석"
   ]
  },
  {
   "cell_type": "markdown",
   "id": "4a3a11bb",
   "metadata": {},
   "source": [
    "- `cluster0` : 유료 결제 전환율 보통 그룹(장기 체류 탐색형 고객)\n",
    "    - 특징: 체류 시간 가장 김, 2.2일 방문, 입실 횟수 5회, 100평, 한 번 방문 시 장시간 체류 -> 관심도는 높음\n",
    "    - 일부 유저 여러 지점 체험(지점 비교 후 결제 결정 가능성)\n",
    "    - 마케팅 전략: 의사결정 지연 고민 해소\n",
    "        - 각 지점별 정보가 담긴 지점 비교 가이드 제공\n",
    "        - 장시간 이용자용 할인 요금제\n",
    "        - 지점별 후기 정보 제공\n",
    "- `cluster1` : 유료 결제 전환율 가장 낮은 그룹(단순 체험 고객)\n",
    "    - 특징: 하루만 체험, 3일 중 1일만 방문, 체류 시간 짧음, 출입 빈도 적음 \n",
    "    - 짧게 방문 후 이탈하는 경향\n",
    "        - 단순 체험 방문\n",
    "    - 마케팅 전략: 저비용 채널 활용 재방문 유도 리마인드\n",
    "        - 체험 기한 리마인드 푸시\n",
    "        - 다른 공간 체험 제안  \n",
    "- `cluster2`: 유료 결제 전환율 가장 높은 그룹(체험 충실형 고객) - 핵심 타겟\n",
    "    - 특징: 출입 빈도 높음, 체류 시간 긴 편, 단일 지점 방문, 1회 방문 시 꽤 오래 체류, 넓은 공간 선호\n",
    "    - 3일 체험을 적극 활용하며 넓은 공간 선호하는 유저는 결제 전환율이 높은 경향 -> 사용 목적 가장 뚜렷, \n",
    "    - 마케팅 전략: 쾌적한 환경 및 3일 체험 시 혜택\n",
    "        - 3일 체험 모두 방문 시 장기 요금제 프로모션\n",
    "        - 프리미엄 좌석 및 프라이빗 룸 소개 "
   ]
  },
  {
   "cell_type": "markdown",
   "id": "430937cc",
   "metadata": {},
   "source": [
    "## 4. 모델링"
   ]
  },
  {
   "cell_type": "code",
   "execution_count": 18,
   "id": "e9dad9bd",
   "metadata": {},
   "outputs": [],
   "source": [
    "import pandas as pd \n",
    "import numpy as np \n",
    "import matplotlib.pyplot as plt \n",
    "import seaborn as sns \n",
    "import koreanize_matplotlib"
   ]
  },
  {
   "cell_type": "code",
   "execution_count": 19,
   "id": "ef7bd528",
   "metadata": {},
   "outputs": [],
   "source": [
    "data_path= '/Users/SongKG/Documents/codeit_study/중급프로젝트2(06/09~)/user_summary_final.csv'\n",
    "data_path2='/Users/SongKG/Documents/codeit_study/중급프로젝트2(06/09~)/access_log_final_df.csv'\n",
    "user_summary_df = pd.read_csv(data_path)\n",
    "access_log_final_df = pd.read_csv(data_path2)"
   ]
  },
  {
   "cell_type": "code",
   "execution_count": 20,
   "id": "da5a4c7f",
   "metadata": {},
   "outputs": [],
   "source": [
    "user_summary_df = user_summary_df.rename({'session_count_x': 'session_count'})"
   ]
  },
  {
   "cell_type": "code",
   "execution_count": 21,
   "id": "e092ddfd",
   "metadata": {},
   "outputs": [
    {
     "name": "stdout",
     "output_type": "stream",
     "text": [
      "(5707, 11)\n",
      "<class 'pandas.core.frame.DataFrame'>\n",
      "Index: 5707 entries, 0 to 5706\n",
      "Data columns (total 11 columns):\n",
      " #   Column                 Non-Null Count  Dtype  \n",
      "---  ------                 --------------  -----  \n",
      " 0   user_uuid              5707 non-null   object \n",
      " 1   total_stay_time        5707 non-null   int64  \n",
      " 2   avg_stay_time          5707 non-null   float64\n",
      " 3   visit_days             5707 non-null   int64  \n",
      " 4   visited_sites_count    5707 non-null   int64  \n",
      " 5   session_count          5707 non-null   int64  \n",
      " 6   first_visit_month      5707 non-null   object \n",
      " 7   first_visit_time_band  5707 non-null   object \n",
      " 8   days_since_trial       5707 non-null   int64  \n",
      " 9   area_pyeong            5707 non-null   int64  \n",
      " 10  is_payment             5707 non-null   int64  \n",
      "dtypes: float64(1), int64(7), object(3)\n",
      "memory usage: 535.0+ KB\n",
      "None\n"
     ]
    }
   ],
   "source": [
    "print(user_summary_df.shape)\n",
    "print(user_summary_df.info())"
   ]
  },
  {
   "cell_type": "markdown",
   "id": "87cbd3d6",
   "metadata": {},
   "source": [
    "#### 모델링 피쳐 후보"
   ]
  },
  {
   "cell_type": "markdown",
   "id": "8968ecd8",
   "metadata": {},
   "source": [
    "- `first_visit_time_band` : 첫 방문 시간대\n",
    "- `first_visit_month` : 첫 방문 월\n",
    "- `days_to_payment` : 결제까지 걸린 일수\n",
    "- `total_stay_time` : 총 체류 시간 \n",
    "- `avg_stay_time` : 평균 체류 시간 \n",
    "- `visit_days` : 방문 일수 \n",
    "- `visited_sites_count` : 방문 지점 개수(여러 지점 방문할수록 유료 결제 전환율이 올라가는가?)\n",
    "- `session_count` : 입실 횟수(출입 빈도 보기 위함)\n",
    "- `area_pyeong` : 첫 방문 지점 면적 "
   ]
  },
  {
   "cell_type": "markdown",
   "id": "d982d3b0",
   "metadata": {},
   "source": [
    "### 4-1 범주형 데이터 전처리(첫 방문 시간대) - 원핫인코딩\n"
   ]
  },
  {
   "cell_type": "code",
   "execution_count": 22,
   "id": "246a5aca",
   "metadata": {},
   "outputs": [
    {
     "data": {
      "text/plain": [
       "(5707, 14)"
      ]
     },
     "execution_count": 22,
     "metadata": {},
     "output_type": "execute_result"
    }
   ],
   "source": [
    "user_df = pd.get_dummies(user_summary_df, columns=['first_visit_time_band'], prefix='visit_time',dtype=int)\n",
    "user_df.tail(2)\n",
    "user_df.shape"
   ]
  },
  {
   "cell_type": "code",
   "execution_count": 23,
   "id": "77645f25",
   "metadata": {},
   "outputs": [
    {
     "data": {
      "text/plain": [
       "33"
      ]
     },
     "execution_count": 23,
     "metadata": {},
     "output_type": "execute_result"
    }
   ],
   "source": [
    "len(user_summary_df['first_visit_month'].unique())"
   ]
  },
  {
   "cell_type": "code",
   "execution_count": 24,
   "id": "48bb04ea",
   "metadata": {},
   "outputs": [],
   "source": [
    "user_df['first_visit_month'] = pd.to_datetime(user_df['first_visit_month'])\n",
    "\n",
    "user_df['visit_month'] = user_df['first_visit_month'].dt.month"
   ]
  },
  {
   "cell_type": "code",
   "execution_count": 25,
   "id": "3b7fcbea",
   "metadata": {},
   "outputs": [],
   "source": [
    "user_df.drop(columns='first_visit_month', inplace=True)"
   ]
  },
  {
   "cell_type": "code",
   "execution_count": 26,
   "id": "a22206ad",
   "metadata": {},
   "outputs": [],
   "source": [
    "user_df = user_df.rename(columns={'visit_month' :'first_visit_month'})"
   ]
  },
  {
   "cell_type": "code",
   "execution_count": 27,
   "id": "415a3f69",
   "metadata": {},
   "outputs": [
    {
     "data": {
      "text/html": [
       "<div>\n",
       "<style scoped>\n",
       "    .dataframe tbody tr th:only-of-type {\n",
       "        vertical-align: middle;\n",
       "    }\n",
       "\n",
       "    .dataframe tbody tr th {\n",
       "        vertical-align: top;\n",
       "    }\n",
       "\n",
       "    .dataframe thead th {\n",
       "        text-align: right;\n",
       "    }\n",
       "</style>\n",
       "<table border=\"1\" class=\"dataframe\">\n",
       "  <thead>\n",
       "    <tr style=\"text-align: right;\">\n",
       "      <th></th>\n",
       "      <th>count</th>\n",
       "      <th>mean</th>\n",
       "      <th>std</th>\n",
       "      <th>min</th>\n",
       "      <th>25%</th>\n",
       "      <th>50%</th>\n",
       "      <th>75%</th>\n",
       "      <th>max</th>\n",
       "    </tr>\n",
       "  </thead>\n",
       "  <tbody>\n",
       "    <tr>\n",
       "      <th>total_stay_time</th>\n",
       "      <td>5707.0</td>\n",
       "      <td>29971.822323</td>\n",
       "      <td>25614.484166</td>\n",
       "      <td>9.0</td>\n",
       "      <td>10904.5</td>\n",
       "      <td>22548.0</td>\n",
       "      <td>42368.0</td>\n",
       "      <td>249203.0</td>\n",
       "    </tr>\n",
       "    <tr>\n",
       "      <th>avg_stay_time</th>\n",
       "      <td>5707.0</td>\n",
       "      <td>15664.571783</td>\n",
       "      <td>10113.489133</td>\n",
       "      <td>9.0</td>\n",
       "      <td>8246.5</td>\n",
       "      <td>14354.0</td>\n",
       "      <td>21217.0</td>\n",
       "      <td>81464.0</td>\n",
       "    </tr>\n",
       "    <tr>\n",
       "      <th>visit_days</th>\n",
       "      <td>5707.0</td>\n",
       "      <td>1.787104</td>\n",
       "      <td>0.820814</td>\n",
       "      <td>1.0</td>\n",
       "      <td>1.0</td>\n",
       "      <td>2.0</td>\n",
       "      <td>2.0</td>\n",
       "      <td>4.0</td>\n",
       "    </tr>\n",
       "    <tr>\n",
       "      <th>visited_sites_count</th>\n",
       "      <td>5707.0</td>\n",
       "      <td>1.056422</td>\n",
       "      <td>0.262718</td>\n",
       "      <td>1.0</td>\n",
       "      <td>1.0</td>\n",
       "      <td>1.0</td>\n",
       "      <td>1.0</td>\n",
       "      <td>4.0</td>\n",
       "    </tr>\n",
       "    <tr>\n",
       "      <th>session_count</th>\n",
       "      <td>5707.0</td>\n",
       "      <td>4.993517</td>\n",
       "      <td>4.387407</td>\n",
       "      <td>1.0</td>\n",
       "      <td>2.0</td>\n",
       "      <td>4.0</td>\n",
       "      <td>7.0</td>\n",
       "      <td>40.0</td>\n",
       "    </tr>\n",
       "    <tr>\n",
       "      <th>days_since_trial</th>\n",
       "      <td>5707.0</td>\n",
       "      <td>0.922026</td>\n",
       "      <td>3.443152</td>\n",
       "      <td>-1.0</td>\n",
       "      <td>0.0</td>\n",
       "      <td>1.0</td>\n",
       "      <td>1.0</td>\n",
       "      <td>201.0</td>\n",
       "    </tr>\n",
       "    <tr>\n",
       "      <th>area_pyeong</th>\n",
       "      <td>5707.0</td>\n",
       "      <td>111.091642</td>\n",
       "      <td>42.151021</td>\n",
       "      <td>50.0</td>\n",
       "      <td>50.0</td>\n",
       "      <td>100.0</td>\n",
       "      <td>150.0</td>\n",
       "      <td>150.0</td>\n",
       "    </tr>\n",
       "    <tr>\n",
       "      <th>is_payment</th>\n",
       "      <td>5707.0</td>\n",
       "      <td>0.390573</td>\n",
       "      <td>0.487922</td>\n",
       "      <td>0.0</td>\n",
       "      <td>0.0</td>\n",
       "      <td>0.0</td>\n",
       "      <td>1.0</td>\n",
       "      <td>1.0</td>\n",
       "    </tr>\n",
       "  </tbody>\n",
       "</table>\n",
       "</div>"
      ],
      "text/plain": [
       "                      count          mean           std   min      25%  \\\n",
       "total_stay_time      5707.0  29971.822323  25614.484166   9.0  10904.5   \n",
       "avg_stay_time        5707.0  15664.571783  10113.489133   9.0   8246.5   \n",
       "visit_days           5707.0      1.787104      0.820814   1.0      1.0   \n",
       "visited_sites_count  5707.0      1.056422      0.262718   1.0      1.0   \n",
       "session_count        5707.0      4.993517      4.387407   1.0      2.0   \n",
       "days_since_trial     5707.0      0.922026      3.443152  -1.0      0.0   \n",
       "area_pyeong          5707.0    111.091642     42.151021  50.0     50.0   \n",
       "is_payment           5707.0      0.390573      0.487922   0.0      0.0   \n",
       "\n",
       "                         50%      75%       max  \n",
       "total_stay_time      22548.0  42368.0  249203.0  \n",
       "avg_stay_time        14354.0  21217.0   81464.0  \n",
       "visit_days               2.0      2.0       4.0  \n",
       "visited_sites_count      1.0      1.0       4.0  \n",
       "session_count            4.0      7.0      40.0  \n",
       "days_since_trial         1.0      1.0     201.0  \n",
       "area_pyeong            100.0    150.0     150.0  \n",
       "is_payment               0.0      1.0       1.0  "
      ]
     },
     "execution_count": 27,
     "metadata": {},
     "output_type": "execute_result"
    }
   ],
   "source": [
    "user_summary_df.describe().T"
   ]
  },
  {
   "cell_type": "markdown",
   "id": "c99f41ec",
   "metadata": {},
   "source": [
    "### 4-2 베이스라인 모델 - RandomForest\n"
   ]
  },
  {
   "cell_type": "code",
   "execution_count": 28,
   "id": "caf8a76d",
   "metadata": {},
   "outputs": [],
   "source": [
    "from sklearn.model_selection import train_test_split\n",
    "from sklearn.ensemble import RandomForestClassifier\n",
    "from sklearn.metrics import accuracy_score, confusion_matrix"
   ]
  },
  {
   "cell_type": "code",
   "execution_count": 29,
   "id": "ea1660e4",
   "metadata": {},
   "outputs": [
    {
     "name": "stdout",
     "output_type": "stream",
     "text": [
      "(4565, 12)\n",
      "(4565,)\n",
      "(1142, 12)\n"
     ]
    }
   ],
   "source": [
    "X = user_df.drop(columns=['user_uuid','is_payment'])\n",
    "y = user_df['is_payment']\n",
    "\n",
    "X_train, X_test, y_train, y_test = train_test_split(X, y, test_size=0.2, random_state=2025, stratify=y)\n",
    "\n",
    "print(X_train.shape)\n",
    "print(y_train.shape)\n",
    "print(X_test.shape)"
   ]
  },
  {
   "cell_type": "code",
   "execution_count": 30,
   "id": "2adda459",
   "metadata": {},
   "outputs": [],
   "source": [
    "rf = RandomForestClassifier(n_estimators=300, n_jobs=-1, random_state=2025)\n",
    "rf.fit(X_train, y_train)\n",
    "\n",
    "rf_pred = rf.predict(X_test)\n",
    "acc_rf = accuracy_score(y_test, rf_pred)"
   ]
  },
  {
   "cell_type": "code",
   "execution_count": 31,
   "id": "c4b2e31a",
   "metadata": {},
   "outputs": [
    {
     "name": "stdout",
     "output_type": "stream",
     "text": [
      "랜덤 포레스트 모델 정확도: 0.598\n"
     ]
    }
   ],
   "source": [
    "print(f'랜덤 포레스트 모델 정확도: {acc_rf:.3f}')"
   ]
  },
  {
   "cell_type": "code",
   "execution_count": 32,
   "id": "cc51fa51",
   "metadata": {},
   "outputs": [
    {
     "name": "stdout",
     "output_type": "stream",
     "text": [
      "[[513 183]\n",
      " [276 170]]\n",
      "              precision    recall  f1-score   support\n",
      "\n",
      "           0       0.65      0.74      0.69       696\n",
      "           1       0.48      0.38      0.43       446\n",
      "\n",
      "    accuracy                           0.60      1142\n",
      "   macro avg       0.57      0.56      0.56      1142\n",
      "weighted avg       0.58      0.60      0.59      1142\n",
      "\n"
     ]
    }
   ],
   "source": [
    "from sklearn.metrics import classification_report, confusion_matrix\n",
    "\n",
    "print(confusion_matrix(y_test, rf_pred))\n",
    "print(classification_report(y_test, rf_pred))"
   ]
  },
  {
   "cell_type": "code",
   "execution_count": 33,
   "id": "ac68028e",
   "metadata": {},
   "outputs": [
    {
     "data": {
      "image/png": "[encoded data removed]",
      "text/plain": [
       "<Figure size 600x500 with 2 Axes>"
      ]
     },
     "metadata": {},
     "output_type": "display_data"
    }
   ],
   "source": [
    "from sklearn.metrics import ConfusionMatrixDisplay, confusion_matrix\n",
    "import matplotlib.pyplot as plt\n",
    "\n",
    "# 1. confusion matrix 계산\n",
    "cm = confusion_matrix(y_test, rf_pred)\n",
    "\n",
    "# 2. 클래스 이름 설정 (0: 미결제, 1: 결제 등)\n",
    "class_names = ['미결제', '결제']  # 필요 시 수정\n",
    "\n",
    "# 3. 시각화 객체 생성\n",
    "disp = ConfusionMatrixDisplay(confusion_matrix=cm, display_labels=class_names)\n",
    "\n",
    "# 4. 시각화 출력\n",
    "fig, ax = plt.subplots(figsize=(6, 5))\n",
    "disp.plot(ax=ax, cmap='YlOrBr')  # 색상은 자유롭게 변경 가능\n",
    "plt.title('Confusion Matrix (Random Forest)')\n",
    "plt.xlabel('예측 클래스')\n",
    "plt.ylabel('실제 클래스')\n",
    "plt.grid(False)\n",
    "plt.tight_layout()\n",
    "plt.show()\n"
   ]
  },
  {
   "cell_type": "markdown",
   "id": "7db1493f",
   "metadata": {},
   "source": [
    "### 4-2.1 랜덤포레스트 - 베이지안 최적화"
   ]
  },
  {
   "cell_type": "code",
   "execution_count": 34,
   "id": "baca1e06",
   "metadata": {},
   "outputs": [
    {
     "name": "stdout",
     "output_type": "stream",
     "text": [
      "|   iter    |  target   | n_esti... | max_depth | min_sa... |\n",
      "-------------------------------------------------------------\n",
      "| \u001b[39m2        \u001b[39m | \u001b[39m0.3112721\u001b[39m | \u001b[39m154.19526\u001b[39m | \u001b[39m13.654220\u001b[39m | \u001b[39m18.786901\u001b[39m |\n",
      "| \u001b[39m3        \u001b[39m | \u001b[39m0.2804173\u001b[39m | \u001b[39m278.22726\u001b[39m | \u001b[39m7.6588265\u001b[39m | \u001b[39m6.6367358\u001b[39m |\n",
      "| \u001b[39m4        \u001b[39m | \u001b[39m0.2910789\u001b[39m | \u001b[39m362.94703\u001b[39m | \u001b[39m8.9114032\u001b[39m | \u001b[39m19.356291\u001b[39m |\n",
      "| \u001b[39m5        \u001b[39m | \u001b[39m0.2871510\u001b[39m | \u001b[39m420.39378\u001b[39m | \u001b[39m8.4624634\u001b[39m | \u001b[39m16.419045\u001b[39m |\n",
      "| \u001b[39m6        \u001b[39m | \u001b[39m0.3084694\u001b[39m | \u001b[39m116.68718\u001b[39m | \u001b[39m12.233494\u001b[39m | \u001b[39m2.0570801\u001b[39m |\n",
      "| \u001b[39m7        \u001b[39m | \u001b[39m0.0830233\u001b[39m | \u001b[39m181.55684\u001b[39m | \u001b[39m3.0      \u001b[39m | \u001b[39m2.0      \u001b[39m |\n",
      "| \u001b[35m8        \u001b[39m | \u001b[35m0.3163157\u001b[39m | \u001b[35m152.68965\u001b[39m | \u001b[35m14.158473\u001b[39m | \u001b[35m18.465130\u001b[39m |\n",
      "| \u001b[39m9        \u001b[39m | \u001b[39m0.0830217\u001b[39m | \u001b[39m129.34482\u001b[39m | \u001b[39m3.0      \u001b[39m | \u001b[39m20.0     \u001b[39m |\n",
      "| \u001b[35m10       \u001b[39m | \u001b[35m0.3438312\u001b[39m | \u001b[35m101.51117\u001b[39m | \u001b[35m15.0     \u001b[39m | \u001b[35m2.0      \u001b[39m |\n",
      "| \u001b[39m11       \u001b[39m | \u001b[39m0.1026531\u001b[39m | \u001b[39m100.0    \u001b[39m | \u001b[39m3.0      \u001b[39m | \u001b[39m2.0      \u001b[39m |\n",
      "| \u001b[39m12       \u001b[39m | \u001b[39m0.3320429\u001b[39m | \u001b[39m108.26437\u001b[39m | \u001b[39m15.0     \u001b[39m | \u001b[39m7.3403998\u001b[39m |\n",
      "| \u001b[39m13       \u001b[39m | \u001b[39m0.3382069\u001b[39m | \u001b[39m152.38083\u001b[39m | \u001b[39m15.0     \u001b[39m | \u001b[39m5.3065631\u001b[39m |\n",
      "| \u001b[39m14       \u001b[39m | \u001b[39m0.0768514\u001b[39m | \u001b[39m152.37589\u001b[39m | \u001b[39m3.0      \u001b[39m | \u001b[39m6.7298319\u001b[39m |\n",
      "| \u001b[39m15       \u001b[39m | \u001b[39m0.3348393\u001b[39m | \u001b[39m100.0    \u001b[39m | \u001b[39m15.0     \u001b[39m | \u001b[39m11.600987\u001b[39m |\n",
      "| \u001b[39m16       \u001b[39m | \u001b[39m0.3219384\u001b[39m | \u001b[39m107.29680\u001b[39m | \u001b[39m15.0     \u001b[39m | \u001b[39m20.0     \u001b[39m |\n",
      "| \u001b[39m17       \u001b[39m | \u001b[39m0.2652786\u001b[39m | \u001b[39m379.29488\u001b[39m | \u001b[39m6.9960273\u001b[39m | \u001b[39m17.083775\u001b[39m |\n",
      "| \u001b[39m18       \u001b[39m | \u001b[39m0.2434000\u001b[39m | \u001b[39m361.60884\u001b[39m | \u001b[39m5.3730485\u001b[39m | \u001b[39m3.9978256\u001b[39m |\n",
      "| \u001b[35m19       \u001b[39m | \u001b[35m0.3466418\u001b[39m | \u001b[35m141.92169\u001b[39m | \u001b[35m15.0     \u001b[39m | \u001b[35m2.0      \u001b[39m |\n",
      "| \u001b[39m20       \u001b[39m | \u001b[39m0.3432710\u001b[39m | \u001b[39m130.43900\u001b[39m | \u001b[39m15.0     \u001b[39m | \u001b[39m2.0      \u001b[39m |\n",
      "| \u001b[39m21       \u001b[39m | \u001b[39m0.2793000\u001b[39m | \u001b[39m442.37234\u001b[39m | \u001b[39m7.2169785\u001b[39m | \u001b[39m19.084826\u001b[39m |\n",
      "=============================================================\n"
     ]
    }
   ],
   "source": [
    "from bayes_opt import BayesianOptimization\n",
    "from sklearn.ensemble import RandomForestClassifier\n",
    "from sklearn.model_selection import cross_val_score\n",
    "import numpy as np\n",
    "\n",
    "# 1. 목적 함수 정의\n",
    "def rf_cv(n_estimators, max_depth, min_samples_split):\n",
    "    rf = RandomForestClassifier(\n",
    "        n_estimators=int(n_estimators),\n",
    "        max_depth=int(max_depth),\n",
    "        min_samples_split=int(min_samples_split),\n",
    "        n_jobs=-1,\n",
    "        random_state=2025\n",
    "    )\n",
    "    \n",
    "    # 5-fold cross validation에서 평균 F1 score 계산 (또는 'roc_auc', 'accuracy' 등도 가능)\n",
    "    score = cross_val_score(rf, X_train, y_train, cv=5, scoring='recall').mean()\n",
    "    return score\n",
    "\n",
    "# 2. 탐색할 하이퍼파라미터 범위 설정\n",
    "pbounds = {\n",
    "    'n_estimators': (100, 500),\n",
    "    'max_depth': (3, 15),\n",
    "    'min_samples_split': (2, 20)\n",
    "}\n",
    "\n",
    "# 3. 최적화 객체 정의\n",
    "optimizer = BayesianOptimization(\n",
    "    f=rf_cv,\n",
    "    pbounds=pbounds,\n",
    "    random_state=2025,\n",
    "    verbose=2\n",
    ")\n",
    "\n",
    "# 4. 최적화 실행\n",
    "optimizer.maximize(\n",
    "    init_points=5,  # 초기 랜덤 탐색 횟수\n",
    "    n_iter=15       # 이후 베이지안 방식으로 탐색할 횟수\n",
    ")\n"
   ]
  },
  {
   "cell_type": "code",
   "execution_count": 35,
   "id": "a7960e0a",
   "metadata": {},
   "outputs": [
    {
     "name": "stdout",
     "output_type": "stream",
     "text": [
      "최적 결과: {'target': 0.34664180278853113, 'params': {'n_estimators': 141.92169981429421, 'max_depth': 15.0, 'min_samples_split': 2.0}}\n"
     ]
    }
   ],
   "source": [
    "print(\"최적 결과:\", optimizer.max)"
   ]
  },
  {
   "cell_type": "code",
   "execution_count": 36,
   "id": "8c2a4e01",
   "metadata": {},
   "outputs": [],
   "source": [
    "# 1. 최적 하이퍼파라미터 확인\n",
    "best_params = optimizer.max['params']\n",
    "\n",
    "# 2. 정수형으로 변환 (주의: bayesian-optimization은 float로 반환됨)\n",
    "best_n_estimators = int(best_params['n_estimators'])\n",
    "best_max_depth = int(best_params['max_depth'])\n",
    "best_min_samples_split = int(best_params['min_samples_split'])"
   ]
  },
  {
   "cell_type": "code",
   "execution_count": 37,
   "id": "060bae3e",
   "metadata": {},
   "outputs": [
    {
     "name": "stdout",
     "output_type": "stream",
     "text": [
      "🔹 Confusion Matrix:\n",
      "[[531 165]\n",
      " [289 157]]\n",
      "\n",
      "🔹 Classification Report:\n",
      "              precision    recall  f1-score   support\n",
      "\n",
      "           0       0.65      0.76      0.70       696\n",
      "           1       0.49      0.35      0.41       446\n",
      "\n",
      "    accuracy                           0.60      1142\n",
      "   macro avg       0.57      0.56      0.55      1142\n",
      "weighted avg       0.59      0.60      0.59      1142\n",
      "\n"
     ]
    }
   ],
   "source": [
    "from sklearn.ensemble import RandomForestClassifier\n",
    "from sklearn.metrics import confusion_matrix, classification_report\n",
    "\n",
    "# 3. 최적 파라미터로 모델 훈련\n",
    "best_rf = RandomForestClassifier(\n",
    "    n_estimators=best_n_estimators,\n",
    "    max_depth=best_max_depth,\n",
    "    min_samples_split=best_min_samples_split,\n",
    "    n_jobs=-1,\n",
    "    random_state=2025\n",
    ")\n",
    "best_rf.fit(X_train, y_train)\n",
    "\n",
    "# 4. 예측\n",
    "y_pred = best_rf.predict(X_test)\n",
    "\n",
    "# 5. 성능 평가\n",
    "print(\"🔹 Confusion Matrix:\")\n",
    "print(confusion_matrix(y_test, y_pred))\n",
    "\n",
    "print(\"\\n🔹 Classification Report:\")\n",
    "print(classification_report(y_test, y_pred))"
   ]
  },
  {
   "cell_type": "code",
   "execution_count": 38,
   "id": "3e661f5a",
   "metadata": {},
   "outputs": [
    {
     "data": {
      "image/png": "[encoded data removed]",
      "text/plain": [
       "<Figure size 600x500 with 2 Axes>"
      ]
     },
     "metadata": {},
     "output_type": "display_data"
    }
   ],
   "source": [
    "from sklearn.metrics import ConfusionMatrixDisplay, confusion_matrix\n",
    "import matplotlib.pyplot as plt\n",
    "\n",
    "# confusion matrix 계산\n",
    "cm = confusion_matrix(y_test, y_pred)\n",
    "\n",
    "# 클래스 라벨 (필요에 따라 수정)\n",
    "class_names = ['미결제', '결제']  # 0, 1이면 이렇게 사용 가능\n",
    "\n",
    "# 시각화\n",
    "disp = ConfusionMatrixDisplay(confusion_matrix=cm, display_labels=class_names)\n",
    "\n",
    "# 그림 설정\n",
    "fig, ax = plt.subplots(figsize=(6, 5))\n",
    "disp.plot(ax=ax, cmap='YlOrBr')  # 컬러맵은 자유롭게 (예: 'Blues', 'BuGn', 'YlGnBu')\n",
    "plt.title('Confusion Matrix (최적 Random Forest)')\n",
    "plt.xlabel('예측 클래스')\n",
    "plt.ylabel('실제 클래스')\n",
    "plt.grid(False)\n",
    "plt.tight_layout()\n",
    "plt.show()\n"
   ]
  },
  {
   "cell_type": "markdown",
   "id": "09c05a1c",
   "metadata": {},
   "source": [
    "### 4-2.2 랜덤포레스트 변수 중요도 확인"
   ]
  },
  {
   "cell_type": "code",
   "execution_count": 39,
   "id": "8057711e",
   "metadata": {},
   "outputs": [
    {
     "data": {
      "text/plain": [
       "array([0.25632641, 0.26356068, 0.05867636, 0.01465118, 0.12970179,\n",
       "       0.05191755, 0.04977725, 0.01372192, 0.01326948, 0.00766774,\n",
       "       0.00440738, 0.13632226])"
      ]
     },
     "execution_count": 39,
     "metadata": {},
     "output_type": "execute_result"
    }
   ],
   "source": [
    "best_rf.feature_importances_"
   ]
  },
  {
   "cell_type": "code",
   "execution_count": 40,
   "id": "111b30a7",
   "metadata": {},
   "outputs": [
    {
     "data": {
      "text/plain": [
       "avg_stay_time          0.263561\n",
       "total_stay_time        0.256326\n",
       "first_visit_month      0.136322\n",
       "session_count          0.129702\n",
       "visit_days             0.058676\n",
       "days_since_trial       0.051918\n",
       "area_pyeong            0.049777\n",
       "visited_sites_count    0.014651\n",
       "visit_time_심야          0.013722\n",
       "visit_time_아침          0.013269\n",
       "visit_time_오후          0.007668\n",
       "visit_time_저녁          0.004407\n",
       "dtype: float64"
      ]
     },
     "execution_count": 40,
     "metadata": {},
     "output_type": "execute_result"
    }
   ],
   "source": [
    "importances = pd.Series(best_rf.feature_importances_, index=X.columns).sort_values(ascending=False)\n",
    "importances"
   ]
  },
  {
   "cell_type": "code",
   "execution_count": 41,
   "id": "4981b435",
   "metadata": {},
   "outputs": [],
   "source": [
    "top_n = 10 \n",
    "top_importances = importances.head(10)"
   ]
  },
  {
   "cell_type": "code",
   "execution_count": 42,
   "id": "2e142a41",
   "metadata": {},
   "outputs": [
    {
     "data": {
      "text/plain": [
       "<Axes: >"
      ]
     },
     "execution_count": 42,
     "metadata": {},
     "output_type": "execute_result"
    },
    {
     "data": {
      "image/png": "[encoded data removed]",
      "text/plain": [
       "<Figure size 640x480 with 1 Axes>"
      ]
     },
     "metadata": {},
     "output_type": "display_data"
    }
   ],
   "source": [
    "# 역순으로 그려서 가장 큰 값이 위로 가도록 설정\n",
    "top_importances.iloc[::-1].plot(kind='barh', color=\"#2f59ba\")"
   ]
  },
  {
   "cell_type": "markdown",
   "id": "2a8bf8fd",
   "metadata": {},
   "source": [
    "### 4-2.3 threshold별 recall-precision 변화 시각화"
   ]
  },
  {
   "cell_type": "markdown",
   "id": "719db3de",
   "metadata": {},
   "source": [
    "- threshold가 낮아질수록 recall 지표가 상승함\n",
    "- 유료 결제자를 잘 예측하는 것이 목적\n",
    "    - precision보다 recall이 중요 지표 -> recall 중심으로 개선!"
   ]
  },
  {
   "cell_type": "code",
   "execution_count": 43,
   "id": "fd0e9226",
   "metadata": {},
   "outputs": [
    {
     "data": {
      "image/png": "[encoded data removed]",
      "text/plain": [
       "<Figure size 800x400 with 1 Axes>"
      ]
     },
     "metadata": {},
     "output_type": "display_data"
    }
   ],
   "source": [
    "from sklearn.metrics import precision_recall_curve \n",
    "\n",
    "y_scores = best_rf.predict_proba(X_test)[:,1]\n",
    "\n",
    "precision, recall, thresholds = precision_recall_curve(y_test, y_scores)\n",
    "thresholds = list(thresholds) + [1.0] # 길이 맞추기\n",
    "\n",
    "plt.figure(figsize=(8,4))\n",
    "plt.plot(thresholds, precision, label='Precision')\n",
    "plt.plot(thresholds, recall, label='Recall')\n",
    "plt.xlabel(\"Threshold\")\n",
    "plt.ylabel(\"Score\")\n",
    "plt.title(\"Precision and Recall vs Threshold\")\n",
    "plt.legend()\n",
    "plt.grid(True)\n",
    "plt.show()"
   ]
  },
  {
   "cell_type": "code",
   "execution_count": 44,
   "id": "d0d8021b",
   "metadata": {},
   "outputs": [],
   "source": [
    "# threshold = 0.4 실험\n",
    "# 1. 예측 확률 얻기 (결제자 클래스 확률)\n",
    "y_proba = best_rf.predict_proba(X_test)[:, 1]  # 클래스 1(결제자)에 대한 확률\n",
    "\n",
    "# 2. threshold 0.4 적용\n",
    "threshold = 0.4\n",
    "y_pred_threshold = (y_proba >= threshold).astype(int)"
   ]
  },
  {
   "cell_type": "code",
   "execution_count": 46,
   "id": "2459d085",
   "metadata": {},
   "outputs": [
    {
     "name": "stdout",
     "output_type": "stream",
     "text": [
      "threshold: 0.4 결과 \n",
      "\n",
      "              precision    recall  f1-score   support\n",
      "\n",
      "           0       0.67      0.60      0.63       696\n",
      "           1       0.46      0.53      0.49       446\n",
      "\n",
      "    accuracy                           0.57      1142\n",
      "   macro avg       0.56      0.57      0.56      1142\n",
      "weighted avg       0.59      0.57      0.58      1142\n",
      "\n"
     ]
    }
   ],
   "source": [
    "from sklearn.metrics import classification_report\n",
    "print('threshold: 0.4 결과 \\n')\n",
    "print(classification_report(y_test, y_pred_threshold))"
   ]
  },
  {
   "cell_type": "markdown",
   "id": "5a97ce0d",
   "metadata": {},
   "source": [
    "### 4-3 XGBoost"
   ]
  },
  {
   "cell_type": "code",
   "execution_count": null,
   "id": "d9f7b4a8",
   "metadata": {},
   "outputs": [
    {
     "name": "stdout",
     "output_type": "stream",
     "text": [
      "Requirement already satisfied: xgboost in /opt/anaconda3/envs/codeit_env/lib/python3.12/site-packages (3.0.2)\n",
      "Requirement already satisfied: numpy in /opt/anaconda3/envs/codeit_env/lib/python3.12/site-packages (from xgboost) (1.26.4)\n",
      "Requirement already satisfied: scipy in /opt/anaconda3/envs/codeit_env/lib/python3.12/site-packages (from xgboost) (1.15.1)\n"
     ]
    }
   ],
   "source": [
    "!pip install xgboost"
   ]
  },
  {
   "cell_type": "code",
   "execution_count": 47,
   "id": "35befa3e",
   "metadata": {},
   "outputs": [
    {
     "name": "stdout",
     "output_type": "stream",
     "text": [
      "Confusion Matrix:\n",
      " [[534 162]\n",
      " [283 163]]\n",
      "\n",
      "Classification Report:\n",
      "               precision    recall  f1-score   support\n",
      "\n",
      "           0       0.65      0.77      0.71       696\n",
      "           1       0.50      0.37      0.42       446\n",
      "\n",
      "    accuracy                           0.61      1142\n",
      "   macro avg       0.58      0.57      0.56      1142\n",
      "weighted avg       0.59      0.61      0.60      1142\n",
      "\n",
      "\n",
      "Accuracy: 0.6103327495621717\n"
     ]
    }
   ],
   "source": [
    "from xgboost import XGBClassifier\n",
    "\n",
    "xb = XGBClassifier(eval_metric = 'logloss',random_state=2025)\n",
    "\n",
    "xb.fit(X_train, y_train)\n",
    "\n",
    "xb_pred = xb.predict(X_test)\n",
    "\n",
    "print(\"Confusion Matrix:\\n\", confusion_matrix(y_test, xb_pred))\n",
    "print(\"\\nClassification Report:\\n\", classification_report(y_test, xb_pred))\n",
    "print(\"\\nAccuracy:\", accuracy_score(y_test, xb_pred))"
   ]
  },
  {
   "cell_type": "markdown",
   "id": "3072219c",
   "metadata": {},
   "source": [
    "#### 하이퍼파라미터 튜닝 - XGBoost"
   ]
  },
  {
   "cell_type": "code",
   "execution_count": 48,
   "id": "f9a638b0",
   "metadata": {},
   "outputs": [
    {
     "name": "stdout",
     "output_type": "stream",
     "text": [
      "<class 'pandas.core.frame.DataFrame'>\n",
      "Index: 5707 entries, 0 to 5706\n",
      "Data columns (total 14 columns):\n",
      " #   Column               Non-Null Count  Dtype  \n",
      "---  ------               --------------  -----  \n",
      " 0   user_uuid            5707 non-null   object \n",
      " 1   total_stay_time      5707 non-null   int64  \n",
      " 2   avg_stay_time        5707 non-null   float64\n",
      " 3   visit_days           5707 non-null   int64  \n",
      " 4   visited_sites_count  5707 non-null   int64  \n",
      " 5   session_count        5707 non-null   int64  \n",
      " 6   days_since_trial     5707 non-null   int64  \n",
      " 7   area_pyeong          5707 non-null   int64  \n",
      " 8   is_payment           5707 non-null   int64  \n",
      " 9   visit_time_심야        5707 non-null   int64  \n",
      " 10  visit_time_아침        5707 non-null   int64  \n",
      " 11  visit_time_오후        5707 non-null   int64  \n",
      " 12  visit_time_저녁        5707 non-null   int64  \n",
      " 13  first_visit_month    5707 non-null   int32  \n",
      "dtypes: float64(1), int32(1), int64(11), object(1)\n",
      "memory usage: 646.5+ KB\n"
     ]
    }
   ],
   "source": [
    "user_df.info()"
   ]
  },
  {
   "cell_type": "code",
   "execution_count": 49,
   "id": "614c5e5a",
   "metadata": {},
   "outputs": [],
   "source": [
    "#user_df.drop(columns='first_visit_month', inplace=True)"
   ]
  },
  {
   "cell_type": "code",
   "execution_count": 50,
   "id": "6399547e",
   "metadata": {},
   "outputs": [
    {
     "name": "stdout",
     "output_type": "stream",
     "text": [
      "(4565, 12)\n",
      "(4565,)\n",
      "(1142, 12)\n"
     ]
    }
   ],
   "source": [
    "X = user_df.drop(columns=['user_uuid','is_payment'])\n",
    "y = user_df['is_payment']\n",
    "\n",
    "X_train, X_test, y_train, y_test = train_test_split(X, y, test_size=0.2, random_state=2025, stratify=y)\n",
    "\n",
    "print(X_train.shape)\n",
    "print(y_train.shape)\n",
    "print(X_test.shape)"
   ]
  },
  {
   "cell_type": "code",
   "execution_count": 51,
   "id": "29bcb9dd",
   "metadata": {},
   "outputs": [
    {
     "name": "stdout",
     "output_type": "stream",
     "text": [
      "Fitting 5 folds for each of 16 candidates, totalling 80 fits\n",
      "{'max_depth': None, 'min_samples_leaf': 1, 'min_samples_split': 2, 'n_estimators': 300}\n"
     ]
    }
   ],
   "source": [
    "from sklearn.model_selection import GridSearchCV\n",
    "\n",
    "# 설정할 하이퍼파라미터 값을 딕셔너리 형태로 선언\n",
    "param_grid = {\n",
    "    'n_estimators': [100,300],\n",
    "    'max_depth': [None,10],\n",
    "    'min_samples_split' : [2,10],\n",
    "    'min_samples_leaf' : [1,3]\n",
    "}\n",
    "grid = GridSearchCV(RandomForestClassifier(), param_grid=param_grid, cv=5, scoring='recall', n_jobs=-1, refit=True, verbose=1)\n",
    "grid.fit(X_train, y_train)\n",
    "print(grid.best_params_)"
   ]
  },
  {
   "cell_type": "code",
   "execution_count": 52,
   "id": "8c274f05",
   "metadata": {},
   "outputs": [],
   "source": [
    "best_rf = grid.best_estimator_"
   ]
  },
  {
   "cell_type": "code",
   "execution_count": 53,
   "id": "0fdf8e0f",
   "metadata": {},
   "outputs": [],
   "source": [
    "best_pred = best_rf.predict(X_test)"
   ]
  },
  {
   "cell_type": "code",
   "execution_count": 54,
   "id": "e5d201b0",
   "metadata": {},
   "outputs": [
    {
     "name": "stdout",
     "output_type": "stream",
     "text": [
      "베이스라인 정확도: 0.598\n",
      "베스트 정확도:0.595\n"
     ]
    }
   ],
   "source": [
    "best_acc = accuracy_score(y_test, best_pred)\n",
    "print(f'베이스라인 정확도: {acc_rf:.3f}')\n",
    "print(f'베스트 정확도:{best_acc:.3f}')"
   ]
  },
  {
   "cell_type": "code",
   "execution_count": 55,
   "id": "e0e91d4a",
   "metadata": {},
   "outputs": [
    {
     "name": "stdout",
     "output_type": "stream",
     "text": [
      "[[511 185]\n",
      " [278 168]]\n",
      "              precision    recall  f1-score   support\n",
      "\n",
      "           0       0.65      0.73      0.69       696\n",
      "           1       0.48      0.38      0.42       446\n",
      "\n",
      "    accuracy                           0.59      1142\n",
      "   macro avg       0.56      0.56      0.55      1142\n",
      "weighted avg       0.58      0.59      0.58      1142\n",
      "\n"
     ]
    }
   ],
   "source": [
    "from sklearn.metrics import classification_report, confusion_matrix\n",
    "\n",
    "print(confusion_matrix(y_test, best_pred))\n",
    "print(classification_report(y_test, best_pred))"
   ]
  },
  {
   "cell_type": "code",
   "execution_count": 56,
   "id": "ace5afc2",
   "metadata": {},
   "outputs": [
    {
     "data": {
      "text/plain": [
       "array([0.26559846, 0.27349978, 0.0452341 , 0.01181577, 0.13150921,\n",
       "       0.04884976, 0.04896726, 0.01228313, 0.01165636, 0.00654307,\n",
       "       0.00381815, 0.14022496])"
      ]
     },
     "execution_count": 56,
     "metadata": {},
     "output_type": "execute_result"
    }
   ],
   "source": [
    "best_rf.feature_importances_"
   ]
  },
  {
   "cell_type": "code",
   "execution_count": 57,
   "id": "0bfa6ad0",
   "metadata": {},
   "outputs": [
    {
     "data": {
      "text/plain": [
       "avg_stay_time          0.273500\n",
       "total_stay_time        0.265598\n",
       "first_visit_month      0.140225\n",
       "session_count          0.131509\n",
       "area_pyeong            0.048967\n",
       "days_since_trial       0.048850\n",
       "visit_days             0.045234\n",
       "visit_time_심야          0.012283\n",
       "visited_sites_count    0.011816\n",
       "visit_time_아침          0.011656\n",
       "visit_time_오후          0.006543\n",
       "visit_time_저녁          0.003818\n",
       "dtype: float64"
      ]
     },
     "execution_count": 57,
     "metadata": {},
     "output_type": "execute_result"
    }
   ],
   "source": [
    "importances = pd.Series(best_rf.feature_importances_, index=X.columns).sort_values(ascending=False)\n",
    "importances"
   ]
  },
  {
   "cell_type": "code",
   "execution_count": 58,
   "id": "1274ae27",
   "metadata": {},
   "outputs": [
    {
     "data": {
      "text/plain": [
       "avg_stay_time          0.273500\n",
       "total_stay_time        0.265598\n",
       "first_visit_month      0.140225\n",
       "session_count          0.131509\n",
       "area_pyeong            0.048967\n",
       "days_since_trial       0.048850\n",
       "visit_days             0.045234\n",
       "visit_time_심야          0.012283\n",
       "visited_sites_count    0.011816\n",
       "visit_time_아침          0.011656\n",
       "dtype: float64"
      ]
     },
     "execution_count": 58,
     "metadata": {},
     "output_type": "execute_result"
    }
   ],
   "source": [
    "top_n = 10 \n",
    "top_importances = importances.head(10)\n",
    "top_importances"
   ]
  },
  {
   "cell_type": "code",
   "execution_count": 59,
   "id": "aba471b7",
   "metadata": {},
   "outputs": [
    {
     "data": {
      "text/plain": [
       "<Axes: >"
      ]
     },
     "execution_count": 59,
     "metadata": {},
     "output_type": "execute_result"
    },
    {
     "data": {
      "image/png": "[encoded data removed]",
      "text/plain": [
       "<Figure size 640x480 with 1 Axes>"
      ]
     },
     "metadata": {},
     "output_type": "display_data"
    }
   ],
   "source": [
    "# 역순으로 그려서 가장 큰 값이 위로 가도록 설정\n",
    "top_importances.iloc[::-1].plot(kind='barh')"
   ]
  },
  {
   "cell_type": "code",
   "execution_count": 60,
   "id": "41974380",
   "metadata": {},
   "outputs": [
    {
     "data": {
      "image/png": "[encoded data removed]",
      "text/plain": [
       "<Figure size 800x400 with 1 Axes>"
      ]
     },
     "metadata": {},
     "output_type": "display_data"
    }
   ],
   "source": [
    "from sklearn.metrics import precision_recall_curve \n",
    "\n",
    "y_scores = best_rf.predict_proba(X_test)[:,1]\n",
    "\n",
    "precision, recall, thresholds = precision_recall_curve(y_test, y_scores)\n",
    "thresholds = list(thresholds) + [1.0] # 길이 맞추기\n",
    "\n",
    "plt.figure(figsize=(8,4))\n",
    "plt.plot(thresholds, precision, label='Precision')\n",
    "plt.plot(thresholds, recall, label='Recall')\n",
    "plt.xlabel(\"Threshold\")\n",
    "plt.ylabel(\"Score\")\n",
    "plt.title(\"Precision and Recall vs Threshold\")\n",
    "plt.legend()\n",
    "plt.grid(True)\n",
    "plt.show()"
   ]
  },
  {
   "cell_type": "code",
   "execution_count": 61,
   "id": "96b0cb74",
   "metadata": {},
   "outputs": [],
   "source": [
    "# threshold = 0.4 실험\n",
    "# 1. 예측 확률 얻기 (결제자 클래스 확률)\n",
    "y_proba = best_rf.predict_proba(X_test)[:, 1]  # 클래스 1(결제자)에 대한 확률\n",
    "\n",
    "# 2. threshold 0.4 적용\n",
    "threshold = 0.4\n",
    "y_pred_threshold = (y_proba >= threshold).astype(int)"
   ]
  },
  {
   "cell_type": "code",
   "execution_count": 62,
   "id": "e7989dcb",
   "metadata": {},
   "outputs": [
    {
     "name": "stdout",
     "output_type": "stream",
     "text": [
      "하이퍼파라미터 튜닝 후 결과\n",
      "\n",
      "              precision    recall  f1-score   support\n",
      "\n",
      "           0       0.65      0.73      0.69       696\n",
      "           1       0.48      0.38      0.42       446\n",
      "\n",
      "    accuracy                           0.59      1142\n",
      "   macro avg       0.56      0.56      0.55      1142\n",
      "weighted avg       0.58      0.59      0.58      1142\n",
      "\n",
      "threshold: 0.4 결과 \n",
      "\n",
      "              precision    recall  f1-score   support\n",
      "\n",
      "           0       0.66      0.60      0.63       696\n",
      "           1       0.46      0.53      0.49       446\n",
      "\n",
      "    accuracy                           0.57      1142\n",
      "   macro avg       0.56      0.56      0.56      1142\n",
      "weighted avg       0.58      0.57      0.57      1142\n",
      "\n"
     ]
    }
   ],
   "source": [
    "from sklearn.metrics import classification_report\n",
    "print('하이퍼파라미터 튜닝 후 결과\\n')\n",
    "print(classification_report(y_test, best_pred))\n",
    "print('threshold: 0.4 결과 \\n')\n",
    "print(classification_report(y_test, y_pred_threshold))"
   ]
  },
  {
   "cell_type": "markdown",
   "id": "307f7366",
   "metadata": {},
   "source": [
    "#### 랜덤포레스트 - 베이지안 최적화"
   ]
  },
  {
   "cell_type": "markdown",
   "id": "2cf9692d",
   "metadata": {},
   "source": [
    "- 수많은 하이퍼파라미터 조합별로 평가하는 데 시간이 오래 걸릴 때 사용 "
   ]
  },
  {
   "cell_type": "code",
   "execution_count": 63,
   "id": "65176421",
   "metadata": {},
   "outputs": [
    {
     "name": "stdout",
     "output_type": "stream",
     "text": [
      "Requirement already satisfied: bayesian-optimization in /opt/anaconda3/envs/codeit_env/lib/python3.12/site-packages (3.0.0)\n",
      "Requirement already satisfied: colorama<1.0.0,>=0.4.6 in /opt/anaconda3/envs/codeit_env/lib/python3.12/site-packages (from bayesian-optimization) (0.4.6)\n",
      "Requirement already satisfied: numpy>=1.25 in /opt/anaconda3/envs/codeit_env/lib/python3.12/site-packages (from bayesian-optimization) (1.26.4)\n",
      "Requirement already satisfied: scikit-learn<2.0.0,>=1.0.0 in /opt/anaconda3/envs/codeit_env/lib/python3.12/site-packages (from bayesian-optimization) (1.6.1)\n",
      "Requirement already satisfied: scipy<2.0.0,>=1.0.0 in /opt/anaconda3/envs/codeit_env/lib/python3.12/site-packages (from bayesian-optimization) (1.15.1)\n",
      "Requirement already satisfied: joblib>=1.2.0 in /opt/anaconda3/envs/codeit_env/lib/python3.12/site-packages (from scikit-learn<2.0.0,>=1.0.0->bayesian-optimization) (1.4.2)\n",
      "Requirement already satisfied: threadpoolctl>=3.1.0 in /opt/anaconda3/envs/codeit_env/lib/python3.12/site-packages (from scikit-learn<2.0.0,>=1.0.0->bayesian-optimization) (3.5.0)\n"
     ]
    }
   ],
   "source": [
    "!pip install bayesian-optimization"
   ]
  },
  {
   "cell_type": "code",
   "execution_count": 64,
   "id": "8667cfd0",
   "metadata": {},
   "outputs": [
    {
     "name": "stdout",
     "output_type": "stream",
     "text": [
      "|   iter    |  target   | n_esti... | max_depth | min_sa... | min_sa... |\n",
      "-------------------------------------------------------------------------\n",
      "| \u001b[39m2        \u001b[39m | \u001b[39m0.3381990\u001b[39m | \u001b[39m83.872040\u001b[39m | \u001b[39m18.093478\u001b[39m | \u001b[39m9.4608451\u001b[39m | \u001b[39m2.7822726\u001b[39m |\n",
      "| \u001b[39m3        \u001b[39m | \u001b[39m0.2770481\u001b[39m | \u001b[39m147.05888\u001b[39m | \u001b[39m7.3791394\u001b[39m | \u001b[39m7.2589406\u001b[39m | \u001b[39m2.9704677\u001b[39m |\n",
      "| \u001b[39m4        \u001b[39m | \u001b[39m0.3247364\u001b[39m | \u001b[39m291.05960\u001b[39m | \u001b[39m16.616736\u001b[39m | \u001b[39m5.6416422\u001b[39m | \u001b[39m4.2042323\u001b[39m |\n",
      "| \u001b[39m5        \u001b[39m | \u001b[39m0.3359629\u001b[39m | \u001b[39m60.429493\u001b[39m | \u001b[39m16.080783\u001b[39m | \u001b[39m2.0253689\u001b[39m | \u001b[39m2.1712375\u001b[39m |\n",
      "| \u001b[35m6        \u001b[39m | \u001b[35m0.3505617\u001b[39m | \u001b[35m202.72858\u001b[39m | \u001b[35m18.521465\u001b[39m | \u001b[35m4.4009200\u001b[39m | \u001b[35m1.9943945\u001b[39m |\n",
      "| \u001b[39m7        \u001b[39m | \u001b[39m0.3410112\u001b[39m | \u001b[39m201.91456\u001b[39m | \u001b[39m18.971923\u001b[39m | \u001b[39m4.6923401\u001b[39m | \u001b[39m2.8814117\u001b[39m |\n",
      "| \u001b[39m8        \u001b[39m | \u001b[39m0.3466292\u001b[39m | \u001b[39m207.05561\u001b[39m | \u001b[39m16.139060\u001b[39m | \u001b[39m2.8623544\u001b[39m | \u001b[39m1.0      \u001b[39m |\n",
      "| \u001b[39m9        \u001b[39m | \u001b[39m0.3084820\u001b[39m | \u001b[39m201.20776\u001b[39m | \u001b[39m12.549503\u001b[39m | \u001b[39m2.7266132\u001b[39m | \u001b[39m1.0      \u001b[39m |\n",
      "| \u001b[35m10       \u001b[39m | \u001b[35m0.3572829\u001b[39m | \u001b[35m206.55995\u001b[39m | \u001b[35m20.0     \u001b[39m | \u001b[35m5.8320426\u001b[39m | \u001b[35m1.0      \u001b[39m |\n",
      "| \u001b[39m11       \u001b[39m | \u001b[39m0.3325889\u001b[39m | \u001b[39m206.65528\u001b[39m | \u001b[39m16.399606\u001b[39m | \u001b[39m10.0     \u001b[39m | \u001b[39m1.0      \u001b[39m |\n",
      "| \u001b[39m12       \u001b[39m | \u001b[39m0.3280977\u001b[39m | \u001b[39m207.84669\u001b[39m | \u001b[39m20.0     \u001b[39m | \u001b[39m2.0      \u001b[39m | \u001b[39m4.7446667\u001b[39m |\n",
      "| \u001b[39m13       \u001b[39m | \u001b[39m0.3527948\u001b[39m | \u001b[39m212.30501\u001b[39m | \u001b[39m20.0     \u001b[39m | \u001b[39m6.6656272\u001b[39m | \u001b[39m1.0      \u001b[39m |\n",
      "| \u001b[39m14       \u001b[39m | \u001b[39m0.3438202\u001b[39m | \u001b[39m215.66019\u001b[39m | \u001b[39m15.447307\u001b[39m | \u001b[39m4.8151813\u001b[39m | \u001b[39m1.0      \u001b[39m |\n",
      "| \u001b[39m15       \u001b[39m | \u001b[39m0.3398939\u001b[39m | \u001b[39m217.57366\u001b[39m | \u001b[39m20.0     \u001b[39m | \u001b[39m10.0     \u001b[39m | \u001b[39m1.0      \u001b[39m |\n",
      "| \u001b[35m16       \u001b[39m | \u001b[35m0.3606332\u001b[39m | \u001b[35m218.60522\u001b[39m | \u001b[35m20.0     \u001b[39m | \u001b[35m2.0      \u001b[39m | \u001b[35m1.0      \u001b[39m |\n",
      "| \u001b[39m17       \u001b[39m | \u001b[39m0.3583891\u001b[39m | \u001b[39m223.79862\u001b[39m | \u001b[39m20.0     \u001b[39m | \u001b[39m2.0      \u001b[39m | \u001b[39m1.0      \u001b[39m |\n",
      "| \u001b[39m18       \u001b[39m | \u001b[39m0.3118245\u001b[39m | \u001b[39m221.58961\u001b[39m | \u001b[39m17.120859\u001b[39m | \u001b[39m2.0      \u001b[39m | \u001b[39m5.0      \u001b[39m |\n",
      "| \u001b[35m19       \u001b[39m | \u001b[35m0.3628820\u001b[39m | \u001b[35m214.58711\u001b[39m | \u001b[35m20.0     \u001b[39m | \u001b[35m2.1395284\u001b[39m | \u001b[35m1.0      \u001b[39m |\n",
      "| \u001b[39m20       \u001b[39m | \u001b[39m0.3589541\u001b[39m | \u001b[39m229.22294\u001b[39m | \u001b[39m20.0     \u001b[39m | \u001b[39m2.0      \u001b[39m | \u001b[39m1.0      \u001b[39m |\n",
      "| \u001b[39m21       \u001b[39m | \u001b[39m0.3404541\u001b[39m | \u001b[39m227.52187\u001b[39m | \u001b[39m20.0     \u001b[39m | \u001b[39m7.2255479\u001b[39m | \u001b[39m1.0      \u001b[39m |\n",
      "| \u001b[39m22       \u001b[39m | \u001b[39m0.3561561\u001b[39m | \u001b[39m235.10111\u001b[39m | \u001b[39m20.0     \u001b[39m | \u001b[39m2.0      \u001b[39m | \u001b[39m1.0      \u001b[39m |\n",
      "| \u001b[39m23       \u001b[39m | \u001b[39m0.3314716\u001b[39m | \u001b[39m232.71281\u001b[39m | \u001b[39m14.479363\u001b[39m | \u001b[39m2.0      \u001b[39m | \u001b[39m1.0      \u001b[39m |\n",
      "| \u001b[39m24       \u001b[39m | \u001b[39m0.3079139\u001b[39m | \u001b[39m239.39071\u001b[39m | \u001b[39m20.0     \u001b[39m | \u001b[39m2.0      \u001b[39m | \u001b[39m5.0      \u001b[39m |\n",
      "| \u001b[39m25       \u001b[39m | \u001b[39m0.3544770\u001b[39m | \u001b[39m232.84242\u001b[39m | \u001b[39m20.0     \u001b[39m | \u001b[39m5.3293806\u001b[39m | \u001b[39m1.0      \u001b[39m |\n",
      "| \u001b[39m26       \u001b[39m | \u001b[39m0.1026516\u001b[39m | \u001b[39m105.97610\u001b[39m | \u001b[39m3.2758061\u001b[39m | \u001b[39m3.8518537\u001b[39m | \u001b[39m3.0123911\u001b[39m |\n",
      "=========================================================================\n",
      "Best Parameters: {'n_estimators': 214.5871199700754, 'max_depth': 20.0, 'min_samples_split': 2.139528407113289, 'min_samples_leaf': 1.0}\n"
     ]
    }
   ],
   "source": [
    "from sklearn.ensemble import RandomForestClassifier\n",
    "from sklearn.model_selection import cross_val_score\n",
    "from bayes_opt import BayesianOptimization\n",
    "import numpy as np\n",
    "\n",
    "# 1. 최적화 대상 함수 정의\n",
    "def rf_cv(n_estimators, max_depth, min_samples_split, min_samples_leaf):\n",
    "    model = RandomForestClassifier(\n",
    "        n_estimators=int(n_estimators),\n",
    "        max_depth=int(max_depth),\n",
    "        min_samples_split=int(min_samples_split),\n",
    "        min_samples_leaf=int(min_samples_leaf),\n",
    "        random_state=2025,\n",
    "        n_jobs=-1\n",
    "    )\n",
    "    # 교차검증 평균 정확도 반환 (여기선 5-fold)\n",
    "    return cross_val_score(model, X_train, y_train, cv=5, scoring='recall').mean()\n",
    "\n",
    "# 2. 탐색 범위 지정\n",
    "param_bounds = {\n",
    "    'n_estimators': (50, 300),\n",
    "    'max_depth': (3, 20),\n",
    "    'min_samples_split': (2, 10),\n",
    "    'min_samples_leaf': (1, 5)\n",
    "}\n",
    "\n",
    "# 3. 베이지안 최적화 실행\n",
    "optimizer = BayesianOptimization(f=rf_cv, pbounds=param_bounds, random_state=2025, verbose=2)\n",
    "optimizer.maximize(init_points=5, n_iter=20)  # 초기 5회 랜덤 탐색 후 20회 탐색\n",
    "\n",
    "# 4. 최적 파라미터 출력\n",
    "print(\"Best Parameters:\", optimizer.max['params'])"
   ]
  },
  {
   "cell_type": "code",
   "execution_count": 65,
   "id": "cbf0584e",
   "metadata": {},
   "outputs": [
    {
     "data": {
      "text/html": [
       "<style>#sk-container-id-1 {\n",
       "  /* Definition of color scheme common for light and dark mode */\n",
       "  --sklearn-color-text: #000;\n",
       "  --sklearn-color-text-muted: #666;\n",
       "  --sklearn-color-line: gray;\n",
       "  /* Definition of color scheme for unfitted estimators */\n",
       "  --sklearn-color-unfitted-level-0: #fff5e6;\n",
       "  --sklearn-color-unfitted-level-1: #f6e4d2;\n",
       "  --sklearn-color-unfitted-level-2: #ffe0b3;\n",
       "  --sklearn-color-unfitted-level-3: chocolate;\n",
       "  /* Definition of color scheme for fitted estimators */\n",
       "  --sklearn-color-fitted-level-0: #f0f8ff;\n",
       "  --sklearn-color-fitted-level-1: #d4ebff;\n",
       "  --sklearn-color-fitted-level-2: #b3dbfd;\n",
       "  --sklearn-color-fitted-level-3: cornflowerblue;\n",
       "\n",
       "  /* Specific color for light theme */\n",
       "  --sklearn-color-text-on-default-background: var(--sg-text-color, var(--theme-code-foreground, var(--jp-content-font-color1, black)));\n",
       "  --sklearn-color-background: var(--sg-background-color, var(--theme-background, var(--jp-layout-color0, white)));\n",
       "  --sklearn-color-border-box: var(--sg-text-color, var(--theme-code-foreground, var(--jp-content-font-color1, black)));\n",
       "  --sklearn-color-icon: #696969;\n",
       "\n",
       "  @media (prefers-color-scheme: dark) {\n",
       "    /* Redefinition of color scheme for dark theme */\n",
       "    --sklearn-color-text-on-default-background: var(--sg-text-color, var(--theme-code-foreground, var(--jp-content-font-color1, white)));\n",
       "    --sklearn-color-background: var(--sg-background-color, var(--theme-background, var(--jp-layout-color0, #111)));\n",
       "    --sklearn-color-border-box: var(--sg-text-color, var(--theme-code-foreground, var(--jp-content-font-color1, white)));\n",
       "    --sklearn-color-icon: #878787;\n",
       "  }\n",
       "}\n",
       "\n",
       "#sk-container-id-1 {\n",
       "  color: var(--sklearn-color-text);\n",
       "}\n",
       "\n",
       "#sk-container-id-1 pre {\n",
       "  padding: 0;\n",
       "}\n",
       "\n",
       "#sk-container-id-1 input.sk-hidden--visually {\n",
       "  border: 0;\n",
       "  clip: rect(1px 1px 1px 1px);\n",
       "  clip: rect(1px, 1px, 1px, 1px);\n",
       "  height: 1px;\n",
       "  margin: -1px;\n",
       "  overflow: hidden;\n",
       "  padding: 0;\n",
       "  position: absolute;\n",
       "  width: 1px;\n",
       "}\n",
       "\n",
       "#sk-container-id-1 div.sk-dashed-wrapped {\n",
       "  border: 1px dashed var(--sklearn-color-line);\n",
       "  margin: 0 0.4em 0.5em 0.4em;\n",
       "  box-sizing: border-box;\n",
       "  padding-bottom: 0.4em;\n",
       "  background-color: var(--sklearn-color-background);\n",
       "}\n",
       "\n",
       "#sk-container-id-1 div.sk-container {\n",
       "  /* jupyter's `normalize.less` sets `[hidden] { display: none; }`\n",
       "     but bootstrap.min.css set `[hidden] { display: none !important; }`\n",
       "     so we also need the `!important` here to be able to override the\n",
       "     default hidden behavior on the sphinx rendered scikit-learn.org.\n",
       "     See: https://github.com/scikit-learn/scikit-learn/issues/21755 */\n",
       "  display: inline-block !important;\n",
       "  position: relative;\n",
       "}\n",
       "\n",
       "#sk-container-id-1 div.sk-text-repr-fallback {\n",
       "  display: none;\n",
       "}\n",
       "\n",
       "div.sk-parallel-item,\n",
       "div.sk-serial,\n",
       "div.sk-item {\n",
       "  /* draw centered vertical line to link estimators */\n",
       "  background-image: linear-gradient(var(--sklearn-color-text-on-default-background), var(--sklearn-color-text-on-default-background));\n",
       "  background-size: 2px 100%;\n",
       "  background-repeat: no-repeat;\n",
       "  background-position: center center;\n",
       "}\n",
       "\n",
       "/* Parallel-specific style estimator block */\n",
       "\n",
       "#sk-container-id-1 div.sk-parallel-item::after {\n",
       "  content: \"\";\n",
       "  width: 100%;\n",
       "  border-bottom: 2px solid var(--sklearn-color-text-on-default-background);\n",
       "  flex-grow: 1;\n",
       "}\n",
       "\n",
       "#sk-container-id-1 div.sk-parallel {\n",
       "  display: flex;\n",
       "  align-items: stretch;\n",
       "  justify-content: center;\n",
       "  background-color: var(--sklearn-color-background);\n",
       "  position: relative;\n",
       "}\n",
       "\n",
       "#sk-container-id-1 div.sk-parallel-item {\n",
       "  display: flex;\n",
       "  flex-direction: column;\n",
       "}\n",
       "\n",
       "#sk-container-id-1 div.sk-parallel-item:first-child::after {\n",
       "  align-self: flex-end;\n",
       "  width: 50%;\n",
       "}\n",
       "\n",
       "#sk-container-id-1 div.sk-parallel-item:last-child::after {\n",
       "  align-self: flex-start;\n",
       "  width: 50%;\n",
       "}\n",
       "\n",
       "#sk-container-id-1 div.sk-parallel-item:only-child::after {\n",
       "  width: 0;\n",
       "}\n",
       "\n",
       "/* Serial-specific style estimator block */\n",
       "\n",
       "#sk-container-id-1 div.sk-serial {\n",
       "  display: flex;\n",
       "  flex-direction: column;\n",
       "  align-items: center;\n",
       "  background-color: var(--sklearn-color-background);\n",
       "  padding-right: 1em;\n",
       "  padding-left: 1em;\n",
       "}\n",
       "\n",
       "\n",
       "/* Toggleable style: style used for estimator/Pipeline/ColumnTransformer box that is\n",
       "clickable and can be expanded/collapsed.\n",
       "- Pipeline and ColumnTransformer use this feature and define the default style\n",
       "- Estimators will overwrite some part of the style using the `sk-estimator` class\n",
       "*/\n",
       "\n",
       "/* Pipeline and ColumnTransformer style (default) */\n",
       "\n",
       "#sk-container-id-1 div.sk-toggleable {\n",
       "  /* Default theme specific background. It is overwritten whether we have a\n",
       "  specific estimator or a Pipeline/ColumnTransformer */\n",
       "  background-color: var(--sklearn-color-background);\n",
       "}\n",
       "\n",
       "/* Toggleable label */\n",
       "#sk-container-id-1 label.sk-toggleable__label {\n",
       "  cursor: pointer;\n",
       "  display: flex;\n",
       "  width: 100%;\n",
       "  margin-bottom: 0;\n",
       "  padding: 0.5em;\n",
       "  box-sizing: border-box;\n",
       "  text-align: center;\n",
       "  align-items: start;\n",
       "  justify-content: space-between;\n",
       "  gap: 0.5em;\n",
       "}\n",
       "\n",
       "#sk-container-id-1 label.sk-toggleable__label .caption {\n",
       "  font-size: 0.6rem;\n",
       "  font-weight: lighter;\n",
       "  color: var(--sklearn-color-text-muted);\n",
       "}\n",
       "\n",
       "#sk-container-id-1 label.sk-toggleable__label-arrow:before {\n",
       "  /* Arrow on the left of the label */\n",
       "  content: \"▸\";\n",
       "  float: left;\n",
       "  margin-right: 0.25em;\n",
       "  color: var(--sklearn-color-icon);\n",
       "}\n",
       "\n",
       "#sk-container-id-1 label.sk-toggleable__label-arrow:hover:before {\n",
       "  color: var(--sklearn-color-text);\n",
       "}\n",
       "\n",
       "/* Toggleable content - dropdown */\n",
       "\n",
       "#sk-container-id-1 div.sk-toggleable__content {\n",
       "  max-height: 0;\n",
       "  max-width: 0;\n",
       "  overflow: hidden;\n",
       "  text-align: left;\n",
       "  /* unfitted */\n",
       "  background-color: var(--sklearn-color-unfitted-level-0);\n",
       "}\n",
       "\n",
       "#sk-container-id-1 div.sk-toggleable__content.fitted {\n",
       "  /* fitted */\n",
       "  background-color: var(--sklearn-color-fitted-level-0);\n",
       "}\n",
       "\n",
       "#sk-container-id-1 div.sk-toggleable__content pre {\n",
       "  margin: 0.2em;\n",
       "  border-radius: 0.25em;\n",
       "  color: var(--sklearn-color-text);\n",
       "  /* unfitted */\n",
       "  background-color: var(--sklearn-color-unfitted-level-0);\n",
       "}\n",
       "\n",
       "#sk-container-id-1 div.sk-toggleable__content.fitted pre {\n",
       "  /* unfitted */\n",
       "  background-color: var(--sklearn-color-fitted-level-0);\n",
       "}\n",
       "\n",
       "#sk-container-id-1 input.sk-toggleable__control:checked~div.sk-toggleable__content {\n",
       "  /* Expand drop-down */\n",
       "  max-height: 200px;\n",
       "  max-width: 100%;\n",
       "  overflow: auto;\n",
       "}\n",
       "\n",
       "#sk-container-id-1 input.sk-toggleable__control:checked~label.sk-toggleable__label-arrow:before {\n",
       "  content: \"▾\";\n",
       "}\n",
       "\n",
       "/* Pipeline/ColumnTransformer-specific style */\n",
       "\n",
       "#sk-container-id-1 div.sk-label input.sk-toggleable__control:checked~label.sk-toggleable__label {\n",
       "  color: var(--sklearn-color-text);\n",
       "  background-color: var(--sklearn-color-unfitted-level-2);\n",
       "}\n",
       "\n",
       "#sk-container-id-1 div.sk-label.fitted input.sk-toggleable__control:checked~label.sk-toggleable__label {\n",
       "  background-color: var(--sklearn-color-fitted-level-2);\n",
       "}\n",
       "\n",
       "/* Estimator-specific style */\n",
       "\n",
       "/* Colorize estimator box */\n",
       "#sk-container-id-1 div.sk-estimator input.sk-toggleable__control:checked~label.sk-toggleable__label {\n",
       "  /* unfitted */\n",
       "  background-color: var(--sklearn-color-unfitted-level-2);\n",
       "}\n",
       "\n",
       "#sk-container-id-1 div.sk-estimator.fitted input.sk-toggleable__control:checked~label.sk-toggleable__label {\n",
       "  /* fitted */\n",
       "  background-color: var(--sklearn-color-fitted-level-2);\n",
       "}\n",
       "\n",
       "#sk-container-id-1 div.sk-label label.sk-toggleable__label,\n",
       "#sk-container-id-1 div.sk-label label {\n",
       "  /* The background is the default theme color */\n",
       "  color: var(--sklearn-color-text-on-default-background);\n",
       "}\n",
       "\n",
       "/* On hover, darken the color of the background */\n",
       "#sk-container-id-1 div.sk-label:hover label.sk-toggleable__label {\n",
       "  color: var(--sklearn-color-text);\n",
       "  background-color: var(--sklearn-color-unfitted-level-2);\n",
       "}\n",
       "\n",
       "/* Label box, darken color on hover, fitted */\n",
       "#sk-container-id-1 div.sk-label.fitted:hover label.sk-toggleable__label.fitted {\n",
       "  color: var(--sklearn-color-text);\n",
       "  background-color: var(--sklearn-color-fitted-level-2);\n",
       "}\n",
       "\n",
       "/* Estimator label */\n",
       "\n",
       "#sk-container-id-1 div.sk-label label {\n",
       "  font-family: monospace;\n",
       "  font-weight: bold;\n",
       "  display: inline-block;\n",
       "  line-height: 1.2em;\n",
       "}\n",
       "\n",
       "#sk-container-id-1 div.sk-label-container {\n",
       "  text-align: center;\n",
       "}\n",
       "\n",
       "/* Estimator-specific */\n",
       "#sk-container-id-1 div.sk-estimator {\n",
       "  font-family: monospace;\n",
       "  border: 1px dotted var(--sklearn-color-border-box);\n",
       "  border-radius: 0.25em;\n",
       "  box-sizing: border-box;\n",
       "  margin-bottom: 0.5em;\n",
       "  /* unfitted */\n",
       "  background-color: var(--sklearn-color-unfitted-level-0);\n",
       "}\n",
       "\n",
       "#sk-container-id-1 div.sk-estimator.fitted {\n",
       "  /* fitted */\n",
       "  background-color: var(--sklearn-color-fitted-level-0);\n",
       "}\n",
       "\n",
       "/* on hover */\n",
       "#sk-container-id-1 div.sk-estimator:hover {\n",
       "  /* unfitted */\n",
       "  background-color: var(--sklearn-color-unfitted-level-2);\n",
       "}\n",
       "\n",
       "#sk-container-id-1 div.sk-estimator.fitted:hover {\n",
       "  /* fitted */\n",
       "  background-color: var(--sklearn-color-fitted-level-2);\n",
       "}\n",
       "\n",
       "/* Specification for estimator info (e.g. \"i\" and \"?\") */\n",
       "\n",
       "/* Common style for \"i\" and \"?\" */\n",
       "\n",
       ".sk-estimator-doc-link,\n",
       "a:link.sk-estimator-doc-link,\n",
       "a:visited.sk-estimator-doc-link {\n",
       "  float: right;\n",
       "  font-size: smaller;\n",
       "  line-height: 1em;\n",
       "  font-family: monospace;\n",
       "  background-color: var(--sklearn-color-background);\n",
       "  border-radius: 1em;\n",
       "  height: 1em;\n",
       "  width: 1em;\n",
       "  text-decoration: none !important;\n",
       "  margin-left: 0.5em;\n",
       "  text-align: center;\n",
       "  /* unfitted */\n",
       "  border: var(--sklearn-color-unfitted-level-1) 1pt solid;\n",
       "  color: var(--sklearn-color-unfitted-level-1);\n",
       "}\n",
       "\n",
       ".sk-estimator-doc-link.fitted,\n",
       "a:link.sk-estimator-doc-link.fitted,\n",
       "a:visited.sk-estimator-doc-link.fitted {\n",
       "  /* fitted */\n",
       "  border: var(--sklearn-color-fitted-level-1) 1pt solid;\n",
       "  color: var(--sklearn-color-fitted-level-1);\n",
       "}\n",
       "\n",
       "/* On hover */\n",
       "div.sk-estimator:hover .sk-estimator-doc-link:hover,\n",
       ".sk-estimator-doc-link:hover,\n",
       "div.sk-label-container:hover .sk-estimator-doc-link:hover,\n",
       ".sk-estimator-doc-link:hover {\n",
       "  /* unfitted */\n",
       "  background-color: var(--sklearn-color-unfitted-level-3);\n",
       "  color: var(--sklearn-color-background);\n",
       "  text-decoration: none;\n",
       "}\n",
       "\n",
       "div.sk-estimator.fitted:hover .sk-estimator-doc-link.fitted:hover,\n",
       ".sk-estimator-doc-link.fitted:hover,\n",
       "div.sk-label-container:hover .sk-estimator-doc-link.fitted:hover,\n",
       ".sk-estimator-doc-link.fitted:hover {\n",
       "  /* fitted */\n",
       "  background-color: var(--sklearn-color-fitted-level-3);\n",
       "  color: var(--sklearn-color-background);\n",
       "  text-decoration: none;\n",
       "}\n",
       "\n",
       "/* Span, style for the box shown on hovering the info icon */\n",
       ".sk-estimator-doc-link span {\n",
       "  display: none;\n",
       "  z-index: 9999;\n",
       "  position: relative;\n",
       "  font-weight: normal;\n",
       "  right: .2ex;\n",
       "  padding: .5ex;\n",
       "  margin: .5ex;\n",
       "  width: min-content;\n",
       "  min-width: 20ex;\n",
       "  max-width: 50ex;\n",
       "  color: var(--sklearn-color-text);\n",
       "  box-shadow: 2pt 2pt 4pt #999;\n",
       "  /* unfitted */\n",
       "  background: var(--sklearn-color-unfitted-level-0);\n",
       "  border: .5pt solid var(--sklearn-color-unfitted-level-3);\n",
       "}\n",
       "\n",
       ".sk-estimator-doc-link.fitted span {\n",
       "  /* fitted */\n",
       "  background: var(--sklearn-color-fitted-level-0);\n",
       "  border: var(--sklearn-color-fitted-level-3);\n",
       "}\n",
       "\n",
       ".sk-estimator-doc-link:hover span {\n",
       "  display: block;\n",
       "}\n",
       "\n",
       "/* \"?\"-specific style due to the `<a>` HTML tag */\n",
       "\n",
       "#sk-container-id-1 a.estimator_doc_link {\n",
       "  float: right;\n",
       "  font-size: 1rem;\n",
       "  line-height: 1em;\n",
       "  font-family: monospace;\n",
       "  background-color: var(--sklearn-color-background);\n",
       "  border-radius: 1rem;\n",
       "  height: 1rem;\n",
       "  width: 1rem;\n",
       "  text-decoration: none;\n",
       "  /* unfitted */\n",
       "  color: var(--sklearn-color-unfitted-level-1);\n",
       "  border: var(--sklearn-color-unfitted-level-1) 1pt solid;\n",
       "}\n",
       "\n",
       "#sk-container-id-1 a.estimator_doc_link.fitted {\n",
       "  /* fitted */\n",
       "  border: var(--sklearn-color-fitted-level-1) 1pt solid;\n",
       "  color: var(--sklearn-color-fitted-level-1);\n",
       "}\n",
       "\n",
       "/* On hover */\n",
       "#sk-container-id-1 a.estimator_doc_link:hover {\n",
       "  /* unfitted */\n",
       "  background-color: var(--sklearn-color-unfitted-level-3);\n",
       "  color: var(--sklearn-color-background);\n",
       "  text-decoration: none;\n",
       "}\n",
       "\n",
       "#sk-container-id-1 a.estimator_doc_link.fitted:hover {\n",
       "  /* fitted */\n",
       "  background-color: var(--sklearn-color-fitted-level-3);\n",
       "}\n",
       "</style><div id=\"sk-container-id-1\" class=\"sk-top-container\"><div class=\"sk-text-repr-fallback\"><pre>RandomForestClassifier(max_depth=20, n_estimators=214, n_jobs=-1,\n",
       "                       random_state=2025)</pre><b>In a Jupyter environment, please rerun this cell to show the HTML representation or trust the notebook. <br />On GitHub, the HTML representation is unable to render, please try loading this page with nbviewer.org.</b></div><div class=\"sk-container\" hidden><div class=\"sk-item\"><div class=\"sk-estimator fitted sk-toggleable\"><input class=\"sk-toggleable__control sk-hidden--visually\" id=\"sk-estimator-id-1\" type=\"checkbox\" checked><label for=\"sk-estimator-id-1\" class=\"sk-toggleable__label fitted sk-toggleable__label-arrow\"><div><div>RandomForestClassifier</div></div><div><a class=\"sk-estimator-doc-link fitted\" rel=\"noreferrer\" target=\"_blank\" href=\"https://scikit-learn.org/1.6/modules/generated/sklearn.ensemble.RandomForestClassifier.html\">?<span>Documentation for RandomForestClassifier</span></a><span class=\"sk-estimator-doc-link fitted\">i<span>Fitted</span></span></div></label><div class=\"sk-toggleable__content fitted\"><pre>RandomForestClassifier(max_depth=20, n_estimators=214, n_jobs=-1,\n",
       "                       random_state=2025)</pre></div> </div></div></div></div>"
      ],
      "text/plain": [
       "RandomForestClassifier(max_depth=20, n_estimators=214, n_jobs=-1,\n",
       "                       random_state=2025)"
      ]
     },
     "execution_count": 65,
     "metadata": {},
     "output_type": "execute_result"
    }
   ],
   "source": [
    "best_params = optimizer.max['params']\n",
    "\n",
    "rf_best = RandomForestClassifier(\n",
    "    n_estimators=int(best_params['n_estimators']),\n",
    "    max_depth=int(best_params['max_depth']),\n",
    "    min_samples_split=int(best_params['min_samples_split']),\n",
    "    min_samples_leaf=int(best_params['min_samples_leaf']),\n",
    "    random_state=2025,\n",
    "    n_jobs=-1\n",
    ")\n",
    "\n",
    "rf_best.fit(X_train, y_train)"
   ]
  },
  {
   "cell_type": "code",
   "execution_count": 66,
   "id": "177264cf",
   "metadata": {},
   "outputs": [
    {
     "name": "stdout",
     "output_type": "stream",
     "text": [
      "              precision    recall  f1-score   support\n",
      "\n",
      "           0       0.65      0.74      0.69       696\n",
      "           1       0.49      0.39      0.44       446\n",
      "\n",
      "    accuracy                           0.60      1142\n",
      "   macro avg       0.57      0.56      0.56      1142\n",
      "weighted avg       0.59      0.60      0.59      1142\n",
      "\n",
      "[[513 183]\n",
      " [271 175]]\n"
     ]
    }
   ],
   "source": [
    "from sklearn.metrics import classification_report, confusion_matrix\n",
    "\n",
    "# 예측 수행\n",
    "y_pred = rf_best.predict(X_test)\n",
    "\n",
    "# classification report 출력\n",
    "print(classification_report(y_test, y_pred))\n",
    "\n",
    "# (선택) confusion matrix도 함께 보고 싶다면\n",
    "print(confusion_matrix(y_test, y_pred))"
   ]
  },
  {
   "cell_type": "code",
   "execution_count": 67,
   "id": "33ad3e01",
   "metadata": {},
   "outputs": [
    {
     "data": {
      "image/png": "[encoded data removed]",
      "text/plain": [
       "<Figure size 800x500 with 1 Axes>"
      ]
     },
     "metadata": {},
     "output_type": "display_data"
    }
   ],
   "source": [
    "from sklearn.metrics import precision_recall_curve, PrecisionRecallDisplay\n",
    "# 예: RandomForestClassifier에서 예측 확률 얻기\n",
    "y_proba = rf_best.predict_proba(X_test)[:, 1]  # 클래스 1(유료 결제자)일 확률\n",
    "\n",
    "precision, recall, thresholds = precision_recall_curve(y_test, y_proba)\n",
    "\n",
    "plt.figure(figsize=(8, 5))\n",
    "plt.plot(thresholds, precision[:-1], label=\"Precision\", marker='o')\n",
    "plt.plot(thresholds, recall[:-1], label=\"Recall\", marker='x')\n",
    "plt.xlabel(\"Threshold\")\n",
    "plt.ylabel(\"Score\")\n",
    "plt.title(\"Precision-Recall vs Threshold\")\n",
    "plt.legend()\n",
    "plt.grid()\n",
    "plt.show()\n"
   ]
  },
  {
   "cell_type": "code",
   "execution_count": 68,
   "id": "39998378",
   "metadata": {},
   "outputs": [
    {
     "name": "stdout",
     "output_type": "stream",
     "text": [
      "              precision    recall  f1-score   support\n",
      "\n",
      "           0       0.66      0.60      0.63       696\n",
      "           1       0.45      0.52      0.48       446\n",
      "\n",
      "    accuracy                           0.57      1142\n",
      "   macro avg       0.56      0.56      0.56      1142\n",
      "weighted avg       0.58      0.57      0.57      1142\n",
      "\n"
     ]
    }
   ],
   "source": [
    "# 클래스1의 recall이 0.6 이상임\n",
    "threshold = 0.4\n",
    "y_pred_threshold = (y_proba >= threshold).astype(int)\n",
    "\n",
    "from sklearn.metrics import classification_report\n",
    "print(classification_report(y_test, y_pred_threshold))\n"
   ]
  },
  {
   "cell_type": "markdown",
   "id": "ae67c9d2",
   "metadata": {},
   "source": [
    "#### XGBoost - 베이지안 최적화"
   ]
  },
  {
   "cell_type": "code",
   "execution_count": 69,
   "id": "9200a794",
   "metadata": {},
   "outputs": [
    {
     "name": "stdout",
     "output_type": "stream",
     "text": [
      "|   iter    |  target   | max_depth | learni... | n_esti... |   gamma   | subsample | colsam... |\n",
      "-------------------------------------------------------------------------------------------------\n",
      "| \u001b[39m2        \u001b[39m | \u001b[39m0.3174395\u001b[39m | \u001b[39m5.6217808\u001b[39m | \u001b[39m0.2857071\u001b[39m | \u001b[39m232.99848\u001b[39m | \u001b[39m2.9932924\u001b[39m | \u001b[39m0.5780093\u001b[39m | \u001b[39m0.5779972\u001b[39m |\n",
      "| \u001b[35m3        \u001b[39m | \u001b[35m0.3185647\u001b[39m | \u001b[35m3.4065852\u001b[39m | \u001b[35m0.2611910\u001b[39m | \u001b[35m200.27875\u001b[39m | \u001b[35m3.5403628\u001b[39m | \u001b[35m0.5102922\u001b[39m | \u001b[35m0.9849549\u001b[39m |\n",
      "| \u001b[35m4        \u001b[39m | \u001b[35m0.3438021\u001b[39m | \u001b[35m8.8270984\u001b[39m | \u001b[35m0.0715783\u001b[39m | \u001b[35m95.456241\u001b[39m | \u001b[35m0.9170225\u001b[39m | \u001b[35m0.6521211\u001b[39m | \u001b[35m0.7623782\u001b[39m |\n",
      "| \u001b[35m5        \u001b[39m | \u001b[35m0.3589395\u001b[39m | \u001b[35m6.0236151\u001b[39m | \u001b[35m0.0944564\u001b[39m | \u001b[35m202.96322\u001b[39m | \u001b[35m0.6974693\u001b[39m | \u001b[35m0.6460723\u001b[39m | \u001b[35m0.6831809\u001b[39m |\n",
      "| \u001b[39m6        \u001b[39m | \u001b[39m0.3056673\u001b[39m | \u001b[39m6.1924898\u001b[39m | \u001b[39m0.2377010\u001b[39m | \u001b[39m99.918445\u001b[39m | \u001b[39m2.5711721\u001b[39m | \u001b[39m0.7962072\u001b[39m | \u001b[39m0.5232252\u001b[39m |\n",
      "| \u001b[39m7        \u001b[39m | \u001b[39m0.3477246\u001b[39m | \u001b[39m8.6587814\u001b[39m | \u001b[39m0.1099882\u001b[39m | \u001b[39m253.18251\u001b[39m | \u001b[39m1.6944671\u001b[39m | \u001b[39m0.7126072\u001b[39m | \u001b[39m0.6976953\u001b[39m |\n",
      "| \u001b[39m8        \u001b[39m | \u001b[39m0.3286610\u001b[39m | \u001b[39m4.5304295\u001b[39m | \u001b[39m0.1142228\u001b[39m | \u001b[39m151.63796\u001b[39m | \u001b[39m1.2576408\u001b[39m | \u001b[39m0.7279349\u001b[39m | \u001b[39m0.8834803\u001b[39m |\n",
      "| \u001b[35m9        \u001b[39m | \u001b[35m0.3802648\u001b[39m | \u001b[35m7.1053614\u001b[39m | \u001b[35m0.2944503\u001b[39m | \u001b[35m96.627588\u001b[39m | \u001b[35m0.5355078\u001b[39m | \u001b[35m0.7626461\u001b[39m | \u001b[35m0.5797710\u001b[39m |\n",
      "| \u001b[35m10       \u001b[39m | \u001b[35m0.3825057\u001b[39m | \u001b[35m6.8685616\u001b[39m | \u001b[35m0.3      \u001b[39m | \u001b[35m95.972962\u001b[39m | \u001b[35m0.0      \u001b[39m | \u001b[35m0.7974760\u001b[39m | \u001b[35m0.5281906\u001b[39m |\n",
      "| \u001b[35m11       \u001b[39m | \u001b[35m0.3886663\u001b[39m | \u001b[35m5.5221060\u001b[39m | \u001b[35m0.3      \u001b[39m | \u001b[35m96.579006\u001b[39m | \u001b[35m0.0      \u001b[39m | \u001b[35m0.5      \u001b[39m | \u001b[35m1.0      \u001b[39m |\n",
      "| \u001b[39m12       \u001b[39m | \u001b[39m0.2821124\u001b[39m | \u001b[39m4.8553784\u001b[39m | \u001b[39m0.3      \u001b[39m | \u001b[39m95.039935\u001b[39m | \u001b[39m1.2665563\u001b[39m | \u001b[39m1.0      \u001b[39m | \u001b[39m0.5      \u001b[39m |\n",
      "| \u001b[39m13       \u001b[39m | \u001b[39m0.1794744\u001b[39m | \u001b[39m6.3612465\u001b[39m | \u001b[39m0.01     \u001b[39m | \u001b[39m97.234388\u001b[39m | \u001b[39m0.0      \u001b[39m | \u001b[39m0.5      \u001b[39m | \u001b[39m1.0      \u001b[39m |\n",
      "| \u001b[39m14       \u001b[39m | \u001b[39m0.3449150\u001b[39m | \u001b[39m7.7498888\u001b[39m | \u001b[39m0.1869312\u001b[39m | \u001b[39m251.90365\u001b[39m | \u001b[39m2.4162638\u001b[39m | \u001b[39m0.6537585\u001b[39m | \u001b[39m0.9972764\u001b[39m |\n",
      "| \u001b[39m15       \u001b[39m | \u001b[39m0.3690452\u001b[39m | \u001b[39m6.9653341\u001b[39m | \u001b[39m0.2981831\u001b[39m | \u001b[39m96.236739\u001b[39m | \u001b[39m0.2172978\u001b[39m | \u001b[39m0.7837717\u001b[39m | \u001b[39m0.5484408\u001b[39m |\n",
      "| \u001b[39m16       \u001b[39m | \u001b[39m0.3802582\u001b[39m | \u001b[39m5.1884811\u001b[39m | \u001b[39m0.3      \u001b[39m | \u001b[39m96.258305\u001b[39m | \u001b[39m0.0      \u001b[39m | \u001b[39m0.5026509\u001b[39m | \u001b[39m0.9888779\u001b[39m |\n",
      "| \u001b[39m17       \u001b[39m | \u001b[39m0.2972592\u001b[39m | \u001b[39m4.0944913\u001b[39m | \u001b[39m0.1010148\u001b[39m | \u001b[39m243.08263\u001b[39m | \u001b[39m2.9371650\u001b[39m | \u001b[39m0.7008983\u001b[39m | \u001b[39m0.8380496\u001b[39m |\n",
      "| \u001b[39m18       \u001b[39m | \u001b[39m0.2882909\u001b[39m | \u001b[39m3.2091400\u001b[39m | \u001b[39m0.1603093\u001b[39m | \u001b[39m63.369736\u001b[39m | \u001b[39m0.3986832\u001b[39m | \u001b[39m0.9784496\u001b[39m | \u001b[39m0.7107475\u001b[39m |\n",
      "| \u001b[39m19       \u001b[39m | \u001b[39m0.3841826\u001b[39m | \u001b[39m5.7354296\u001b[39m | \u001b[39m0.3      \u001b[39m | \u001b[39m96.093768\u001b[39m | \u001b[39m0.0021618\u001b[39m | \u001b[39m0.6185214\u001b[39m | \u001b[39m0.8110051\u001b[39m |\n",
      "| \u001b[39m20       \u001b[39m | \u001b[39m0.2978100\u001b[39m | \u001b[39m7.4196023\u001b[39m | \u001b[39m0.2399586\u001b[39m | \u001b[39m231.28957\u001b[39m | \u001b[39m3.4339060\u001b[39m | \u001b[39m0.7185979\u001b[39m | \u001b[39m0.8271671\u001b[39m |\n",
      "| \u001b[39m21       \u001b[39m | \u001b[39m0.2742683\u001b[39m | \u001b[39m4.0071736\u001b[39m | \u001b[39m0.0233138\u001b[39m | \u001b[39m197.47141\u001b[39m | \u001b[39m2.1095165\u001b[39m | \u001b[39m0.9404934\u001b[39m | \u001b[39m0.6297627\u001b[39m |\n",
      "| \u001b[39m22       \u001b[39m | \u001b[39m0.3774571\u001b[39m | \u001b[39m6.2499571\u001b[39m | \u001b[39m0.2725902\u001b[39m | \u001b[39m85.037458\u001b[39m | \u001b[39m0.4044557\u001b[39m | \u001b[39m0.5404867\u001b[39m | \u001b[39m0.9982150\u001b[39m |\n",
      "| \u001b[39m23       \u001b[39m | \u001b[39m0.3617387\u001b[39m | \u001b[39m8.6492102\u001b[39m | \u001b[39m0.0993910\u001b[39m | \u001b[39m95.139827\u001b[39m | \u001b[39m0.7348974\u001b[39m | \u001b[39m0.5354507\u001b[39m | \u001b[39m0.6695292\u001b[39m |\n",
      "| \u001b[39m24       \u001b[39m | \u001b[39m0.3533372\u001b[39m | \u001b[39m5.3394803\u001b[39m | \u001b[39m0.3      \u001b[39m | \u001b[39m96.476613\u001b[39m | \u001b[39m0.0      \u001b[39m | \u001b[39m0.8653594\u001b[39m | \u001b[39m0.5      \u001b[39m |\n",
      "| \u001b[35m25       \u001b[39m | \u001b[35m0.4037970\u001b[39m | \u001b[35m6.3888468\u001b[39m | \u001b[35m0.3      \u001b[39m | \u001b[35m95.614379\u001b[39m | \u001b[35m0.2704490\u001b[39m | \u001b[35m0.6088683\u001b[39m | \u001b[35m0.7002285\u001b[39m |\n",
      "| \u001b[39m26       \u001b[39m | \u001b[39m0.2888492\u001b[39m | \u001b[39m3.1011760\u001b[39m | \u001b[39m0.0762919\u001b[39m | \u001b[39m164.85087\u001b[39m | \u001b[39m4.1801748\u001b[39m | \u001b[39m0.6850052\u001b[39m | \u001b[39m0.6082930\u001b[39m |\n",
      "| \u001b[39m27       \u001b[39m | \u001b[39m0.3875562\u001b[39m | \u001b[39m7.0106626\u001b[39m | \u001b[39m0.3      \u001b[39m | \u001b[39m95.409694\u001b[39m | \u001b[39m0.4955423\u001b[39m | \u001b[39m0.6163482\u001b[39m | \u001b[39m0.6306169\u001b[39m |\n",
      "| \u001b[39m28       \u001b[39m | \u001b[39m0.3056682\u001b[39m | \u001b[39m6.5282412\u001b[39m | \u001b[39m0.3      \u001b[39m | \u001b[39m95.834081\u001b[39m | \u001b[39m0.8246413\u001b[39m | \u001b[39m1.0      \u001b[39m | \u001b[39m0.5      \u001b[39m |\n",
      "| \u001b[39m29       \u001b[39m | \u001b[39m0.3067905\u001b[39m | \u001b[39m8.6700360\u001b[39m | \u001b[39m0.0548569\u001b[39m | \u001b[39m138.86576\u001b[39m | \u001b[39m1.7963820\u001b[39m | \u001b[39m0.7356435\u001b[39m | \u001b[39m0.6112150\u001b[39m |\n",
      "| \u001b[39m30       \u001b[39m | \u001b[39m0.3998764\u001b[39m | \u001b[39m6.7391309\u001b[39m | \u001b[39m0.3      \u001b[39m | \u001b[39m95.464917\u001b[39m | \u001b[39m0.0      \u001b[39m | \u001b[39m0.5      \u001b[39m | \u001b[39m1.0      \u001b[39m |\n",
      "| \u001b[39m31       \u001b[39m | \u001b[39m0.3353959\u001b[39m | \u001b[39m9.3836510\u001b[39m | \u001b[39m0.0903098\u001b[39m | \u001b[39m265.17574\u001b[39m | \u001b[39m1.4690435\u001b[39m | \u001b[39m0.8056472\u001b[39m | \u001b[39m0.8420159\u001b[39m |\n",
      "=================================================================================================\n",
      "최적 파라미터: {'max_depth': 6.388846862425649, 'learning_rate': 0.3, 'n_estimators': 95.6143796877849, 'gamma': 0.27044905149971354, 'subsample': 0.6088683031774551, 'colsample_bytree': 0.7002285543964225}\n"
     ]
    }
   ],
   "source": [
    "from xgboost import XGBClassifier\n",
    "from sklearn.model_selection import cross_val_score\n",
    "from bayes_opt import BayesianOptimization\n",
    "import numpy as np\n",
    "\n",
    "# X_train, y_train은 사전에 준비된 학습 데이터라고 가정\n",
    "\n",
    "# 1. 베이지안 최적화를 위한 함수 정의\n",
    "def xgb_cv(max_depth, learning_rate, n_estimators, gamma, subsample, colsample_bytree):\n",
    "    model = XGBClassifier(\n",
    "        objective='binary:logistic',\n",
    "        eval_metric='logloss',\n",
    "        max_depth=int(max_depth),\n",
    "        learning_rate=learning_rate,\n",
    "        n_estimators=int(n_estimators),\n",
    "        gamma=gamma,\n",
    "        subsample=subsample,\n",
    "        colsample_bytree=colsample_bytree,\n",
    "        random_state=42,\n",
    "        n_jobs=-1\n",
    "    )\n",
    "    scores = cross_val_score(model, X_train, y_train, cv=3, scoring='recall')\n",
    "    return scores.mean()\n",
    "\n",
    "# 2. 최적화할 하이퍼파라미터 범위 정의\n",
    "pbounds = {\n",
    "    'max_depth': (3, 10),\n",
    "    'learning_rate': (0.01, 0.3),\n",
    "    'n_estimators': (50, 300),\n",
    "    'gamma': (0, 5),\n",
    "    'subsample': (0.5, 1),\n",
    "    'colsample_bytree': (0.5, 1)\n",
    "}\n",
    "\n",
    "# 3. 베이지안 최적화 실행\n",
    "optimizer = BayesianOptimization(\n",
    "    f=xgb_cv,\n",
    "    pbounds=pbounds,\n",
    "    random_state=42,\n",
    "    verbose=2\n",
    ")\n",
    "\n",
    "optimizer.maximize(init_points=5, n_iter=25)  # 초기 5회 랜덤 → 25회 최적화\n",
    "\n",
    "# 4. 최적 하이퍼파라미터 확인\n",
    "print(\"최적 파라미터:\", optimizer.max['params'])"
   ]
  },
  {
   "cell_type": "code",
   "execution_count": 70,
   "id": "b8551b44",
   "metadata": {},
   "outputs": [
    {
     "name": "stderr",
     "output_type": "stream",
     "text": [
      "/opt/anaconda3/envs/codeit_env/lib/python3.12/site-packages/xgboost/training.py:183: UserWarning: [11:50:43] WARNING: /Users/runner/work/xgboost/xgboost/src/learner.cc:738: \n",
      "Parameters: { \"use_label_encoder\" } are not used.\n",
      "\n",
      "  bst.update(dtrain, iteration=i, fobj=obj)\n"
     ]
    },
    {
     "data": {
      "text/html": [
       "<style>#sk-container-id-2 {\n",
       "  /* Definition of color scheme common for light and dark mode */\n",
       "  --sklearn-color-text: #000;\n",
       "  --sklearn-color-text-muted: #666;\n",
       "  --sklearn-color-line: gray;\n",
       "  /* Definition of color scheme for unfitted estimators */\n",
       "  --sklearn-color-unfitted-level-0: #fff5e6;\n",
       "  --sklearn-color-unfitted-level-1: #f6e4d2;\n",
       "  --sklearn-color-unfitted-level-2: #ffe0b3;\n",
       "  --sklearn-color-unfitted-level-3: chocolate;\n",
       "  /* Definition of color scheme for fitted estimators */\n",
       "  --sklearn-color-fitted-level-0: #f0f8ff;\n",
       "  --sklearn-color-fitted-level-1: #d4ebff;\n",
       "  --sklearn-color-fitted-level-2: #b3dbfd;\n",
       "  --sklearn-color-fitted-level-3: cornflowerblue;\n",
       "\n",
       "  /* Specific color for light theme */\n",
       "  --sklearn-color-text-on-default-background: var(--sg-text-color, var(--theme-code-foreground, var(--jp-content-font-color1, black)));\n",
       "  --sklearn-color-background: var(--sg-background-color, var(--theme-background, var(--jp-layout-color0, white)));\n",
       "  --sklearn-color-border-box: var(--sg-text-color, var(--theme-code-foreground, var(--jp-content-font-color1, black)));\n",
       "  --sklearn-color-icon: #696969;\n",
       "\n",
       "  @media (prefers-color-scheme: dark) {\n",
       "    /* Redefinition of color scheme for dark theme */\n",
       "    --sklearn-color-text-on-default-background: var(--sg-text-color, var(--theme-code-foreground, var(--jp-content-font-color1, white)));\n",
       "    --sklearn-color-background: var(--sg-background-color, var(--theme-background, var(--jp-layout-color0, #111)));\n",
       "    --sklearn-color-border-box: var(--sg-text-color, var(--theme-code-foreground, var(--jp-content-font-color1, white)));\n",
       "    --sklearn-color-icon: #878787;\n",
       "  }\n",
       "}\n",
       "\n",
       "#sk-container-id-2 {\n",
       "  color: var(--sklearn-color-text);\n",
       "}\n",
       "\n",
       "#sk-container-id-2 pre {\n",
       "  padding: 0;\n",
       "}\n",
       "\n",
       "#sk-container-id-2 input.sk-hidden--visually {\n",
       "  border: 0;\n",
       "  clip: rect(1px 1px 1px 1px);\n",
       "  clip: rect(1px, 1px, 1px, 1px);\n",
       "  height: 1px;\n",
       "  margin: -1px;\n",
       "  overflow: hidden;\n",
       "  padding: 0;\n",
       "  position: absolute;\n",
       "  width: 1px;\n",
       "}\n",
       "\n",
       "#sk-container-id-2 div.sk-dashed-wrapped {\n",
       "  border: 1px dashed var(--sklearn-color-line);\n",
       "  margin: 0 0.4em 0.5em 0.4em;\n",
       "  box-sizing: border-box;\n",
       "  padding-bottom: 0.4em;\n",
       "  background-color: var(--sklearn-color-background);\n",
       "}\n",
       "\n",
       "#sk-container-id-2 div.sk-container {\n",
       "  /* jupyter's `normalize.less` sets `[hidden] { display: none; }`\n",
       "     but bootstrap.min.css set `[hidden] { display: none !important; }`\n",
       "     so we also need the `!important` here to be able to override the\n",
       "     default hidden behavior on the sphinx rendered scikit-learn.org.\n",
       "     See: https://github.com/scikit-learn/scikit-learn/issues/21755 */\n",
       "  display: inline-block !important;\n",
       "  position: relative;\n",
       "}\n",
       "\n",
       "#sk-container-id-2 div.sk-text-repr-fallback {\n",
       "  display: none;\n",
       "}\n",
       "\n",
       "div.sk-parallel-item,\n",
       "div.sk-serial,\n",
       "div.sk-item {\n",
       "  /* draw centered vertical line to link estimators */\n",
       "  background-image: linear-gradient(var(--sklearn-color-text-on-default-background), var(--sklearn-color-text-on-default-background));\n",
       "  background-size: 2px 100%;\n",
       "  background-repeat: no-repeat;\n",
       "  background-position: center center;\n",
       "}\n",
       "\n",
       "/* Parallel-specific style estimator block */\n",
       "\n",
       "#sk-container-id-2 div.sk-parallel-item::after {\n",
       "  content: \"\";\n",
       "  width: 100%;\n",
       "  border-bottom: 2px solid var(--sklearn-color-text-on-default-background);\n",
       "  flex-grow: 1;\n",
       "}\n",
       "\n",
       "#sk-container-id-2 div.sk-parallel {\n",
       "  display: flex;\n",
       "  align-items: stretch;\n",
       "  justify-content: center;\n",
       "  background-color: var(--sklearn-color-background);\n",
       "  position: relative;\n",
       "}\n",
       "\n",
       "#sk-container-id-2 div.sk-parallel-item {\n",
       "  display: flex;\n",
       "  flex-direction: column;\n",
       "}\n",
       "\n",
       "#sk-container-id-2 div.sk-parallel-item:first-child::after {\n",
       "  align-self: flex-end;\n",
       "  width: 50%;\n",
       "}\n",
       "\n",
       "#sk-container-id-2 div.sk-parallel-item:last-child::after {\n",
       "  align-self: flex-start;\n",
       "  width: 50%;\n",
       "}\n",
       "\n",
       "#sk-container-id-2 div.sk-parallel-item:only-child::after {\n",
       "  width: 0;\n",
       "}\n",
       "\n",
       "/* Serial-specific style estimator block */\n",
       "\n",
       "#sk-container-id-2 div.sk-serial {\n",
       "  display: flex;\n",
       "  flex-direction: column;\n",
       "  align-items: center;\n",
       "  background-color: var(--sklearn-color-background);\n",
       "  padding-right: 1em;\n",
       "  padding-left: 1em;\n",
       "}\n",
       "\n",
       "\n",
       "/* Toggleable style: style used for estimator/Pipeline/ColumnTransformer box that is\n",
       "clickable and can be expanded/collapsed.\n",
       "- Pipeline and ColumnTransformer use this feature and define the default style\n",
       "- Estimators will overwrite some part of the style using the `sk-estimator` class\n",
       "*/\n",
       "\n",
       "/* Pipeline and ColumnTransformer style (default) */\n",
       "\n",
       "#sk-container-id-2 div.sk-toggleable {\n",
       "  /* Default theme specific background. It is overwritten whether we have a\n",
       "  specific estimator or a Pipeline/ColumnTransformer */\n",
       "  background-color: var(--sklearn-color-background);\n",
       "}\n",
       "\n",
       "/* Toggleable label */\n",
       "#sk-container-id-2 label.sk-toggleable__label {\n",
       "  cursor: pointer;\n",
       "  display: flex;\n",
       "  width: 100%;\n",
       "  margin-bottom: 0;\n",
       "  padding: 0.5em;\n",
       "  box-sizing: border-box;\n",
       "  text-align: center;\n",
       "  align-items: start;\n",
       "  justify-content: space-between;\n",
       "  gap: 0.5em;\n",
       "}\n",
       "\n",
       "#sk-container-id-2 label.sk-toggleable__label .caption {\n",
       "  font-size: 0.6rem;\n",
       "  font-weight: lighter;\n",
       "  color: var(--sklearn-color-text-muted);\n",
       "}\n",
       "\n",
       "#sk-container-id-2 label.sk-toggleable__label-arrow:before {\n",
       "  /* Arrow on the left of the label */\n",
       "  content: \"▸\";\n",
       "  float: left;\n",
       "  margin-right: 0.25em;\n",
       "  color: var(--sklearn-color-icon);\n",
       "}\n",
       "\n",
       "#sk-container-id-2 label.sk-toggleable__label-arrow:hover:before {\n",
       "  color: var(--sklearn-color-text);\n",
       "}\n",
       "\n",
       "/* Toggleable content - dropdown */\n",
       "\n",
       "#sk-container-id-2 div.sk-toggleable__content {\n",
       "  max-height: 0;\n",
       "  max-width: 0;\n",
       "  overflow: hidden;\n",
       "  text-align: left;\n",
       "  /* unfitted */\n",
       "  background-color: var(--sklearn-color-unfitted-level-0);\n",
       "}\n",
       "\n",
       "#sk-container-id-2 div.sk-toggleable__content.fitted {\n",
       "  /* fitted */\n",
       "  background-color: var(--sklearn-color-fitted-level-0);\n",
       "}\n",
       "\n",
       "#sk-container-id-2 div.sk-toggleable__content pre {\n",
       "  margin: 0.2em;\n",
       "  border-radius: 0.25em;\n",
       "  color: var(--sklearn-color-text);\n",
       "  /* unfitted */\n",
       "  background-color: var(--sklearn-color-unfitted-level-0);\n",
       "}\n",
       "\n",
       "#sk-container-id-2 div.sk-toggleable__content.fitted pre {\n",
       "  /* unfitted */\n",
       "  background-color: var(--sklearn-color-fitted-level-0);\n",
       "}\n",
       "\n",
       "#sk-container-id-2 input.sk-toggleable__control:checked~div.sk-toggleable__content {\n",
       "  /* Expand drop-down */\n",
       "  max-height: 200px;\n",
       "  max-width: 100%;\n",
       "  overflow: auto;\n",
       "}\n",
       "\n",
       "#sk-container-id-2 input.sk-toggleable__control:checked~label.sk-toggleable__label-arrow:before {\n",
       "  content: \"▾\";\n",
       "}\n",
       "\n",
       "/* Pipeline/ColumnTransformer-specific style */\n",
       "\n",
       "#sk-container-id-2 div.sk-label input.sk-toggleable__control:checked~label.sk-toggleable__label {\n",
       "  color: var(--sklearn-color-text);\n",
       "  background-color: var(--sklearn-color-unfitted-level-2);\n",
       "}\n",
       "\n",
       "#sk-container-id-2 div.sk-label.fitted input.sk-toggleable__control:checked~label.sk-toggleable__label {\n",
       "  background-color: var(--sklearn-color-fitted-level-2);\n",
       "}\n",
       "\n",
       "/* Estimator-specific style */\n",
       "\n",
       "/* Colorize estimator box */\n",
       "#sk-container-id-2 div.sk-estimator input.sk-toggleable__control:checked~label.sk-toggleable__label {\n",
       "  /* unfitted */\n",
       "  background-color: var(--sklearn-color-unfitted-level-2);\n",
       "}\n",
       "\n",
       "#sk-container-id-2 div.sk-estimator.fitted input.sk-toggleable__control:checked~label.sk-toggleable__label {\n",
       "  /* fitted */\n",
       "  background-color: var(--sklearn-color-fitted-level-2);\n",
       "}\n",
       "\n",
       "#sk-container-id-2 div.sk-label label.sk-toggleable__label,\n",
       "#sk-container-id-2 div.sk-label label {\n",
       "  /* The background is the default theme color */\n",
       "  color: var(--sklearn-color-text-on-default-background);\n",
       "}\n",
       "\n",
       "/* On hover, darken the color of the background */\n",
       "#sk-container-id-2 div.sk-label:hover label.sk-toggleable__label {\n",
       "  color: var(--sklearn-color-text);\n",
       "  background-color: var(--sklearn-color-unfitted-level-2);\n",
       "}\n",
       "\n",
       "/* Label box, darken color on hover, fitted */\n",
       "#sk-container-id-2 div.sk-label.fitted:hover label.sk-toggleable__label.fitted {\n",
       "  color: var(--sklearn-color-text);\n",
       "  background-color: var(--sklearn-color-fitted-level-2);\n",
       "}\n",
       "\n",
       "/* Estimator label */\n",
       "\n",
       "#sk-container-id-2 div.sk-label label {\n",
       "  font-family: monospace;\n",
       "  font-weight: bold;\n",
       "  display: inline-block;\n",
       "  line-height: 1.2em;\n",
       "}\n",
       "\n",
       "#sk-container-id-2 div.sk-label-container {\n",
       "  text-align: center;\n",
       "}\n",
       "\n",
       "/* Estimator-specific */\n",
       "#sk-container-id-2 div.sk-estimator {\n",
       "  font-family: monospace;\n",
       "  border: 1px dotted var(--sklearn-color-border-box);\n",
       "  border-radius: 0.25em;\n",
       "  box-sizing: border-box;\n",
       "  margin-bottom: 0.5em;\n",
       "  /* unfitted */\n",
       "  background-color: var(--sklearn-color-unfitted-level-0);\n",
       "}\n",
       "\n",
       "#sk-container-id-2 div.sk-estimator.fitted {\n",
       "  /* fitted */\n",
       "  background-color: var(--sklearn-color-fitted-level-0);\n",
       "}\n",
       "\n",
       "/* on hover */\n",
       "#sk-container-id-2 div.sk-estimator:hover {\n",
       "  /* unfitted */\n",
       "  background-color: var(--sklearn-color-unfitted-level-2);\n",
       "}\n",
       "\n",
       "#sk-container-id-2 div.sk-estimator.fitted:hover {\n",
       "  /* fitted */\n",
       "  background-color: var(--sklearn-color-fitted-level-2);\n",
       "}\n",
       "\n",
       "/* Specification for estimator info (e.g. \"i\" and \"?\") */\n",
       "\n",
       "/* Common style for \"i\" and \"?\" */\n",
       "\n",
       ".sk-estimator-doc-link,\n",
       "a:link.sk-estimator-doc-link,\n",
       "a:visited.sk-estimator-doc-link {\n",
       "  float: right;\n",
       "  font-size: smaller;\n",
       "  line-height: 1em;\n",
       "  font-family: monospace;\n",
       "  background-color: var(--sklearn-color-background);\n",
       "  border-radius: 1em;\n",
       "  height: 1em;\n",
       "  width: 1em;\n",
       "  text-decoration: none !important;\n",
       "  margin-left: 0.5em;\n",
       "  text-align: center;\n",
       "  /* unfitted */\n",
       "  border: var(--sklearn-color-unfitted-level-1) 1pt solid;\n",
       "  color: var(--sklearn-color-unfitted-level-1);\n",
       "}\n",
       "\n",
       ".sk-estimator-doc-link.fitted,\n",
       "a:link.sk-estimator-doc-link.fitted,\n",
       "a:visited.sk-estimator-doc-link.fitted {\n",
       "  /* fitted */\n",
       "  border: var(--sklearn-color-fitted-level-1) 1pt solid;\n",
       "  color: var(--sklearn-color-fitted-level-1);\n",
       "}\n",
       "\n",
       "/* On hover */\n",
       "div.sk-estimator:hover .sk-estimator-doc-link:hover,\n",
       ".sk-estimator-doc-link:hover,\n",
       "div.sk-label-container:hover .sk-estimator-doc-link:hover,\n",
       ".sk-estimator-doc-link:hover {\n",
       "  /* unfitted */\n",
       "  background-color: var(--sklearn-color-unfitted-level-3);\n",
       "  color: var(--sklearn-color-background);\n",
       "  text-decoration: none;\n",
       "}\n",
       "\n",
       "div.sk-estimator.fitted:hover .sk-estimator-doc-link.fitted:hover,\n",
       ".sk-estimator-doc-link.fitted:hover,\n",
       "div.sk-label-container:hover .sk-estimator-doc-link.fitted:hover,\n",
       ".sk-estimator-doc-link.fitted:hover {\n",
       "  /* fitted */\n",
       "  background-color: var(--sklearn-color-fitted-level-3);\n",
       "  color: var(--sklearn-color-background);\n",
       "  text-decoration: none;\n",
       "}\n",
       "\n",
       "/* Span, style for the box shown on hovering the info icon */\n",
       ".sk-estimator-doc-link span {\n",
       "  display: none;\n",
       "  z-index: 9999;\n",
       "  position: relative;\n",
       "  font-weight: normal;\n",
       "  right: .2ex;\n",
       "  padding: .5ex;\n",
       "  margin: .5ex;\n",
       "  width: min-content;\n",
       "  min-width: 20ex;\n",
       "  max-width: 50ex;\n",
       "  color: var(--sklearn-color-text);\n",
       "  box-shadow: 2pt 2pt 4pt #999;\n",
       "  /* unfitted */\n",
       "  background: var(--sklearn-color-unfitted-level-0);\n",
       "  border: .5pt solid var(--sklearn-color-unfitted-level-3);\n",
       "}\n",
       "\n",
       ".sk-estimator-doc-link.fitted span {\n",
       "  /* fitted */\n",
       "  background: var(--sklearn-color-fitted-level-0);\n",
       "  border: var(--sklearn-color-fitted-level-3);\n",
       "}\n",
       "\n",
       ".sk-estimator-doc-link:hover span {\n",
       "  display: block;\n",
       "}\n",
       "\n",
       "/* \"?\"-specific style due to the `<a>` HTML tag */\n",
       "\n",
       "#sk-container-id-2 a.estimator_doc_link {\n",
       "  float: right;\n",
       "  font-size: 1rem;\n",
       "  line-height: 1em;\n",
       "  font-family: monospace;\n",
       "  background-color: var(--sklearn-color-background);\n",
       "  border-radius: 1rem;\n",
       "  height: 1rem;\n",
       "  width: 1rem;\n",
       "  text-decoration: none;\n",
       "  /* unfitted */\n",
       "  color: var(--sklearn-color-unfitted-level-1);\n",
       "  border: var(--sklearn-color-unfitted-level-1) 1pt solid;\n",
       "}\n",
       "\n",
       "#sk-container-id-2 a.estimator_doc_link.fitted {\n",
       "  /* fitted */\n",
       "  border: var(--sklearn-color-fitted-level-1) 1pt solid;\n",
       "  color: var(--sklearn-color-fitted-level-1);\n",
       "}\n",
       "\n",
       "/* On hover */\n",
       "#sk-container-id-2 a.estimator_doc_link:hover {\n",
       "  /* unfitted */\n",
       "  background-color: var(--sklearn-color-unfitted-level-3);\n",
       "  color: var(--sklearn-color-background);\n",
       "  text-decoration: none;\n",
       "}\n",
       "\n",
       "#sk-container-id-2 a.estimator_doc_link.fitted:hover {\n",
       "  /* fitted */\n",
       "  background-color: var(--sklearn-color-fitted-level-3);\n",
       "}\n",
       "</style><div id=\"sk-container-id-2\" class=\"sk-top-container\"><div class=\"sk-text-repr-fallback\"><pre>XGBClassifier(base_score=None, booster=None, callbacks=None,\n",
       "              colsample_bylevel=None, colsample_bynode=None,\n",
       "              colsample_bytree=0.7002285543964225, device=None,\n",
       "              early_stopping_rounds=None, enable_categorical=False,\n",
       "              eval_metric=&#x27;logloss&#x27;, feature_types=None, feature_weights=None,\n",
       "              gamma=0.27044905149971354, grow_policy=None, importance_type=None,\n",
       "              interaction_constraints=None, learning_rate=0.3, max_bin=None,\n",
       "              max_cat_threshold=None, max_cat_to_onehot=None,\n",
       "              max_delta_step=None, max_depth=6, max_leaves=None,\n",
       "              min_child_weight=None, missing=nan, monotone_constraints=None,\n",
       "              multi_strategy=None, n_estimators=95, n_jobs=None,\n",
       "              num_parallel_tree=None, ...)</pre><b>In a Jupyter environment, please rerun this cell to show the HTML representation or trust the notebook. <br />On GitHub, the HTML representation is unable to render, please try loading this page with nbviewer.org.</b></div><div class=\"sk-container\" hidden><div class=\"sk-item\"><div class=\"sk-estimator fitted sk-toggleable\"><input class=\"sk-toggleable__control sk-hidden--visually\" id=\"sk-estimator-id-2\" type=\"checkbox\" checked><label for=\"sk-estimator-id-2\" class=\"sk-toggleable__label fitted sk-toggleable__label-arrow\"><div><div>XGBClassifier</div></div><div><a class=\"sk-estimator-doc-link fitted\" rel=\"noreferrer\" target=\"_blank\" href=\"https://xgboost.readthedocs.io/en/release_3.0.0/python/python_api.html#xgboost.XGBClassifier\">?<span>Documentation for XGBClassifier</span></a><span class=\"sk-estimator-doc-link fitted\">i<span>Fitted</span></span></div></label><div class=\"sk-toggleable__content fitted\"><pre>XGBClassifier(base_score=None, booster=None, callbacks=None,\n",
       "              colsample_bylevel=None, colsample_bynode=None,\n",
       "              colsample_bytree=0.7002285543964225, device=None,\n",
       "              early_stopping_rounds=None, enable_categorical=False,\n",
       "              eval_metric=&#x27;logloss&#x27;, feature_types=None, feature_weights=None,\n",
       "              gamma=0.27044905149971354, grow_policy=None, importance_type=None,\n",
       "              interaction_constraints=None, learning_rate=0.3, max_bin=None,\n",
       "              max_cat_threshold=None, max_cat_to_onehot=None,\n",
       "              max_delta_step=None, max_depth=6, max_leaves=None,\n",
       "              min_child_weight=None, missing=nan, monotone_constraints=None,\n",
       "              multi_strategy=None, n_estimators=95, n_jobs=None,\n",
       "              num_parallel_tree=None, ...)</pre></div> </div></div></div></div>"
      ],
      "text/plain": [
       "XGBClassifier(base_score=None, booster=None, callbacks=None,\n",
       "              colsample_bylevel=None, colsample_bynode=None,\n",
       "              colsample_bytree=0.7002285543964225, device=None,\n",
       "              early_stopping_rounds=None, enable_categorical=False,\n",
       "              eval_metric='logloss', feature_types=None, feature_weights=None,\n",
       "              gamma=0.27044905149971354, grow_policy=None, importance_type=None,\n",
       "              interaction_constraints=None, learning_rate=0.3, max_bin=None,\n",
       "              max_cat_threshold=None, max_cat_to_onehot=None,\n",
       "              max_delta_step=None, max_depth=6, max_leaves=None,\n",
       "              min_child_weight=None, missing=nan, monotone_constraints=None,\n",
       "              multi_strategy=None, n_estimators=95, n_jobs=None,\n",
       "              num_parallel_tree=None, ...)"
      ]
     },
     "execution_count": 70,
     "metadata": {},
     "output_type": "execute_result"
    }
   ],
   "source": [
    "best_params = optimizer.max['params']\n",
    "model = XGBClassifier(\n",
    "    max_depth=int(best_params['max_depth']),\n",
    "    learning_rate=best_params['learning_rate'],\n",
    "    n_estimators=int(best_params['n_estimators']),\n",
    "    gamma=best_params['gamma'],\n",
    "    subsample=best_params['subsample'],\n",
    "    colsample_bytree=best_params['colsample_bytree'],\n",
    "    use_label_encoder=False,\n",
    "    eval_metric='logloss',\n",
    "    random_state=42\n",
    ")\n",
    "model.fit(X_train, y_train)\n"
   ]
  },
  {
   "cell_type": "code",
   "execution_count": 71,
   "id": "93cb5c28",
   "metadata": {},
   "outputs": [
    {
     "name": "stdout",
     "output_type": "stream",
     "text": [
      "              precision    recall  f1-score   support\n",
      "\n",
      "           0       0.65      0.74      0.70       696\n",
      "           1       0.49      0.39      0.43       446\n",
      "\n",
      "    accuracy                           0.60      1142\n",
      "   macro avg       0.57      0.57      0.56      1142\n",
      "weighted avg       0.59      0.60      0.59      1142\n",
      "\n",
      "[[517 179]\n",
      " [273 173]]\n"
     ]
    }
   ],
   "source": [
    "# 예측 수행\n",
    "xg_pred_b = model.predict(X_test)\n",
    "\n",
    "# classification report 출력\n",
    "print(classification_report(y_test, xg_pred_b))\n",
    "\n",
    "# confusion matrix도 함께 보고 싶다면\n",
    "print(confusion_matrix(y_test, xg_pred_b))"
   ]
  },
  {
   "cell_type": "code",
   "execution_count": 72,
   "id": "1d31ac89",
   "metadata": {},
   "outputs": [
    {
     "name": "stdout",
     "output_type": "stream",
     "text": [
      "              precision    recall  f1-score   support\n",
      "\n",
      "           0       0.68      0.60      0.63       696\n",
      "           1       0.47      0.56      0.51       446\n",
      "\n",
      "    accuracy                           0.58      1142\n",
      "   macro avg       0.57      0.58      0.57      1142\n",
      "weighted avg       0.60      0.58      0.59      1142\n",
      "\n"
     ]
    }
   ],
   "source": [
    "from sklearn.metrics import classification_report\n",
    "\n",
    "# 예측 확률 (클래스 1에 대한 확률)\n",
    "xg_probs = model.predict_proba(X_test)[:, 1]\n",
    "\n",
    "threshold = 0.4\n",
    "xg_pred_adjusted = (xg_probs >= threshold).astype(int)\n",
    "\n",
    "# 평가\n",
    "print(classification_report(y_test, xg_pred_adjusted))"
   ]
  },
  {
   "cell_type": "markdown",
   "id": "9fb96211",
   "metadata": {},
   "source": [
    "## 5. 클러스터링"
   ]
  },
  {
   "cell_type": "markdown",
   "id": "9d1ceff2",
   "metadata": {},
   "source": [
    "- 고객 행동 특성별 유료 결제 전환율 높이기 위한 마케팅 전략 제시하기 위함"
   ]
  },
  {
   "cell_type": "code",
   "execution_count": 73,
   "id": "a3f5eb81",
   "metadata": {},
   "outputs": [],
   "source": [
    "from sklearn.cluster import KMeans"
   ]
  },
  {
   "cell_type": "code",
   "execution_count": 74,
   "id": "d5363e77",
   "metadata": {},
   "outputs": [],
   "source": [
    "# 클러스터링\n",
    "kmeans = KMeans(\n",
    "    n_clusters=3,\n",
    "    init='k-means++',\n",
    "    max_iter=300,\n",
    "    random_state=9\n",
    ")"
   ]
  },
  {
   "cell_type": "code",
   "execution_count": 75,
   "id": "cacd7a72",
   "metadata": {},
   "outputs": [
    {
     "data": {
      "text/html": [
       "<div>\n",
       "<style scoped>\n",
       "    .dataframe tbody tr th:only-of-type {\n",
       "        vertical-align: middle;\n",
       "    }\n",
       "\n",
       "    .dataframe tbody tr th {\n",
       "        vertical-align: top;\n",
       "    }\n",
       "\n",
       "    .dataframe thead th {\n",
       "        text-align: right;\n",
       "    }\n",
       "</style>\n",
       "<table border=\"1\" class=\"dataframe\">\n",
       "  <thead>\n",
       "    <tr style=\"text-align: right;\">\n",
       "      <th></th>\n",
       "      <th>total_stay_time</th>\n",
       "      <th>avg_stay_time</th>\n",
       "      <th>visit_days</th>\n",
       "      <th>visited_sites_count</th>\n",
       "      <th>session_count</th>\n",
       "      <th>days_since_trial</th>\n",
       "      <th>area_pyeong</th>\n",
       "      <th>first_visit_month</th>\n",
       "    </tr>\n",
       "  </thead>\n",
       "  <tbody>\n",
       "    <tr>\n",
       "      <th>5705</th>\n",
       "      <td>52855</td>\n",
       "      <td>17618.333333</td>\n",
       "      <td>3</td>\n",
       "      <td>1</td>\n",
       "      <td>10</td>\n",
       "      <td>1</td>\n",
       "      <td>150</td>\n",
       "      <td>4</td>\n",
       "    </tr>\n",
       "    <tr>\n",
       "      <th>5706</th>\n",
       "      <td>6976</td>\n",
       "      <td>6976.000000</td>\n",
       "      <td>1</td>\n",
       "      <td>1</td>\n",
       "      <td>3</td>\n",
       "      <td>1</td>\n",
       "      <td>150</td>\n",
       "      <td>1</td>\n",
       "    </tr>\n",
       "  </tbody>\n",
       "</table>\n",
       "</div>"
      ],
      "text/plain": [
       "      total_stay_time  avg_stay_time  visit_days  visited_sites_count  \\\n",
       "5705            52855   17618.333333           3                    1   \n",
       "5706             6976    6976.000000           1                    1   \n",
       "\n",
       "      session_count  days_since_trial  area_pyeong  first_visit_month  \n",
       "5705             10                 1          150                  4  \n",
       "5706              3                 1          150                  1  "
      ]
     },
     "execution_count": 75,
     "metadata": {},
     "output_type": "execute_result"
    }
   ],
   "source": [
    "clustering_df = user_df.drop(columns=['user_uuid','visit_time_심야','visit_time_아침','visit_time_오후','visit_time_저녁'])\n",
    "clustering_df2 = clustering_df.drop(columns=['is_payment'])\n",
    "clustering_df2.tail(2)"
   ]
  },
  {
   "cell_type": "markdown",
   "id": "d35d77b8",
   "metadata": {},
   "source": [
    "### 5-1 Feature Scaling - StadardScaler"
   ]
  },
  {
   "cell_type": "code",
   "execution_count": 76,
   "id": "0c44e941",
   "metadata": {},
   "outputs": [
    {
     "data": {
      "text/html": [
       "<div>\n",
       "<style scoped>\n",
       "    .dataframe tbody tr th:only-of-type {\n",
       "        vertical-align: middle;\n",
       "    }\n",
       "\n",
       "    .dataframe tbody tr th {\n",
       "        vertical-align: top;\n",
       "    }\n",
       "\n",
       "    .dataframe thead th {\n",
       "        text-align: right;\n",
       "    }\n",
       "</style>\n",
       "<table border=\"1\" class=\"dataframe\">\n",
       "  <thead>\n",
       "    <tr style=\"text-align: right;\">\n",
       "      <th></th>\n",
       "      <th>total_stay_time</th>\n",
       "      <th>avg_stay_time</th>\n",
       "      <th>visit_days</th>\n",
       "      <th>visited_sites_count</th>\n",
       "      <th>session_count</th>\n",
       "      <th>days_since_trial</th>\n",
       "      <th>area_pyeong</th>\n",
       "      <th>is_payment</th>\n",
       "      <th>first_visit_month</th>\n",
       "    </tr>\n",
       "  </thead>\n",
       "  <tbody>\n",
       "    <tr>\n",
       "      <th>count</th>\n",
       "      <td>5707.000000</td>\n",
       "      <td>5707.000000</td>\n",
       "      <td>5707.000000</td>\n",
       "      <td>5707.000000</td>\n",
       "      <td>5707.000000</td>\n",
       "      <td>5707.000000</td>\n",
       "      <td>5707.000000</td>\n",
       "      <td>5707.000000</td>\n",
       "      <td>5707.000000</td>\n",
       "    </tr>\n",
       "    <tr>\n",
       "      <th>mean</th>\n",
       "      <td>29971.822323</td>\n",
       "      <td>15664.571783</td>\n",
       "      <td>1.787104</td>\n",
       "      <td>1.056422</td>\n",
       "      <td>4.993517</td>\n",
       "      <td>0.922026</td>\n",
       "      <td>111.091642</td>\n",
       "      <td>0.390573</td>\n",
       "      <td>7.230769</td>\n",
       "    </tr>\n",
       "    <tr>\n",
       "      <th>std</th>\n",
       "      <td>25614.484166</td>\n",
       "      <td>10113.489133</td>\n",
       "      <td>0.820814</td>\n",
       "      <td>0.262718</td>\n",
       "      <td>4.387407</td>\n",
       "      <td>3.443152</td>\n",
       "      <td>42.151021</td>\n",
       "      <td>0.487922</td>\n",
       "      <td>3.401127</td>\n",
       "    </tr>\n",
       "    <tr>\n",
       "      <th>min</th>\n",
       "      <td>9.000000</td>\n",
       "      <td>9.000000</td>\n",
       "      <td>1.000000</td>\n",
       "      <td>1.000000</td>\n",
       "      <td>1.000000</td>\n",
       "      <td>-1.000000</td>\n",
       "      <td>50.000000</td>\n",
       "      <td>0.000000</td>\n",
       "      <td>1.000000</td>\n",
       "    </tr>\n",
       "    <tr>\n",
       "      <th>25%</th>\n",
       "      <td>10904.500000</td>\n",
       "      <td>8246.500000</td>\n",
       "      <td>1.000000</td>\n",
       "      <td>1.000000</td>\n",
       "      <td>2.000000</td>\n",
       "      <td>0.000000</td>\n",
       "      <td>50.000000</td>\n",
       "      <td>0.000000</td>\n",
       "      <td>5.000000</td>\n",
       "    </tr>\n",
       "    <tr>\n",
       "      <th>50%</th>\n",
       "      <td>22548.000000</td>\n",
       "      <td>14354.000000</td>\n",
       "      <td>2.000000</td>\n",
       "      <td>1.000000</td>\n",
       "      <td>4.000000</td>\n",
       "      <td>1.000000</td>\n",
       "      <td>100.000000</td>\n",
       "      <td>0.000000</td>\n",
       "      <td>8.000000</td>\n",
       "    </tr>\n",
       "    <tr>\n",
       "      <th>75%</th>\n",
       "      <td>42368.000000</td>\n",
       "      <td>21217.000000</td>\n",
       "      <td>2.000000</td>\n",
       "      <td>1.000000</td>\n",
       "      <td>7.000000</td>\n",
       "      <td>1.000000</td>\n",
       "      <td>150.000000</td>\n",
       "      <td>1.000000</td>\n",
       "      <td>10.000000</td>\n",
       "    </tr>\n",
       "    <tr>\n",
       "      <th>max</th>\n",
       "      <td>249203.000000</td>\n",
       "      <td>81464.000000</td>\n",
       "      <td>4.000000</td>\n",
       "      <td>4.000000</td>\n",
       "      <td>40.000000</td>\n",
       "      <td>201.000000</td>\n",
       "      <td>150.000000</td>\n",
       "      <td>1.000000</td>\n",
       "      <td>12.000000</td>\n",
       "    </tr>\n",
       "  </tbody>\n",
       "</table>\n",
       "</div>"
      ],
      "text/plain": [
       "       total_stay_time  avg_stay_time   visit_days  visited_sites_count  \\\n",
       "count      5707.000000    5707.000000  5707.000000          5707.000000   \n",
       "mean      29971.822323   15664.571783     1.787104             1.056422   \n",
       "std       25614.484166   10113.489133     0.820814             0.262718   \n",
       "min           9.000000       9.000000     1.000000             1.000000   \n",
       "25%       10904.500000    8246.500000     1.000000             1.000000   \n",
       "50%       22548.000000   14354.000000     2.000000             1.000000   \n",
       "75%       42368.000000   21217.000000     2.000000             1.000000   \n",
       "max      249203.000000   81464.000000     4.000000             4.000000   \n",
       "\n",
       "       session_count  days_since_trial  area_pyeong   is_payment  \\\n",
       "count    5707.000000       5707.000000  5707.000000  5707.000000   \n",
       "mean        4.993517          0.922026   111.091642     0.390573   \n",
       "std         4.387407          3.443152    42.151021     0.487922   \n",
       "min         1.000000         -1.000000    50.000000     0.000000   \n",
       "25%         2.000000          0.000000    50.000000     0.000000   \n",
       "50%         4.000000          1.000000   100.000000     0.000000   \n",
       "75%         7.000000          1.000000   150.000000     1.000000   \n",
       "max        40.000000        201.000000   150.000000     1.000000   \n",
       "\n",
       "       first_visit_month  \n",
       "count        5707.000000  \n",
       "mean            7.230769  \n",
       "std             3.401127  \n",
       "min             1.000000  \n",
       "25%             5.000000  \n",
       "50%             8.000000  \n",
       "75%            10.000000  \n",
       "max            12.000000  "
      ]
     },
     "execution_count": 76,
     "metadata": {},
     "output_type": "execute_result"
    }
   ],
   "source": [
    "clustering_df.describe()"
   ]
  },
  {
   "cell_type": "code",
   "execution_count": 77,
   "id": "2248b784",
   "metadata": {},
   "outputs": [],
   "source": [
    "from sklearn.preprocessing import StandardScaler\n",
    "X_scaled = StandardScaler().fit_transform(clustering_df2)"
   ]
  },
  {
   "cell_type": "markdown",
   "id": "075d04bc",
   "metadata": {},
   "source": [
    "- 클러스터링은 거리 기반이기 때문에 데이터 단위 맞추기 위해 StandardScaler 적용"
   ]
  },
  {
   "cell_type": "code",
   "execution_count": 78,
   "id": "7db4d019",
   "metadata": {},
   "outputs": [],
   "source": [
    "cluster = kmeans.fit_predict(X_scaled)"
   ]
  },
  {
   "cell_type": "code",
   "execution_count": 79,
   "id": "5c89892f",
   "metadata": {},
   "outputs": [
    {
     "data": {
      "text/plain": [
       "array([0, 2, 2, ..., 1, 2, 0], dtype=int32)"
      ]
     },
     "execution_count": 79,
     "metadata": {},
     "output_type": "execute_result"
    }
   ],
   "source": [
    "cluster"
   ]
  },
  {
   "cell_type": "code",
   "execution_count": 80,
   "id": "42a1e691",
   "metadata": {},
   "outputs": [
    {
     "data": {
      "text/plain": [
       "array([2296, 1779, 1632])"
      ]
     },
     "execution_count": 80,
     "metadata": {},
     "output_type": "execute_result"
    }
   ],
   "source": [
    "# 군집별 크기 확인\n",
    "counts = np.bincount(cluster)\n",
    "counts"
   ]
  },
  {
   "cell_type": "code",
   "execution_count": 81,
   "id": "10f72547",
   "metadata": {},
   "outputs": [
    {
     "data": {
      "image/png": "[encoded data removed]",
      "text/plain": [
       "<Figure size 500x400 with 1 Axes>"
      ]
     },
     "metadata": {},
     "output_type": "display_data"
    }
   ],
   "source": [
    "from sklearn.decomposition import PCA\n",
    "\n",
    "# 2차원 PCA로 차원 축소하여 시각화\n",
    "pca = PCA(n_components=2, random_state=9)\n",
    "X_pca = pca.fit_transform(X_scaled)\n",
    "\n",
    "x = X_pca[:, 0]\n",
    "y = X_pca[:, 1]\n",
    "\n",
    "plt.figure(figsize=(5, 4))\n",
    "scatter = plt.scatter(x, y, c=cluster, cmap='viridis')\n",
    "handles, labels = scatter.legend_elements()\n",
    "\n",
    "plt.legend(handles, labels)\n",
    "plt.show()"
   ]
  },
  {
   "cell_type": "code",
   "execution_count": 82,
   "id": "049193ee",
   "metadata": {},
   "outputs": [],
   "source": [
    "# Elbow 기법\n",
    "\n",
    "inertia = []\n",
    "K_range = range(1, 11)  # k 1부터 10까지\n",
    "\n",
    "for k in K_range:\n",
    "    kmeans = KMeans(\n",
    "        n_clusters=k,\n",
    "        random_state=9,\n",
    "    )\n",
    "    kmeans.fit(X_scaled)\n",
    "    inertia.append(kmeans.inertia_)"
   ]
  },
  {
   "cell_type": "code",
   "execution_count": 83,
   "id": "796a1fef",
   "metadata": {},
   "outputs": [
    {
     "data": {
      "text/plain": [
       "14982.328512754397"
      ]
     },
     "execution_count": 83,
     "metadata": {},
     "output_type": "execute_result"
    }
   ],
   "source": [
    "kmeans.inertia_"
   ]
  },
  {
   "cell_type": "code",
   "execution_count": 84,
   "id": "c76179d3",
   "metadata": {},
   "outputs": [
    {
     "data": {
      "text/plain": [
       "[45656.000000000015,\n",
       " 35208.73551164367,\n",
       " 31792.824025556736,\n",
       " 26384.41591663968,\n",
       " 21734.007065275677,\n",
       " 19920.672511383586,\n",
       " 18570.037369212732,\n",
       " 16775.289805967972,\n",
       " 15857.966718848165,\n",
       " 14982.328512754397]"
      ]
     },
     "execution_count": 84,
     "metadata": {},
     "output_type": "execute_result"
    }
   ],
   "source": [
    "inertia"
   ]
  },
  {
   "cell_type": "code",
   "execution_count": 85,
   "id": "35c0ace3",
   "metadata": {},
   "outputs": [
    {
     "data": {
      "image/png": "[encoded data removed]",
      "text/plain": [
       "<Figure size 600x400 with 1 Axes>"
      ]
     },
     "metadata": {},
     "output_type": "display_data"
    }
   ],
   "source": [
    "# Elbow 차트 그리기\n",
    "plt.figure(figsize=(6, 4))\n",
    "plt.plot(K_range, inertia, 'bo-')\n",
    "plt.grid(True)\n",
    "plt.xticks(K_range)\n",
    "plt.show()"
   ]
  },
  {
   "cell_type": "code",
   "execution_count": 86,
   "id": "b2b3836b",
   "metadata": {},
   "outputs": [],
   "source": [
    "from sklearn.metrics import (\n",
    "    silhouette_score,\n",
    "    silhouette_samples\n",
    "    )"
   ]
  },
  {
   "cell_type": "code",
   "execution_count": 87,
   "id": "38255e41",
   "metadata": {},
   "outputs": [],
   "source": [
    "# 모델 학습\n",
    "labels = kmeans.fit_predict(X_scaled)"
   ]
  },
  {
   "cell_type": "code",
   "execution_count": 88,
   "id": "7e054630",
   "metadata": {},
   "outputs": [
    {
     "name": "stdout",
     "output_type": "stream",
     "text": [
      "K=2, silhouette=0.290\n",
      "K=3, silhouette=0.187\n",
      "K=4, silhouette=0.213\n",
      "K=5, silhouette=0.196\n",
      "K=6, silhouette=0.193\n",
      "K=7, silhouette=0.196\n",
      "K=8, silhouette=0.197\n",
      "K=9, silhouette=0.215\n",
      "K=10, silhouette=0.213\n"
     ]
    }
   ],
   "source": [
    "from sklearn.cluster import KMeans\n",
    "from sklearn.metrics import silhouette_score\n",
    "\n",
    "for k in range(2, 11):\n",
    "    kmeans = KMeans(n_clusters=k, random_state=42)\n",
    "    labels = kmeans.fit_predict(X_scaled)\n",
    "    score = silhouette_score(X_scaled, labels)\n",
    "    print(f\"K={k}, silhouette={score:.3f}\")\n"
   ]
  },
  {
   "cell_type": "code",
   "execution_count": 89,
   "id": "a1840dee",
   "metadata": {},
   "outputs": [],
   "source": [
    "clustering_df['cluster'] = cluster"
   ]
  },
  {
   "cell_type": "code",
   "execution_count": 90,
   "id": "67d5e3a6",
   "metadata": {},
   "outputs": [
    {
     "data": {
      "text/html": [
       "<div>\n",
       "<style scoped>\n",
       "    .dataframe tbody tr th:only-of-type {\n",
       "        vertical-align: middle;\n",
       "    }\n",
       "\n",
       "    .dataframe tbody tr th {\n",
       "        vertical-align: top;\n",
       "    }\n",
       "\n",
       "    .dataframe thead th {\n",
       "        text-align: right;\n",
       "    }\n",
       "</style>\n",
       "<table border=\"1\" class=\"dataframe\">\n",
       "  <thead>\n",
       "    <tr style=\"text-align: right;\">\n",
       "      <th></th>\n",
       "      <th>total_stay_time</th>\n",
       "      <th>avg_stay_time</th>\n",
       "      <th>visit_days</th>\n",
       "      <th>visited_sites_count</th>\n",
       "      <th>session_count</th>\n",
       "      <th>days_since_trial</th>\n",
       "      <th>area_pyeong</th>\n",
       "      <th>is_payment</th>\n",
       "      <th>first_visit_month</th>\n",
       "    </tr>\n",
       "    <tr>\n",
       "      <th>cluster</th>\n",
       "      <th></th>\n",
       "      <th></th>\n",
       "      <th></th>\n",
       "      <th></th>\n",
       "      <th></th>\n",
       "      <th></th>\n",
       "      <th></th>\n",
       "      <th></th>\n",
       "      <th></th>\n",
       "    </tr>\n",
       "  </thead>\n",
       "  <tbody>\n",
       "    <tr>\n",
       "      <th>0</th>\n",
       "      <td>16661.918990</td>\n",
       "      <td>12084.416892</td>\n",
       "      <td>1.423345</td>\n",
       "      <td>1.018293</td>\n",
       "      <td>3.460366</td>\n",
       "      <td>1.100610</td>\n",
       "      <td>141.223868</td>\n",
       "      <td>0.394599</td>\n",
       "      <td>6.424216</td>\n",
       "    </tr>\n",
       "    <tr>\n",
       "      <th>1</th>\n",
       "      <td>17696.848791</td>\n",
       "      <td>12036.299747</td>\n",
       "      <td>1.497470</td>\n",
       "      <td>1.047218</td>\n",
       "      <td>2.897133</td>\n",
       "      <td>0.921866</td>\n",
       "      <td>65.486228</td>\n",
       "      <td>0.372681</td>\n",
       "      <td>8.298482</td>\n",
       "    </tr>\n",
       "    <tr>\n",
       "      <th>2</th>\n",
       "      <td>62077.653186</td>\n",
       "      <td>24656.441626</td>\n",
       "      <td>2.614583</td>\n",
       "      <td>1.120098</td>\n",
       "      <td>9.435662</td>\n",
       "      <td>0.670956</td>\n",
       "      <td>118.412990</td>\n",
       "      <td>0.404412</td>\n",
       "      <td>7.201593</td>\n",
       "    </tr>\n",
       "  </tbody>\n",
       "</table>\n",
       "</div>"
      ],
      "text/plain": [
       "         total_stay_time  avg_stay_time  visit_days  visited_sites_count  \\\n",
       "cluster                                                                    \n",
       "0           16661.918990   12084.416892    1.423345             1.018293   \n",
       "1           17696.848791   12036.299747    1.497470             1.047218   \n",
       "2           62077.653186   24656.441626    2.614583             1.120098   \n",
       "\n",
       "         session_count  days_since_trial  area_pyeong  is_payment  \\\n",
       "cluster                                                             \n",
       "0             3.460366          1.100610   141.223868    0.394599   \n",
       "1             2.897133          0.921866    65.486228    0.372681   \n",
       "2             9.435662          0.670956   118.412990    0.404412   \n",
       "\n",
       "         first_visit_month  \n",
       "cluster                     \n",
       "0                 6.424216  \n",
       "1                 8.298482  \n",
       "2                 7.201593  "
      ]
     },
     "execution_count": 90,
     "metadata": {},
     "output_type": "execute_result"
    }
   ],
   "source": [
    "cluster_summary = clustering_df.groupby('cluster').mean()\n",
    "cluster_summary"
   ]
  },
  {
   "cell_type": "code",
   "execution_count": 91,
   "id": "92c30ad9",
   "metadata": {},
   "outputs": [
    {
     "data": {
      "text/html": [
       "<div>\n",
       "<style scoped>\n",
       "    .dataframe tbody tr th:only-of-type {\n",
       "        vertical-align: middle;\n",
       "    }\n",
       "\n",
       "    .dataframe tbody tr th {\n",
       "        vertical-align: top;\n",
       "    }\n",
       "\n",
       "    .dataframe thead tr th {\n",
       "        text-align: left;\n",
       "    }\n",
       "\n",
       "    .dataframe thead tr:last-of-type th {\n",
       "        text-align: right;\n",
       "    }\n",
       "</style>\n",
       "<table border=\"1\" class=\"dataframe\">\n",
       "  <thead>\n",
       "    <tr>\n",
       "      <th></th>\n",
       "      <th colspan=\"8\" halign=\"left\">total_stay_time</th>\n",
       "      <th colspan=\"2\" halign=\"left\">avg_stay_time</th>\n",
       "      <th>...</th>\n",
       "      <th colspan=\"2\" halign=\"left\">is_payment</th>\n",
       "      <th colspan=\"8\" halign=\"left\">first_visit_month</th>\n",
       "    </tr>\n",
       "    <tr>\n",
       "      <th></th>\n",
       "      <th>count</th>\n",
       "      <th>mean</th>\n",
       "      <th>std</th>\n",
       "      <th>min</th>\n",
       "      <th>25%</th>\n",
       "      <th>50%</th>\n",
       "      <th>75%</th>\n",
       "      <th>max</th>\n",
       "      <th>count</th>\n",
       "      <th>mean</th>\n",
       "      <th>...</th>\n",
       "      <th>75%</th>\n",
       "      <th>max</th>\n",
       "      <th>count</th>\n",
       "      <th>mean</th>\n",
       "      <th>std</th>\n",
       "      <th>min</th>\n",
       "      <th>25%</th>\n",
       "      <th>50%</th>\n",
       "      <th>75%</th>\n",
       "      <th>max</th>\n",
       "    </tr>\n",
       "    <tr>\n",
       "      <th>cluster</th>\n",
       "      <th></th>\n",
       "      <th></th>\n",
       "      <th></th>\n",
       "      <th></th>\n",
       "      <th></th>\n",
       "      <th></th>\n",
       "      <th></th>\n",
       "      <th></th>\n",
       "      <th></th>\n",
       "      <th></th>\n",
       "      <th></th>\n",
       "      <th></th>\n",
       "      <th></th>\n",
       "      <th></th>\n",
       "      <th></th>\n",
       "      <th></th>\n",
       "      <th></th>\n",
       "      <th></th>\n",
       "      <th></th>\n",
       "      <th></th>\n",
       "      <th></th>\n",
       "    </tr>\n",
       "  </thead>\n",
       "  <tbody>\n",
       "    <tr>\n",
       "      <th>0</th>\n",
       "      <td>2296.0</td>\n",
       "      <td>16661.918990</td>\n",
       "      <td>10462.599463</td>\n",
       "      <td>21.0</td>\n",
       "      <td>8059.75</td>\n",
       "      <td>15135.0</td>\n",
       "      <td>24181.25</td>\n",
       "      <td>51582.0</td>\n",
       "      <td>2296.0</td>\n",
       "      <td>12084.416892</td>\n",
       "      <td>...</td>\n",
       "      <td>1.0</td>\n",
       "      <td>1.0</td>\n",
       "      <td>2296.0</td>\n",
       "      <td>6.424216</td>\n",
       "      <td>3.462895</td>\n",
       "      <td>1.0</td>\n",
       "      <td>3.0</td>\n",
       "      <td>6.0</td>\n",
       "      <td>9.0</td>\n",
       "      <td>12.0</td>\n",
       "    </tr>\n",
       "    <tr>\n",
       "      <th>1</th>\n",
       "      <td>1779.0</td>\n",
       "      <td>17696.848791</td>\n",
       "      <td>11840.283410</td>\n",
       "      <td>9.0</td>\n",
       "      <td>8182.50</td>\n",
       "      <td>15761.0</td>\n",
       "      <td>24878.50</td>\n",
       "      <td>57304.0</td>\n",
       "      <td>1779.0</td>\n",
       "      <td>12036.299747</td>\n",
       "      <td>...</td>\n",
       "      <td>1.0</td>\n",
       "      <td>1.0</td>\n",
       "      <td>1779.0</td>\n",
       "      <td>8.298482</td>\n",
       "      <td>3.066979</td>\n",
       "      <td>1.0</td>\n",
       "      <td>7.0</td>\n",
       "      <td>9.0</td>\n",
       "      <td>11.0</td>\n",
       "      <td>12.0</td>\n",
       "    </tr>\n",
       "    <tr>\n",
       "      <th>2</th>\n",
       "      <td>1632.0</td>\n",
       "      <td>62077.653186</td>\n",
       "      <td>23309.754289</td>\n",
       "      <td>20195.0</td>\n",
       "      <td>46122.75</td>\n",
       "      <td>56967.5</td>\n",
       "      <td>73740.75</td>\n",
       "      <td>249203.0</td>\n",
       "      <td>1632.0</td>\n",
       "      <td>24656.441626</td>\n",
       "      <td>...</td>\n",
       "      <td>1.0</td>\n",
       "      <td>1.0</td>\n",
       "      <td>1632.0</td>\n",
       "      <td>7.201593</td>\n",
       "      <td>3.343843</td>\n",
       "      <td>1.0</td>\n",
       "      <td>5.0</td>\n",
       "      <td>8.0</td>\n",
       "      <td>10.0</td>\n",
       "      <td>12.0</td>\n",
       "    </tr>\n",
       "  </tbody>\n",
       "</table>\n",
       "<p>3 rows × 72 columns</p>\n",
       "</div>"
      ],
      "text/plain": [
       "        total_stay_time                                                 \\\n",
       "                  count          mean           std      min       25%   \n",
       "cluster                                                                  \n",
       "0                2296.0  16661.918990  10462.599463     21.0   8059.75   \n",
       "1                1779.0  17696.848791  11840.283410      9.0   8182.50   \n",
       "2                1632.0  62077.653186  23309.754289  20195.0  46122.75   \n",
       "\n",
       "                                     avg_stay_time                ...  \\\n",
       "             50%       75%       max         count          mean  ...   \n",
       "cluster                                                           ...   \n",
       "0        15135.0  24181.25   51582.0        2296.0  12084.416892  ...   \n",
       "1        15761.0  24878.50   57304.0        1779.0  12036.299747  ...   \n",
       "2        56967.5  73740.75  249203.0        1632.0  24656.441626  ...   \n",
       "\n",
       "        is_payment      first_visit_month                                     \\\n",
       "               75%  max             count      mean       std  min  25%  50%   \n",
       "cluster                                                                        \n",
       "0              1.0  1.0            2296.0  6.424216  3.462895  1.0  3.0  6.0   \n",
       "1              1.0  1.0            1779.0  8.298482  3.066979  1.0  7.0  9.0   \n",
       "2              1.0  1.0            1632.0  7.201593  3.343843  1.0  5.0  8.0   \n",
       "\n",
       "                     \n",
       "          75%   max  \n",
       "cluster              \n",
       "0         9.0  12.0  \n",
       "1        11.0  12.0  \n",
       "2        10.0  12.0  \n",
       "\n",
       "[3 rows x 72 columns]"
      ]
     },
     "execution_count": 91,
     "metadata": {},
     "output_type": "execute_result"
    }
   ],
   "source": [
    "cluster_description = clustering_df.groupby('cluster').describe()\n",
    "cluster_description"
   ]
  },
  {
   "cell_type": "code",
   "execution_count": 92,
   "id": "b42049d1",
   "metadata": {},
   "outputs": [
    {
     "data": {
      "text/plain": [
       "cluster\n",
       "0    0.394599\n",
       "1    0.372681\n",
       "2    0.404412\n",
       "Name: is_payment, dtype: float64"
      ]
     },
     "execution_count": 92,
     "metadata": {},
     "output_type": "execute_result"
    }
   ],
   "source": [
    "clustering_df.groupby('cluster')['is_payment'].mean()"
   ]
  },
  {
   "cell_type": "code",
   "execution_count": 93,
   "id": "d067d59d",
   "metadata": {},
   "outputs": [
    {
     "data": {
      "text/plain": [
       "cluster\n",
       "0    2296\n",
       "1    1779\n",
       "2    1632\n",
       "Name: count, dtype: int64"
      ]
     },
     "execution_count": 93,
     "metadata": {},
     "output_type": "execute_result"
    }
   ],
   "source": [
    "clustering_df['cluster'].value_counts().sort_index()"
   ]
  },
  {
   "cell_type": "markdown",
   "id": "b1907c00",
   "metadata": {},
   "source": [
    "### 5-2 GMM(Gaussian Mixture Model) 클러스터링"
   ]
  },
  {
   "cell_type": "markdown",
   "id": "530f0de9",
   "metadata": {},
   "source": [
    "- 클러스터에 속할 확률(soft clustering)에 기반한 유연한 군집화 가능 "
   ]
  },
  {
   "cell_type": "code",
   "execution_count": 94,
   "id": "89ac04e8",
   "metadata": {},
   "outputs": [],
   "source": [
    "from sklearn.mixture import GaussianMixture\n",
    "from sklearn.metrics import silhouette_score\n",
    "\n",
    "\n",
    "gmm = GaussianMixture(\n",
    "    n_components=3,\n",
    "    random_state=30\n",
    ")"
   ]
  },
  {
   "cell_type": "code",
   "execution_count": 95,
   "id": "4ee828b9",
   "metadata": {},
   "outputs": [
    {
     "data": {
      "text/html": [
       "<div>\n",
       "<style scoped>\n",
       "    .dataframe tbody tr th:only-of-type {\n",
       "        vertical-align: middle;\n",
       "    }\n",
       "\n",
       "    .dataframe tbody tr th {\n",
       "        vertical-align: top;\n",
       "    }\n",
       "\n",
       "    .dataframe thead th {\n",
       "        text-align: right;\n",
       "    }\n",
       "</style>\n",
       "<table border=\"1\" class=\"dataframe\">\n",
       "  <thead>\n",
       "    <tr style=\"text-align: right;\">\n",
       "      <th></th>\n",
       "      <th>total_stay_time</th>\n",
       "      <th>avg_stay_time</th>\n",
       "      <th>visit_days</th>\n",
       "      <th>visited_sites_count</th>\n",
       "      <th>session_count</th>\n",
       "      <th>days_since_trial</th>\n",
       "      <th>area_pyeong</th>\n",
       "      <th>first_visit_month</th>\n",
       "    </tr>\n",
       "  </thead>\n",
       "  <tbody>\n",
       "    <tr>\n",
       "      <th>5705</th>\n",
       "      <td>52855</td>\n",
       "      <td>17618.333333</td>\n",
       "      <td>3</td>\n",
       "      <td>1</td>\n",
       "      <td>10</td>\n",
       "      <td>1</td>\n",
       "      <td>150</td>\n",
       "      <td>4</td>\n",
       "    </tr>\n",
       "    <tr>\n",
       "      <th>5706</th>\n",
       "      <td>6976</td>\n",
       "      <td>6976.000000</td>\n",
       "      <td>1</td>\n",
       "      <td>1</td>\n",
       "      <td>3</td>\n",
       "      <td>1</td>\n",
       "      <td>150</td>\n",
       "      <td>1</td>\n",
       "    </tr>\n",
       "  </tbody>\n",
       "</table>\n",
       "</div>"
      ],
      "text/plain": [
       "      total_stay_time  avg_stay_time  visit_days  visited_sites_count  \\\n",
       "5705            52855   17618.333333           3                    1   \n",
       "5706             6976    6976.000000           1                    1   \n",
       "\n",
       "      session_count  days_since_trial  area_pyeong  first_visit_month  \n",
       "5705             10                 1          150                  4  \n",
       "5706              3                 1          150                  1  "
      ]
     },
     "execution_count": 95,
     "metadata": {},
     "output_type": "execute_result"
    }
   ],
   "source": [
    "clustering_df2.tail(2)"
   ]
  },
  {
   "cell_type": "code",
   "execution_count": 96,
   "id": "7745fa1c",
   "metadata": {},
   "outputs": [
    {
     "data": {
      "text/html": [
       "<style>#sk-container-id-3 {\n",
       "  /* Definition of color scheme common for light and dark mode */\n",
       "  --sklearn-color-text: #000;\n",
       "  --sklearn-color-text-muted: #666;\n",
       "  --sklearn-color-line: gray;\n",
       "  /* Definition of color scheme for unfitted estimators */\n",
       "  --sklearn-color-unfitted-level-0: #fff5e6;\n",
       "  --sklearn-color-unfitted-level-1: #f6e4d2;\n",
       "  --sklearn-color-unfitted-level-2: #ffe0b3;\n",
       "  --sklearn-color-unfitted-level-3: chocolate;\n",
       "  /* Definition of color scheme for fitted estimators */\n",
       "  --sklearn-color-fitted-level-0: #f0f8ff;\n",
       "  --sklearn-color-fitted-level-1: #d4ebff;\n",
       "  --sklearn-color-fitted-level-2: #b3dbfd;\n",
       "  --sklearn-color-fitted-level-3: cornflowerblue;\n",
       "\n",
       "  /* Specific color for light theme */\n",
       "  --sklearn-color-text-on-default-background: var(--sg-text-color, var(--theme-code-foreground, var(--jp-content-font-color1, black)));\n",
       "  --sklearn-color-background: var(--sg-background-color, var(--theme-background, var(--jp-layout-color0, white)));\n",
       "  --sklearn-color-border-box: var(--sg-text-color, var(--theme-code-foreground, var(--jp-content-font-color1, black)));\n",
       "  --sklearn-color-icon: #696969;\n",
       "\n",
       "  @media (prefers-color-scheme: dark) {\n",
       "    /* Redefinition of color scheme for dark theme */\n",
       "    --sklearn-color-text-on-default-background: var(--sg-text-color, var(--theme-code-foreground, var(--jp-content-font-color1, white)));\n",
       "    --sklearn-color-background: var(--sg-background-color, var(--theme-background, var(--jp-layout-color0, #111)));\n",
       "    --sklearn-color-border-box: var(--sg-text-color, var(--theme-code-foreground, var(--jp-content-font-color1, white)));\n",
       "    --sklearn-color-icon: #878787;\n",
       "  }\n",
       "}\n",
       "\n",
       "#sk-container-id-3 {\n",
       "  color: var(--sklearn-color-text);\n",
       "}\n",
       "\n",
       "#sk-container-id-3 pre {\n",
       "  padding: 0;\n",
       "}\n",
       "\n",
       "#sk-container-id-3 input.sk-hidden--visually {\n",
       "  border: 0;\n",
       "  clip: rect(1px 1px 1px 1px);\n",
       "  clip: rect(1px, 1px, 1px, 1px);\n",
       "  height: 1px;\n",
       "  margin: -1px;\n",
       "  overflow: hidden;\n",
       "  padding: 0;\n",
       "  position: absolute;\n",
       "  width: 1px;\n",
       "}\n",
       "\n",
       "#sk-container-id-3 div.sk-dashed-wrapped {\n",
       "  border: 1px dashed var(--sklearn-color-line);\n",
       "  margin: 0 0.4em 0.5em 0.4em;\n",
       "  box-sizing: border-box;\n",
       "  padding-bottom: 0.4em;\n",
       "  background-color: var(--sklearn-color-background);\n",
       "}\n",
       "\n",
       "#sk-container-id-3 div.sk-container {\n",
       "  /* jupyter's `normalize.less` sets `[hidden] { display: none; }`\n",
       "     but bootstrap.min.css set `[hidden] { display: none !important; }`\n",
       "     so we also need the `!important` here to be able to override the\n",
       "     default hidden behavior on the sphinx rendered scikit-learn.org.\n",
       "     See: https://github.com/scikit-learn/scikit-learn/issues/21755 */\n",
       "  display: inline-block !important;\n",
       "  position: relative;\n",
       "}\n",
       "\n",
       "#sk-container-id-3 div.sk-text-repr-fallback {\n",
       "  display: none;\n",
       "}\n",
       "\n",
       "div.sk-parallel-item,\n",
       "div.sk-serial,\n",
       "div.sk-item {\n",
       "  /* draw centered vertical line to link estimators */\n",
       "  background-image: linear-gradient(var(--sklearn-color-text-on-default-background), var(--sklearn-color-text-on-default-background));\n",
       "  background-size: 2px 100%;\n",
       "  background-repeat: no-repeat;\n",
       "  background-position: center center;\n",
       "}\n",
       "\n",
       "/* Parallel-specific style estimator block */\n",
       "\n",
       "#sk-container-id-3 div.sk-parallel-item::after {\n",
       "  content: \"\";\n",
       "  width: 100%;\n",
       "  border-bottom: 2px solid var(--sklearn-color-text-on-default-background);\n",
       "  flex-grow: 1;\n",
       "}\n",
       "\n",
       "#sk-container-id-3 div.sk-parallel {\n",
       "  display: flex;\n",
       "  align-items: stretch;\n",
       "  justify-content: center;\n",
       "  background-color: var(--sklearn-color-background);\n",
       "  position: relative;\n",
       "}\n",
       "\n",
       "#sk-container-id-3 div.sk-parallel-item {\n",
       "  display: flex;\n",
       "  flex-direction: column;\n",
       "}\n",
       "\n",
       "#sk-container-id-3 div.sk-parallel-item:first-child::after {\n",
       "  align-self: flex-end;\n",
       "  width: 50%;\n",
       "}\n",
       "\n",
       "#sk-container-id-3 div.sk-parallel-item:last-child::after {\n",
       "  align-self: flex-start;\n",
       "  width: 50%;\n",
       "}\n",
       "\n",
       "#sk-container-id-3 div.sk-parallel-item:only-child::after {\n",
       "  width: 0;\n",
       "}\n",
       "\n",
       "/* Serial-specific style estimator block */\n",
       "\n",
       "#sk-container-id-3 div.sk-serial {\n",
       "  display: flex;\n",
       "  flex-direction: column;\n",
       "  align-items: center;\n",
       "  background-color: var(--sklearn-color-background);\n",
       "  padding-right: 1em;\n",
       "  padding-left: 1em;\n",
       "}\n",
       "\n",
       "\n",
       "/* Toggleable style: style used for estimator/Pipeline/ColumnTransformer box that is\n",
       "clickable and can be expanded/collapsed.\n",
       "- Pipeline and ColumnTransformer use this feature and define the default style\n",
       "- Estimators will overwrite some part of the style using the `sk-estimator` class\n",
       "*/\n",
       "\n",
       "/* Pipeline and ColumnTransformer style (default) */\n",
       "\n",
       "#sk-container-id-3 div.sk-toggleable {\n",
       "  /* Default theme specific background. It is overwritten whether we have a\n",
       "  specific estimator or a Pipeline/ColumnTransformer */\n",
       "  background-color: var(--sklearn-color-background);\n",
       "}\n",
       "\n",
       "/* Toggleable label */\n",
       "#sk-container-id-3 label.sk-toggleable__label {\n",
       "  cursor: pointer;\n",
       "  display: flex;\n",
       "  width: 100%;\n",
       "  margin-bottom: 0;\n",
       "  padding: 0.5em;\n",
       "  box-sizing: border-box;\n",
       "  text-align: center;\n",
       "  align-items: start;\n",
       "  justify-content: space-between;\n",
       "  gap: 0.5em;\n",
       "}\n",
       "\n",
       "#sk-container-id-3 label.sk-toggleable__label .caption {\n",
       "  font-size: 0.6rem;\n",
       "  font-weight: lighter;\n",
       "  color: var(--sklearn-color-text-muted);\n",
       "}\n",
       "\n",
       "#sk-container-id-3 label.sk-toggleable__label-arrow:before {\n",
       "  /* Arrow on the left of the label */\n",
       "  content: \"▸\";\n",
       "  float: left;\n",
       "  margin-right: 0.25em;\n",
       "  color: var(--sklearn-color-icon);\n",
       "}\n",
       "\n",
       "#sk-container-id-3 label.sk-toggleable__label-arrow:hover:before {\n",
       "  color: var(--sklearn-color-text);\n",
       "}\n",
       "\n",
       "/* Toggleable content - dropdown */\n",
       "\n",
       "#sk-container-id-3 div.sk-toggleable__content {\n",
       "  max-height: 0;\n",
       "  max-width: 0;\n",
       "  overflow: hidden;\n",
       "  text-align: left;\n",
       "  /* unfitted */\n",
       "  background-color: var(--sklearn-color-unfitted-level-0);\n",
       "}\n",
       "\n",
       "#sk-container-id-3 div.sk-toggleable__content.fitted {\n",
       "  /* fitted */\n",
       "  background-color: var(--sklearn-color-fitted-level-0);\n",
       "}\n",
       "\n",
       "#sk-container-id-3 div.sk-toggleable__content pre {\n",
       "  margin: 0.2em;\n",
       "  border-radius: 0.25em;\n",
       "  color: var(--sklearn-color-text);\n",
       "  /* unfitted */\n",
       "  background-color: var(--sklearn-color-unfitted-level-0);\n",
       "}\n",
       "\n",
       "#sk-container-id-3 div.sk-toggleable__content.fitted pre {\n",
       "  /* unfitted */\n",
       "  background-color: var(--sklearn-color-fitted-level-0);\n",
       "}\n",
       "\n",
       "#sk-container-id-3 input.sk-toggleable__control:checked~div.sk-toggleable__content {\n",
       "  /* Expand drop-down */\n",
       "  max-height: 200px;\n",
       "  max-width: 100%;\n",
       "  overflow: auto;\n",
       "}\n",
       "\n",
       "#sk-container-id-3 input.sk-toggleable__control:checked~label.sk-toggleable__label-arrow:before {\n",
       "  content: \"▾\";\n",
       "}\n",
       "\n",
       "/* Pipeline/ColumnTransformer-specific style */\n",
       "\n",
       "#sk-container-id-3 div.sk-label input.sk-toggleable__control:checked~label.sk-toggleable__label {\n",
       "  color: var(--sklearn-color-text);\n",
       "  background-color: var(--sklearn-color-unfitted-level-2);\n",
       "}\n",
       "\n",
       "#sk-container-id-3 div.sk-label.fitted input.sk-toggleable__control:checked~label.sk-toggleable__label {\n",
       "  background-color: var(--sklearn-color-fitted-level-2);\n",
       "}\n",
       "\n",
       "/* Estimator-specific style */\n",
       "\n",
       "/* Colorize estimator box */\n",
       "#sk-container-id-3 div.sk-estimator input.sk-toggleable__control:checked~label.sk-toggleable__label {\n",
       "  /* unfitted */\n",
       "  background-color: var(--sklearn-color-unfitted-level-2);\n",
       "}\n",
       "\n",
       "#sk-container-id-3 div.sk-estimator.fitted input.sk-toggleable__control:checked~label.sk-toggleable__label {\n",
       "  /* fitted */\n",
       "  background-color: var(--sklearn-color-fitted-level-2);\n",
       "}\n",
       "\n",
       "#sk-container-id-3 div.sk-label label.sk-toggleable__label,\n",
       "#sk-container-id-3 div.sk-label label {\n",
       "  /* The background is the default theme color */\n",
       "  color: var(--sklearn-color-text-on-default-background);\n",
       "}\n",
       "\n",
       "/* On hover, darken the color of the background */\n",
       "#sk-container-id-3 div.sk-label:hover label.sk-toggleable__label {\n",
       "  color: var(--sklearn-color-text);\n",
       "  background-color: var(--sklearn-color-unfitted-level-2);\n",
       "}\n",
       "\n",
       "/* Label box, darken color on hover, fitted */\n",
       "#sk-container-id-3 div.sk-label.fitted:hover label.sk-toggleable__label.fitted {\n",
       "  color: var(--sklearn-color-text);\n",
       "  background-color: var(--sklearn-color-fitted-level-2);\n",
       "}\n",
       "\n",
       "/* Estimator label */\n",
       "\n",
       "#sk-container-id-3 div.sk-label label {\n",
       "  font-family: monospace;\n",
       "  font-weight: bold;\n",
       "  display: inline-block;\n",
       "  line-height: 1.2em;\n",
       "}\n",
       "\n",
       "#sk-container-id-3 div.sk-label-container {\n",
       "  text-align: center;\n",
       "}\n",
       "\n",
       "/* Estimator-specific */\n",
       "#sk-container-id-3 div.sk-estimator {\n",
       "  font-family: monospace;\n",
       "  border: 1px dotted var(--sklearn-color-border-box);\n",
       "  border-radius: 0.25em;\n",
       "  box-sizing: border-box;\n",
       "  margin-bottom: 0.5em;\n",
       "  /* unfitted */\n",
       "  background-color: var(--sklearn-color-unfitted-level-0);\n",
       "}\n",
       "\n",
       "#sk-container-id-3 div.sk-estimator.fitted {\n",
       "  /* fitted */\n",
       "  background-color: var(--sklearn-color-fitted-level-0);\n",
       "}\n",
       "\n",
       "/* on hover */\n",
       "#sk-container-id-3 div.sk-estimator:hover {\n",
       "  /* unfitted */\n",
       "  background-color: var(--sklearn-color-unfitted-level-2);\n",
       "}\n",
       "\n",
       "#sk-container-id-3 div.sk-estimator.fitted:hover {\n",
       "  /* fitted */\n",
       "  background-color: var(--sklearn-color-fitted-level-2);\n",
       "}\n",
       "\n",
       "/* Specification for estimator info (e.g. \"i\" and \"?\") */\n",
       "\n",
       "/* Common style for \"i\" and \"?\" */\n",
       "\n",
       ".sk-estimator-doc-link,\n",
       "a:link.sk-estimator-doc-link,\n",
       "a:visited.sk-estimator-doc-link {\n",
       "  float: right;\n",
       "  font-size: smaller;\n",
       "  line-height: 1em;\n",
       "  font-family: monospace;\n",
       "  background-color: var(--sklearn-color-background);\n",
       "  border-radius: 1em;\n",
       "  height: 1em;\n",
       "  width: 1em;\n",
       "  text-decoration: none !important;\n",
       "  margin-left: 0.5em;\n",
       "  text-align: center;\n",
       "  /* unfitted */\n",
       "  border: var(--sklearn-color-unfitted-level-1) 1pt solid;\n",
       "  color: var(--sklearn-color-unfitted-level-1);\n",
       "}\n",
       "\n",
       ".sk-estimator-doc-link.fitted,\n",
       "a:link.sk-estimator-doc-link.fitted,\n",
       "a:visited.sk-estimator-doc-link.fitted {\n",
       "  /* fitted */\n",
       "  border: var(--sklearn-color-fitted-level-1) 1pt solid;\n",
       "  color: var(--sklearn-color-fitted-level-1);\n",
       "}\n",
       "\n",
       "/* On hover */\n",
       "div.sk-estimator:hover .sk-estimator-doc-link:hover,\n",
       ".sk-estimator-doc-link:hover,\n",
       "div.sk-label-container:hover .sk-estimator-doc-link:hover,\n",
       ".sk-estimator-doc-link:hover {\n",
       "  /* unfitted */\n",
       "  background-color: var(--sklearn-color-unfitted-level-3);\n",
       "  color: var(--sklearn-color-background);\n",
       "  text-decoration: none;\n",
       "}\n",
       "\n",
       "div.sk-estimator.fitted:hover .sk-estimator-doc-link.fitted:hover,\n",
       ".sk-estimator-doc-link.fitted:hover,\n",
       "div.sk-label-container:hover .sk-estimator-doc-link.fitted:hover,\n",
       ".sk-estimator-doc-link.fitted:hover {\n",
       "  /* fitted */\n",
       "  background-color: var(--sklearn-color-fitted-level-3);\n",
       "  color: var(--sklearn-color-background);\n",
       "  text-decoration: none;\n",
       "}\n",
       "\n",
       "/* Span, style for the box shown on hovering the info icon */\n",
       ".sk-estimator-doc-link span {\n",
       "  display: none;\n",
       "  z-index: 9999;\n",
       "  position: relative;\n",
       "  font-weight: normal;\n",
       "  right: .2ex;\n",
       "  padding: .5ex;\n",
       "  margin: .5ex;\n",
       "  width: min-content;\n",
       "  min-width: 20ex;\n",
       "  max-width: 50ex;\n",
       "  color: var(--sklearn-color-text);\n",
       "  box-shadow: 2pt 2pt 4pt #999;\n",
       "  /* unfitted */\n",
       "  background: var(--sklearn-color-unfitted-level-0);\n",
       "  border: .5pt solid var(--sklearn-color-unfitted-level-3);\n",
       "}\n",
       "\n",
       ".sk-estimator-doc-link.fitted span {\n",
       "  /* fitted */\n",
       "  background: var(--sklearn-color-fitted-level-0);\n",
       "  border: var(--sklearn-color-fitted-level-3);\n",
       "}\n",
       "\n",
       ".sk-estimator-doc-link:hover span {\n",
       "  display: block;\n",
       "}\n",
       "\n",
       "/* \"?\"-specific style due to the `<a>` HTML tag */\n",
       "\n",
       "#sk-container-id-3 a.estimator_doc_link {\n",
       "  float: right;\n",
       "  font-size: 1rem;\n",
       "  line-height: 1em;\n",
       "  font-family: monospace;\n",
       "  background-color: var(--sklearn-color-background);\n",
       "  border-radius: 1rem;\n",
       "  height: 1rem;\n",
       "  width: 1rem;\n",
       "  text-decoration: none;\n",
       "  /* unfitted */\n",
       "  color: var(--sklearn-color-unfitted-level-1);\n",
       "  border: var(--sklearn-color-unfitted-level-1) 1pt solid;\n",
       "}\n",
       "\n",
       "#sk-container-id-3 a.estimator_doc_link.fitted {\n",
       "  /* fitted */\n",
       "  border: var(--sklearn-color-fitted-level-1) 1pt solid;\n",
       "  color: var(--sklearn-color-fitted-level-1);\n",
       "}\n",
       "\n",
       "/* On hover */\n",
       "#sk-container-id-3 a.estimator_doc_link:hover {\n",
       "  /* unfitted */\n",
       "  background-color: var(--sklearn-color-unfitted-level-3);\n",
       "  color: var(--sklearn-color-background);\n",
       "  text-decoration: none;\n",
       "}\n",
       "\n",
       "#sk-container-id-3 a.estimator_doc_link.fitted:hover {\n",
       "  /* fitted */\n",
       "  background-color: var(--sklearn-color-fitted-level-3);\n",
       "}\n",
       "</style><div id=\"sk-container-id-3\" class=\"sk-top-container\"><div class=\"sk-text-repr-fallback\"><pre>GaussianMixture(n_components=3, random_state=30)</pre><b>In a Jupyter environment, please rerun this cell to show the HTML representation or trust the notebook. <br />On GitHub, the HTML representation is unable to render, please try loading this page with nbviewer.org.</b></div><div class=\"sk-container\" hidden><div class=\"sk-item\"><div class=\"sk-estimator fitted sk-toggleable\"><input class=\"sk-toggleable__control sk-hidden--visually\" id=\"sk-estimator-id-3\" type=\"checkbox\" checked><label for=\"sk-estimator-id-3\" class=\"sk-toggleable__label fitted sk-toggleable__label-arrow\"><div><div>GaussianMixture</div></div><div><a class=\"sk-estimator-doc-link fitted\" rel=\"noreferrer\" target=\"_blank\" href=\"https://scikit-learn.org/1.6/modules/generated/sklearn.mixture.GaussianMixture.html\">?<span>Documentation for GaussianMixture</span></a><span class=\"sk-estimator-doc-link fitted\">i<span>Fitted</span></span></div></label><div class=\"sk-toggleable__content fitted\"><pre>GaussianMixture(n_components=3, random_state=30)</pre></div> </div></div></div></div>"
      ],
      "text/plain": [
       "GaussianMixture(n_components=3, random_state=30)"
      ]
     },
     "execution_count": 96,
     "metadata": {},
     "output_type": "execute_result"
    }
   ],
   "source": [
    "gmm.fit(X_scaled)"
   ]
  },
  {
   "cell_type": "code",
   "execution_count": 97,
   "id": "fb2df655",
   "metadata": {},
   "outputs": [
    {
     "data": {
      "text/html": [
       "<div>\n",
       "<style scoped>\n",
       "    .dataframe tbody tr th:only-of-type {\n",
       "        vertical-align: middle;\n",
       "    }\n",
       "\n",
       "    .dataframe tbody tr th {\n",
       "        vertical-align: top;\n",
       "    }\n",
       "\n",
       "    .dataframe thead th {\n",
       "        text-align: right;\n",
       "    }\n",
       "</style>\n",
       "<table border=\"1\" class=\"dataframe\">\n",
       "  <thead>\n",
       "    <tr style=\"text-align: right;\">\n",
       "      <th></th>\n",
       "      <th>total_stay_time</th>\n",
       "      <th>avg_stay_time</th>\n",
       "      <th>visit_days</th>\n",
       "      <th>visited_sites_count</th>\n",
       "      <th>session_count</th>\n",
       "      <th>days_since_trial</th>\n",
       "      <th>area_pyeong</th>\n",
       "      <th>first_visit_month</th>\n",
       "    </tr>\n",
       "  </thead>\n",
       "  <tbody>\n",
       "    <tr>\n",
       "      <th>0</th>\n",
       "      <td>21417</td>\n",
       "      <td>21417.000000</td>\n",
       "      <td>1</td>\n",
       "      <td>1</td>\n",
       "      <td>3</td>\n",
       "      <td>1</td>\n",
       "      <td>150</td>\n",
       "      <td>9</td>\n",
       "    </tr>\n",
       "    <tr>\n",
       "      <th>1</th>\n",
       "      <td>45569</td>\n",
       "      <td>15189.666667</td>\n",
       "      <td>3</td>\n",
       "      <td>1</td>\n",
       "      <td>9</td>\n",
       "      <td>1</td>\n",
       "      <td>150</td>\n",
       "      <td>9</td>\n",
       "    </tr>\n",
       "    <tr>\n",
       "      <th>2</th>\n",
       "      <td>77372</td>\n",
       "      <td>38686.000000</td>\n",
       "      <td>2</td>\n",
       "      <td>1</td>\n",
       "      <td>8</td>\n",
       "      <td>1</td>\n",
       "      <td>150</td>\n",
       "      <td>11</td>\n",
       "    </tr>\n",
       "    <tr>\n",
       "      <th>3</th>\n",
       "      <td>25024</td>\n",
       "      <td>12512.000000</td>\n",
       "      <td>2</td>\n",
       "      <td>1</td>\n",
       "      <td>4</td>\n",
       "      <td>1</td>\n",
       "      <td>50</td>\n",
       "      <td>1</td>\n",
       "    </tr>\n",
       "    <tr>\n",
       "      <th>4</th>\n",
       "      <td>23609</td>\n",
       "      <td>11804.500000</td>\n",
       "      <td>2</td>\n",
       "      <td>1</td>\n",
       "      <td>5</td>\n",
       "      <td>1</td>\n",
       "      <td>150</td>\n",
       "      <td>9</td>\n",
       "    </tr>\n",
       "    <tr>\n",
       "      <th>...</th>\n",
       "      <td>...</td>\n",
       "      <td>...</td>\n",
       "      <td>...</td>\n",
       "      <td>...</td>\n",
       "      <td>...</td>\n",
       "      <td>...</td>\n",
       "      <td>...</td>\n",
       "      <td>...</td>\n",
       "    </tr>\n",
       "    <tr>\n",
       "      <th>5702</th>\n",
       "      <td>34585</td>\n",
       "      <td>17292.500000</td>\n",
       "      <td>2</td>\n",
       "      <td>1</td>\n",
       "      <td>4</td>\n",
       "      <td>2</td>\n",
       "      <td>50</td>\n",
       "      <td>5</td>\n",
       "    </tr>\n",
       "    <tr>\n",
       "      <th>5703</th>\n",
       "      <td>29613</td>\n",
       "      <td>14806.500000</td>\n",
       "      <td>2</td>\n",
       "      <td>1</td>\n",
       "      <td>5</td>\n",
       "      <td>1</td>\n",
       "      <td>100</td>\n",
       "      <td>4</td>\n",
       "    </tr>\n",
       "    <tr>\n",
       "      <th>5704</th>\n",
       "      <td>8450</td>\n",
       "      <td>8450.000000</td>\n",
       "      <td>1</td>\n",
       "      <td>1</td>\n",
       "      <td>2</td>\n",
       "      <td>0</td>\n",
       "      <td>100</td>\n",
       "      <td>11</td>\n",
       "    </tr>\n",
       "    <tr>\n",
       "      <th>5705</th>\n",
       "      <td>52855</td>\n",
       "      <td>17618.333333</td>\n",
       "      <td>3</td>\n",
       "      <td>1</td>\n",
       "      <td>10</td>\n",
       "      <td>1</td>\n",
       "      <td>150</td>\n",
       "      <td>4</td>\n",
       "    </tr>\n",
       "    <tr>\n",
       "      <th>5706</th>\n",
       "      <td>6976</td>\n",
       "      <td>6976.000000</td>\n",
       "      <td>1</td>\n",
       "      <td>1</td>\n",
       "      <td>3</td>\n",
       "      <td>1</td>\n",
       "      <td>150</td>\n",
       "      <td>1</td>\n",
       "    </tr>\n",
       "  </tbody>\n",
       "</table>\n",
       "<p>5707 rows × 8 columns</p>\n",
       "</div>"
      ],
      "text/plain": [
       "      total_stay_time  avg_stay_time  visit_days  visited_sites_count  \\\n",
       "0               21417   21417.000000           1                    1   \n",
       "1               45569   15189.666667           3                    1   \n",
       "2               77372   38686.000000           2                    1   \n",
       "3               25024   12512.000000           2                    1   \n",
       "4               23609   11804.500000           2                    1   \n",
       "...               ...            ...         ...                  ...   \n",
       "5702            34585   17292.500000           2                    1   \n",
       "5703            29613   14806.500000           2                    1   \n",
       "5704             8450    8450.000000           1                    1   \n",
       "5705            52855   17618.333333           3                    1   \n",
       "5706             6976    6976.000000           1                    1   \n",
       "\n",
       "      session_count  days_since_trial  area_pyeong  first_visit_month  \n",
       "0                 3                 1          150                  9  \n",
       "1                 9                 1          150                  9  \n",
       "2                 8                 1          150                 11  \n",
       "3                 4                 1           50                  1  \n",
       "4                 5                 1          150                  9  \n",
       "...             ...               ...          ...                ...  \n",
       "5702              4                 2           50                  5  \n",
       "5703              5                 1          100                  4  \n",
       "5704              2                 0          100                 11  \n",
       "5705             10                 1          150                  4  \n",
       "5706              3                 1          150                  1  \n",
       "\n",
       "[5707 rows x 8 columns]"
      ]
     },
     "execution_count": 97,
     "metadata": {},
     "output_type": "execute_result"
    }
   ],
   "source": [
    "clustering_df2"
   ]
  },
  {
   "cell_type": "code",
   "execution_count": 98,
   "id": "f3480da9",
   "metadata": {},
   "outputs": [],
   "source": [
    "clustering_df['gmm_label'] = gmm.predict(X_scaled)"
   ]
  },
  {
   "cell_type": "code",
   "execution_count": 99,
   "id": "7ba4d528",
   "metadata": {},
   "outputs": [
    {
     "data": {
      "text/plain": [
       "array([[2.35671169e-03, 6.21869608e-08, 9.97643226e-01],\n",
       "       [9.35388309e-05, 3.17336355e-08, 9.99906429e-01],\n",
       "       [3.65047125e-03, 1.14761138e-05, 9.96338053e-01],\n",
       "       ...,\n",
       "       [9.99999975e-01, 2.46602604e-08, 0.00000000e+00],\n",
       "       [1.04091984e-04, 5.38857448e-08, 9.99895854e-01],\n",
       "       [9.15512262e-04, 3.61795331e-09, 9.99084484e-01]])"
      ]
     },
     "execution_count": 99,
     "metadata": {},
     "output_type": "execute_result"
    }
   ],
   "source": [
    "# 클러스터 소속 확률 확인\n",
    "proba = gmm.predict_proba(X_scaled)\n",
    "proba"
   ]
  },
  {
   "cell_type": "code",
   "execution_count": 100,
   "id": "1bad9dbb",
   "metadata": {},
   "outputs": [],
   "source": [
    "# 각 샘플이 가장 높은 확률을 가진\n",
    "# 컴포넌트 확률만 추출\n",
    "clustering_df['cluster_proba'] = proba.max(axis=1)"
   ]
  },
  {
   "cell_type": "code",
   "execution_count": 101,
   "id": "f2ded224",
   "metadata": {},
   "outputs": [
    {
     "data": {
      "text/html": [
       "<div>\n",
       "<style scoped>\n",
       "    .dataframe tbody tr th:only-of-type {\n",
       "        vertical-align: middle;\n",
       "    }\n",
       "\n",
       "    .dataframe tbody tr th {\n",
       "        vertical-align: top;\n",
       "    }\n",
       "\n",
       "    .dataframe thead th {\n",
       "        text-align: right;\n",
       "    }\n",
       "</style>\n",
       "<table border=\"1\" class=\"dataframe\">\n",
       "  <thead>\n",
       "    <tr style=\"text-align: right;\">\n",
       "      <th></th>\n",
       "      <th>total_stay_time</th>\n",
       "      <th>avg_stay_time</th>\n",
       "      <th>visit_days</th>\n",
       "      <th>visited_sites_count</th>\n",
       "      <th>session_count</th>\n",
       "      <th>days_since_trial</th>\n",
       "      <th>area_pyeong</th>\n",
       "      <th>is_payment</th>\n",
       "      <th>first_visit_month</th>\n",
       "      <th>cluster</th>\n",
       "      <th>gmm_label</th>\n",
       "      <th>cluster_proba</th>\n",
       "    </tr>\n",
       "  </thead>\n",
       "  <tbody>\n",
       "    <tr>\n",
       "      <th>5705</th>\n",
       "      <td>52855</td>\n",
       "      <td>17618.333333</td>\n",
       "      <td>3</td>\n",
       "      <td>1</td>\n",
       "      <td>10</td>\n",
       "      <td>1</td>\n",
       "      <td>150</td>\n",
       "      <td>0</td>\n",
       "      <td>4</td>\n",
       "      <td>2</td>\n",
       "      <td>2</td>\n",
       "      <td>0.999896</td>\n",
       "    </tr>\n",
       "    <tr>\n",
       "      <th>5706</th>\n",
       "      <td>6976</td>\n",
       "      <td>6976.000000</td>\n",
       "      <td>1</td>\n",
       "      <td>1</td>\n",
       "      <td>3</td>\n",
       "      <td>1</td>\n",
       "      <td>150</td>\n",
       "      <td>0</td>\n",
       "      <td>1</td>\n",
       "      <td>0</td>\n",
       "      <td>2</td>\n",
       "      <td>0.999084</td>\n",
       "    </tr>\n",
       "  </tbody>\n",
       "</table>\n",
       "</div>"
      ],
      "text/plain": [
       "      total_stay_time  avg_stay_time  visit_days  visited_sites_count  \\\n",
       "5705            52855   17618.333333           3                    1   \n",
       "5706             6976    6976.000000           1                    1   \n",
       "\n",
       "      session_count  days_since_trial  area_pyeong  is_payment  \\\n",
       "5705             10                 1          150           0   \n",
       "5706              3                 1          150           0   \n",
       "\n",
       "      first_visit_month  cluster  gmm_label  cluster_proba  \n",
       "5705                  4        2          2       0.999896  \n",
       "5706                  1        0          2       0.999084  "
      ]
     },
     "execution_count": 101,
     "metadata": {},
     "output_type": "execute_result"
    }
   ],
   "source": [
    "clustering_df.tail(2)"
   ]
  },
  {
   "cell_type": "code",
   "execution_count": 102,
   "id": "f53766df",
   "metadata": {},
   "outputs": [
    {
     "data": {
      "text/plain": [
       "gmm_label\n",
       "0    2688\n",
       "2    2646\n",
       "1     373\n",
       "Name: count, dtype: int64"
      ]
     },
     "execution_count": 102,
     "metadata": {},
     "output_type": "execute_result"
    }
   ],
   "source": [
    "clustering_df['gmm_label'].value_counts()"
   ]
  },
  {
   "cell_type": "code",
   "execution_count": 103,
   "id": "74eaa7a3",
   "metadata": {},
   "outputs": [
    {
     "data": {
      "text/plain": [
       "gmm_label\n",
       "0    0.375372\n",
       "1    0.450402\n",
       "2    0.397581\n",
       "Name: is_payment, dtype: float64"
      ]
     },
     "execution_count": 103,
     "metadata": {},
     "output_type": "execute_result"
    }
   ],
   "source": [
    "clustering_df.groupby('gmm_label')['is_payment'].mean()"
   ]
  },
  {
   "cell_type": "code",
   "execution_count": 104,
   "id": "fe65b10f",
   "metadata": {},
   "outputs": [],
   "source": [
    "from sklearn.decomposition import PCA"
   ]
  },
  {
   "cell_type": "markdown",
   "id": "6e96bcdb",
   "metadata": {},
   "source": [
    "- 6개의 주성분으로 GMM 클러스터링"
   ]
  },
  {
   "cell_type": "code",
   "execution_count": 105,
   "id": "6f93036d",
   "metadata": {},
   "outputs": [
    {
     "data": {
      "image/png": "[encoded data removed]",
      "text/plain": [
       "<Figure size 640x480 with 1 Axes>"
      ]
     },
     "metadata": {},
     "output_type": "display_data"
    }
   ],
   "source": [
    "pca = PCA()\n",
    "X_pca = pca.fit_transform(X_scaled)\n",
    "\n",
    "# 누적 설명력 계산\n",
    "cumulative_variance = np.cumsum(pca.explained_variance_ratio_)\n",
    "\n",
    "# 시각화\n",
    "plt.plot(range(1, len(cumulative_variance) + 1), cumulative_variance, marker='o')\n",
    "plt.axhline(y=0.90, color='r', linestyle='--')\n",
    "plt.title('Cumulative Explained Variance by PCA Components')\n",
    "plt.xlabel('Number of Components')\n",
    "plt.ylabel('Cumulative Variance')\n",
    "plt.grid()\n",
    "plt.show()"
   ]
  },
  {
   "cell_type": "code",
   "execution_count": 106,
   "id": "96cdd836",
   "metadata": {},
   "outputs": [],
   "source": [
    "# 1. PCA로 차원 축소\n",
    "pca = PCA(n_components=6)\n",
    "X_pca = pca.fit_transform(X_scaled)\n",
    "\n",
    "# 2. GMM 적용\n",
    "gmm = GaussianMixture(n_components=3, random_state=42)\n",
    "labels = gmm.fit_predict(X_pca)"
   ]
  },
  {
   "cell_type": "code",
   "execution_count": 107,
   "id": "83198bb2",
   "metadata": {},
   "outputs": [
    {
     "data": {
      "image/png": "[encoded data removed]",
      "text/plain": [
       "<Figure size 600x500 with 1 Axes>"
      ]
     },
     "metadata": {},
     "output_type": "display_data"
    }
   ],
   "source": [
    "plt.figure(figsize=(6, 5))\n",
    "sns.scatterplot(x=X_pca[:, 0], y=X_pca[:, 1],\n",
    "                hue=labels, palette='Set2', s=40)\n",
    "\n",
    "plt.xlabel('PC1')\n",
    "plt.ylabel('PC2')\n",
    "plt.title('GMM Clustering Result (PCA 2D)')\n",
    "plt.legend(title='Cluster', bbox_to_anchor=(1.05, 1), loc='upper left')\n",
    "plt.grid(True)\n",
    "plt.tight_layout()\n",
    "plt.show()"
   ]
  },
  {
   "cell_type": "code",
   "execution_count": 108,
   "id": "f36dee26",
   "metadata": {},
   "outputs": [
    {
     "data": {
      "text/plain": [
       "array([0.3342398 , 0.14526887, 0.12897182, 0.12229594, 0.11338553,\n",
       "       0.09087011])"
      ]
     },
     "execution_count": 108,
     "metadata": {},
     "output_type": "execute_result"
    }
   ],
   "source": [
    "pca.explained_variance_ratio_"
   ]
  },
  {
   "cell_type": "code",
   "execution_count": 109,
   "id": "5c2f2c56",
   "metadata": {},
   "outputs": [
    {
     "name": "stdout",
     "output_type": "stream",
     "text": [
      "0    2946\n",
      "1    2460\n",
      "2     301\n",
      "Name: count, dtype: int64\n"
     ]
    }
   ],
   "source": [
    "# 클러스터별 개수\n",
    "cluster_counts = pd.Series(labels).value_counts().sort_index()\n",
    "print(cluster_counts)"
   ]
  },
  {
   "cell_type": "code",
   "execution_count": 110,
   "id": "a409c005",
   "metadata": {},
   "outputs": [],
   "source": [
    "clustering_df['gmm_label'] = labels"
   ]
  },
  {
   "cell_type": "code",
   "execution_count": 111,
   "id": "4cb05a0b",
   "metadata": {},
   "outputs": [
    {
     "data": {
      "text/plain": [
       "gmm_label\n",
       "0    2946\n",
       "1    2460\n",
       "2     301\n",
       "Name: count, dtype: int64"
      ]
     },
     "execution_count": 111,
     "metadata": {},
     "output_type": "execute_result"
    }
   ],
   "source": [
    "clustering_df['gmm_label'].value_counts()"
   ]
  },
  {
   "cell_type": "code",
   "execution_count": 112,
   "id": "6c8385c7",
   "metadata": {},
   "outputs": [
    {
     "data": {
      "text/plain": [
       "gmm_label\n",
       "0    0.438561\n",
       "1    0.321138\n",
       "2    0.488372\n",
       "Name: is_payment, dtype: float64"
      ]
     },
     "execution_count": 112,
     "metadata": {},
     "output_type": "execute_result"
    }
   ],
   "source": [
    "clustering_df.groupby('gmm_label')['is_payment'].mean()"
   ]
  },
  {
   "cell_type": "code",
   "execution_count": 113,
   "id": "12dfc2b4",
   "metadata": {},
   "outputs": [
    {
     "data": {
      "text/html": [
       "<div>\n",
       "<style scoped>\n",
       "    .dataframe tbody tr th:only-of-type {\n",
       "        vertical-align: middle;\n",
       "    }\n",
       "\n",
       "    .dataframe tbody tr th {\n",
       "        vertical-align: top;\n",
       "    }\n",
       "\n",
       "    .dataframe thead th {\n",
       "        text-align: right;\n",
       "    }\n",
       "</style>\n",
       "<table border=\"1\" class=\"dataframe\">\n",
       "  <thead>\n",
       "    <tr style=\"text-align: right;\">\n",
       "      <th>gmm_label</th>\n",
       "      <th>0</th>\n",
       "      <th>1</th>\n",
       "      <th>2</th>\n",
       "    </tr>\n",
       "  </thead>\n",
       "  <tbody>\n",
       "    <tr>\n",
       "      <th>total_stay_time</th>\n",
       "      <td>42980.687712</td>\n",
       "      <td>12560.499187</td>\n",
       "      <td>44947.694352</td>\n",
       "    </tr>\n",
       "    <tr>\n",
       "      <th>avg_stay_time</th>\n",
       "      <td>18193.789749</td>\n",
       "      <td>12553.080488</td>\n",
       "      <td>16339.629790</td>\n",
       "    </tr>\n",
       "    <tr>\n",
       "      <th>visit_days</th>\n",
       "      <td>2.375085</td>\n",
       "      <td>1.000407</td>\n",
       "      <td>2.461794</td>\n",
       "    </tr>\n",
       "    <tr>\n",
       "      <th>visited_sites_count</th>\n",
       "      <td>1.000000</td>\n",
       "      <td>1.000000</td>\n",
       "      <td>2.069767</td>\n",
       "    </tr>\n",
       "    <tr>\n",
       "      <th>session_count</th>\n",
       "      <td>6.512559</td>\n",
       "      <td>2.710163</td>\n",
       "      <td>8.787375</td>\n",
       "    </tr>\n",
       "    <tr>\n",
       "      <th>days_since_trial</th>\n",
       "      <td>0.797013</td>\n",
       "      <td>1.104065</td>\n",
       "      <td>0.657807</td>\n",
       "    </tr>\n",
       "    <tr>\n",
       "      <th>area_pyeong</th>\n",
       "      <td>113.849287</td>\n",
       "      <td>109.369919</td>\n",
       "      <td>98.172757</td>\n",
       "    </tr>\n",
       "    <tr>\n",
       "      <th>is_payment</th>\n",
       "      <td>0.438561</td>\n",
       "      <td>0.321138</td>\n",
       "      <td>0.488372</td>\n",
       "    </tr>\n",
       "    <tr>\n",
       "      <th>first_visit_month</th>\n",
       "      <td>7.175492</td>\n",
       "      <td>7.297154</td>\n",
       "      <td>7.229236</td>\n",
       "    </tr>\n",
       "    <tr>\n",
       "      <th>cluster</th>\n",
       "      <td>1.201629</td>\n",
       "      <td>0.429675</td>\n",
       "      <td>1.481728</td>\n",
       "    </tr>\n",
       "    <tr>\n",
       "      <th>cluster_proba</th>\n",
       "      <td>0.993098</td>\n",
       "      <td>0.999447</td>\n",
       "      <td>0.997169</td>\n",
       "    </tr>\n",
       "  </tbody>\n",
       "</table>\n",
       "</div>"
      ],
      "text/plain": [
       "gmm_label                       0             1             2\n",
       "total_stay_time      42980.687712  12560.499187  44947.694352\n",
       "avg_stay_time        18193.789749  12553.080488  16339.629790\n",
       "visit_days               2.375085      1.000407      2.461794\n",
       "visited_sites_count      1.000000      1.000000      2.069767\n",
       "session_count            6.512559      2.710163      8.787375\n",
       "days_since_trial         0.797013      1.104065      0.657807\n",
       "area_pyeong            113.849287    109.369919     98.172757\n",
       "is_payment               0.438561      0.321138      0.488372\n",
       "first_visit_month        7.175492      7.297154      7.229236\n",
       "cluster                  1.201629      0.429675      1.481728\n",
       "cluster_proba            0.993098      0.999447      0.997169"
      ]
     },
     "execution_count": 113,
     "metadata": {},
     "output_type": "execute_result"
    }
   ],
   "source": [
    "clustering_df.groupby('gmm_label').mean().T"
   ]
  }
 ],
 "metadata": {
  "kernelspec": {
   "display_name": "codeit_env",
   "language": "python",
   "name": "python3"
  },
  "language_info": {
   "codemirror_mode": {
    "name": "ipython",
    "version": 3
   },
   "file_extension": ".py",
   "mimetype": "text/x-python",
   "name": "python",
   "nbconvert_exporter": "python",
   "pygments_lexer": "ipython3",
   "version": "3.12.9"
  }
 },
 "nbformat": 4,
 "nbformat_minor": 5
}
