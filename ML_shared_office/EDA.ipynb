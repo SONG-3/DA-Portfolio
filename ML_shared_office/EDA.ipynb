{
 "cells": [
  {
   "cell_type": "markdown",
   "id": "a1a0b2b7",
   "metadata": {},
   "source": [
    "## 1. 프로젝트 개요"
   ]
  },
  {
   "cell_type": "markdown",
   "id": "a9c576eb",
   "metadata": {},
   "source": [
    "- 공유 오피스 3일 무료 체험 데이터를 활용하여 출입 및 방문 패턴을 분석하여 결제 전환 여부 예측 모델을 구축하고 모델을 기반으로\n",
    "- 유저 행동 특성별 타겟 마케팅 전략을 수립한다."
   ]
  },
  {
   "cell_type": "markdown",
   "id": "21dd7169",
   "metadata": {},
   "source": [
    "### 1-1 활용 데이터셋 \n",
    "- *본 프로젝트는 기업 내부 데이터를 기반으로 분석되었으며, 보안 및 기밀 유지를 위해 원본 데이터는 포함되어 있지 않습니다. 문제 발생 시 즉시 삭제*\n",
    "- 공유 오피스 3일 무로 체험 데이터(2021.05.01~2023.12.31)\n",
    "    - `3일 체험 신청자 출입 기록 로그`\n",
    "    - `3일 체험 신청`\n",
    "    - `3일 체험 신청자 일자별 방문 기록`\n",
    "    - `3일 체험 신청자 결제 여부`\n",
    "    - `지점별 면적`"
   ]
  },
  {
   "cell_type": "markdown",
   "id": "908c20d8",
   "metadata": {},
   "source": [
    "### 1-2 EDA 인사이트 결과"
   ]
  },
  {
   "cell_type": "markdown",
   "id": "96df22c5",
   "metadata": {},
   "source": [
    "- 3일 무료 체험의 유료 결제 전환율\n",
    "    - 방문자 5707명 중 3478명(약 61%)이 무료 체험 방문 후 이탈하여 결제 전환율이 낮음\n",
    "    - 무료 체험 방문자는 이용 목적이 뚜렷하지만 결제 전환까지 동기가 부족했음을 시사함 \n",
    "- 결제 여부에 따른 방문 일수별 체류 시간 비교 \n",
    "    - 방문 일수가 증가할수록 체류 시간 증가 \n",
    "    - 하지만 모든 방문 구간에서 미결제 유저의 평균 체류 시간이 더 긴 경향 \n",
    "    - 미결제 유저가 더 오래 머물렀다는 점은 만족도는 높지만 결제 유도 설계를 보완해야함을 시사\n",
    "    - 결제 유저는 짧고 효율적으로 이용하는 경향이 있어 행동 패턴 중심 개선이 중요 \n",
    "- 결제 유저의 방문 패턴\n",
    "    - 입실 시각: 새벽~ 이른 아침(0~12시)에 집중, 새벽 4~5시가 피크 타임 \n",
    "    - 퇴실 시각: 아침~ 오후(7~14시)까지 지속, 8~10시에 집중됨 \n",
    "    - 주말 이용자 비중 낮음\n",
    "    - 방문 일수가 늘어날수록 결제 전환율이 상승하는 경향\n",
    "    - 결제자의 약 92%가 3일 중 1~2일 방문 후 결제 \n",
    "    - 요일별 시간대별 맞춤 전략과 방문 반복 유도 및 2일차 결제 유도 설계과 중요"
   ]
  },
  {
   "cell_type": "markdown",
   "id": "a692fe0b",
   "metadata": {},
   "source": [
    "## 데이터 환경 설정 및 라이브러리 불러오기"
   ]
  },
  {
   "cell_type": "code",
   "execution_count": 2,
   "id": "b0073ec3",
   "metadata": {},
   "outputs": [],
   "source": [
    "import pandas as pd \n",
    "import numpy as np \n",
    "import matplotlib.pyplot as plt \n",
    "import seaborn as sns \n",
    "import koreanize_matplotlib"
   ]
  },
  {
   "cell_type": "code",
   "execution_count": 3,
   "id": "b9478eb1",
   "metadata": {},
   "outputs": [],
   "source": [
    "site_path = '/Users/SongKG/Downloads/중급 공유오피스 데이터 /site_area.csv'\n",
    "access_path = '/Users/SongKG/Downloads/중급 공유오피스 데이터 /trial_access_log.csv'\n",
    "payment_path = '/Users/SongKG/Downloads/중급 공유오피스 데이터 /trial_payment.csv'\n",
    "register_path = '/Users/SongKG/Downloads/중급 공유오피스 데이터 /trial_register.csv'\n",
    "visit_path = '/Users/SongKG/Downloads/중급 공유오피스 데이터 /trial_visit_info.csv'\n",
    "\n",
    "site_df1 = pd.read_csv(site_path)\n",
    "access_log_df1 = pd.read_csv(access_path)\n",
    "payment_df1 = pd.read_csv(payment_path)\n",
    "register_df1 = pd.read_csv(register_path)\n",
    "visit_df1 = pd.read_csv(visit_path)\n",
    "\n",
    "site_df = site_df1.copy()\n",
    "access_log_df = access_log_df1.copy()\n",
    "payment_df = payment_df1.copy()\n",
    "register_df = register_df1.copy()\n",
    "visit_df = visit_df1.copy()"
   ]
  },
  {
   "cell_type": "code",
   "execution_count": 4,
   "id": "8f0558f2",
   "metadata": {},
   "outputs": [],
   "source": [
    "access_log_df = access_log_df.sort_values(by=['user_uuid', 'cdate']).reset_index(drop=True)"
   ]
  },
  {
   "cell_type": "markdown",
   "id": "0792430f",
   "metadata": {},
   "source": [
    "## 2. 데이터 전처리"
   ]
  },
  {
   "cell_type": "markdown",
   "id": "c36f14ec",
   "metadata": {},
   "source": [
    "- 입실 혹은 퇴실 로그만 있는 유저 제거\n",
    "- 유저별 방문 날짜별 입실(1) -> 퇴실(2) 로그 쌍을 가진 유저만 정상 방문으로 간주 \n",
    "- 유저별 퇴실 로그가 퇴실이거나 마지막 로그가 입실인 로그 시스템 오류로 판단하여 제거\n",
    "- 중복되는 로그(입실 -> 입실, 퇴실 -> 퇴실) 중 첫 행만 남기고 제거 \n",
    "- 방문자 6026명 중 5707명의 출입 기록 로그 데이터로 진행"
   ]
  },
  {
   "cell_type": "code",
   "execution_count": 11,
   "id": "8886ab8e",
   "metadata": {},
   "outputs": [
    {
     "data": {
      "text/plain": [
       "6026"
      ]
     },
     "execution_count": 11,
     "metadata": {},
     "output_type": "execute_result"
    }
   ],
   "source": [
    "### 출입 기록 로그 \n",
    "access_log_df['user_uuid'].nunique()"
   ]
  },
  {
   "cell_type": "markdown",
   "id": "8c57335b",
   "metadata": {},
   "source": [
    "### checkin 값이 하나만 존재하는 유저 \n",
    "- checkin 기록이 입실만 있거나 퇴실만 존재하는 유저 : 40명\n",
    "- 비정상 체크인 후보"
   ]
  },
  {
   "cell_type": "code",
   "execution_count": 5,
   "id": "f18a73fb",
   "metadata": {},
   "outputs": [
    {
     "data": {
      "text/plain": [
       "40"
      ]
     },
     "execution_count": 5,
     "metadata": {},
     "output_type": "execute_result"
    }
   ],
   "source": [
    "abnormal_users = access_log_df.groupby('user_uuid')['checkin'].nunique()\n",
    "abnormal_users = abnormal_users[abnormal_users < 2].index  \n",
    "len(abnormal_users)"
   ]
  },
  {
   "cell_type": "code",
   "execution_count": 6,
   "id": "36b46bb9",
   "metadata": {},
   "outputs": [],
   "source": [
    "abnormal_logs = access_log_df[access_log_df['user_uuid'].isin(abnormal_users)]"
   ]
  },
  {
   "cell_type": "code",
   "execution_count": 7,
   "id": "f45d1206",
   "metadata": {},
   "outputs": [],
   "source": [
    "# 입실만 있거나 퇴실만 있는 유저 제외\n",
    "checkin_count= access_log_df.groupby('user_uuid')['checkin'].nunique()\n",
    "valid_users = checkin_count[checkin_count == 2].index  \n",
    "access_log_df2 = access_log_df[access_log_df['user_uuid'].isin(valid_users)]"
   ]
  },
  {
   "cell_type": "code",
   "execution_count": 8,
   "id": "148e1237",
   "metadata": {},
   "outputs": [
    {
     "name": "stdout",
     "output_type": "stream",
     "text": [
      "(63664, 5)\n"
     ]
    }
   ],
   "source": [
    "print(access_log_df2.shape)"
   ]
  },
  {
   "cell_type": "code",
   "execution_count": 9,
   "id": "fcb5599e",
   "metadata": {},
   "outputs": [
    {
     "data": {
      "text/plain": [
       "user_uuid\n",
       "000590dc-046f-462b-8225-4c81a97b7166                                   [1, 2, 1, 2, 1, 2]\n",
       "000be14f-ba0f-4af6-bc2c-7b00dfcbc98c    [1, 2, 1, 2, 1, 2, 1, 2, 1, 2, 1, 2, 1, 2, 1, ...\n",
       "0018e22d-a2cc-4e06-bca2-d6a041770f3b    [1, 2, 1, 1, 2, 1, 2, 1, 2, 1, 2, 1, 2, 1, 2, ...\n",
       "002606d9-38ca-48f3-910c-cbfada9a9109                             [1, 2, 1, 2, 1, 2, 1, 2]\n",
       "002a7570-90dd-4cab-b0aa-b0e40f7ef27a                       [1, 2, 1, 2, 1, 2, 1, 2, 1, 2]\n",
       "                                                              ...                        \n",
       "ffc79669-ed11-4cde-86d4-8ec232ac7b14                          [1, 2, 1, 2, 1, 2, 1, 2, 1]\n",
       "ffcb7950-d150-40ae-a6bf-f85f5c2b9702                       [1, 2, 1, 2, 1, 2, 1, 2, 1, 2]\n",
       "ffce32ca-2efc-4485-b685-4b65811c2dcf                                         [1, 2, 1, 2]\n",
       "ffd287bc-2797-4788-82fa-6268c82e7fa9    [1, 2, 1, 2, 1, 2, 1, 2, 1, 2, 1, 2, 1, 2, 1, ...\n",
       "fffbf2b3-7853-4c07-bd2a-aae686ac9013                                [1, 1, 2, 1, 2, 1, 2]\n",
       "Name: checkin, Length: 5986, dtype: object"
      ]
     },
     "execution_count": 9,
     "metadata": {},
     "output_type": "execute_result"
    }
   ],
   "source": [
    "# 유저별 checkin 시퀀스\n",
    "user_checkin_seqs = access_log_df2.sort_values(['user_uuid', 'cdate']) \\\n",
    "                                   .groupby('user_uuid')['checkin'].apply(list)\n",
    "user_checkin_seqs"
   ]
  },
  {
   "cell_type": "markdown",
   "id": "bcb9581f",
   "metadata": {},
   "source": [
    "### checkin 정상 유저만 추출"
   ]
  },
  {
   "cell_type": "code",
   "execution_count": 10,
   "id": "b8dab2d9",
   "metadata": {},
   "outputs": [
    {
     "name": "stderr",
     "output_type": "stream",
     "text": [
      "/var/folders/kg/chgs_d9545562m_vjpsykkdc0000gp/T/ipykernel_98272/635444691.py:1: SettingWithCopyWarning: \n",
      "A value is trying to be set on a copy of a slice from a DataFrame.\n",
      "Try using .loc[row_indexer,col_indexer] = value instead\n",
      "\n",
      "See the caveats in the documentation: https://pandas.pydata.org/pandas-docs/stable/user_guide/indexing.html#returning-a-view-versus-a-copy\n",
      "  access_log_df2['cdate'] = pd.to_datetime(access_log_df2['cdate'])\n"
     ]
    }
   ],
   "source": [
    "access_log_df2['cdate'] = pd.to_datetime(access_log_df2['cdate'])"
   ]
  },
  {
   "cell_type": "code",
   "execution_count": 11,
   "id": "10c53f32",
   "metadata": {},
   "outputs": [],
   "source": [
    "# 유저별 + 날짜별로 checkin 시퀀스를 수집\n",
    "checkin_sequences = (\n",
    "    access_log_df2\n",
    "    .sort_values(['user_uuid', 'cdate'])\n",
    "    .groupby(['user_uuid', access_log_df2['cdate'].dt.date])['checkin']\n",
    "    .apply(list)\n",
    ")"
   ]
  },
  {
   "cell_type": "code",
   "execution_count": 12,
   "id": "d5754afc",
   "metadata": {},
   "outputs": [
    {
     "data": {
      "text/plain": [
       "user_uuid                             cdate     \n",
       "000590dc-046f-462b-8225-4c81a97b7166  2023-09-05    True\n",
       "000be14f-ba0f-4af6-bc2c-7b00dfcbc98c  2021-09-30    True\n",
       "                                      2021-10-01    True\n",
       "0018e22d-a2cc-4e06-bca2-d6a041770f3b  2023-11-15    True\n",
       "                                      2023-11-16    True\n",
       "                                                    ... \n",
       "ffce32ca-2efc-4485-b685-4b65811c2dcf  2023-11-01    True\n",
       "                                      2023-11-02    True\n",
       "ffd287bc-2797-4788-82fa-6268c82e7fa9  2023-04-07    True\n",
       "                                      2023-04-08    True\n",
       "fffbf2b3-7853-4c07-bd2a-aae686ac9013  2022-01-13    True\n",
       "Name: checkin, Length: 9181, dtype: bool"
      ]
     },
     "execution_count": 12,
     "metadata": {},
     "output_type": "execute_result"
    }
   ],
   "source": [
    "def has_enter_then_exit(seq): # checkin 리스트가 seq\n",
    "    for i in range(len(seq) - 1):\n",
    "        # 쌍으로 비교 \n",
    "        if seq[i] == 1 and seq[i + 1] == 2:\n",
    "            return True\n",
    "    return False\n",
    "\n",
    "valid_days = checkin_sequences.apply(has_enter_then_exit)\n",
    "valid_days"
   ]
  },
  {
   "cell_type": "code",
   "execution_count": 13,
   "id": "a31c8ac5",
   "metadata": {},
   "outputs": [],
   "source": [
    "# 2. 유저별로 모든 날짜가 정상인지 확인\n",
    "valid_users = valid_days.groupby('user_uuid').all()\n",
    "\n",
    "# 3. 정상 유저 ID만 추출\n",
    "valid_user_ids = valid_users[valid_users].index"
   ]
  },
  {
   "cell_type": "code",
   "execution_count": 14,
   "id": "30a6916f",
   "metadata": {},
   "outputs": [],
   "source": [
    "# 4. 원본 로그에서 정상 유저만 필터링\n",
    "clean_access_log = access_log_df2[access_log_df2['user_uuid'].isin(valid_user_ids)]"
   ]
  },
  {
   "cell_type": "code",
   "execution_count": 15,
   "id": "49feb49f",
   "metadata": {},
   "outputs": [
    {
     "name": "stdout",
     "output_type": "stream",
     "text": [
      "(60472, 5)\n",
      "5709\n"
     ]
    }
   ],
   "source": [
    "print(clean_access_log.shape) \n",
    "print(clean_access_log['user_uuid'].nunique())"
   ]
  },
  {
   "cell_type": "code",
   "execution_count": 16,
   "id": "f691ac6f",
   "metadata": {},
   "outputs": [],
   "source": [
    "# 1. 유저 집합 구하기\n",
    "users_in_visit = set(visit_df['user_uuid'].dropna().unique())\n",
    "\n",
    "# 2. 공통 유저만 필터링\n",
    "cleaned_logs = clean_access_log[clean_access_log['user_uuid'].isin(users_in_visit)].copy()"
   ]
  },
  {
   "cell_type": "code",
   "execution_count": 17,
   "id": "745edf97",
   "metadata": {},
   "outputs": [
    {
     "data": {
      "text/plain": [
       "(60444, 5)"
      ]
     },
     "execution_count": 17,
     "metadata": {},
     "output_type": "execute_result"
    }
   ],
   "source": [
    "cleaned_logs.shape"
   ]
  },
  {
   "cell_type": "code",
   "execution_count": 18,
   "id": "f5fb1d0a",
   "metadata": {},
   "outputs": [
    {
     "name": "stderr",
     "output_type": "stream",
     "text": [
      "/var/folders/kg/chgs_d9545562m_vjpsykkdc0000gp/T/ipykernel_98272/4240159947.py:15: DeprecationWarning: DataFrameGroupBy.apply operated on the grouping columns. This behavior is deprecated, and in a future version of pandas the grouping columns will be excluded from the operation. Either pass `include_groups=False` to exclude the groupings or explicitly select the grouping columns after groupby to silence this warning.\n",
      "  cleaned_logs_trimmed = cleaned_logs.groupby('user_uuid', group_keys=False).apply(drop_edge_if_invalid).reset_index(drop=True)\n"
     ]
    },
    {
     "data": {
      "text/plain": [
       "(60126, 5)"
      ]
     },
     "execution_count": 18,
     "metadata": {},
     "output_type": "execute_result"
    }
   ],
   "source": [
    "def drop_edge_if_invalid(df):\n",
    "    df = df.sort_values(by='cdate')\n",
    "    \n",
    "    # 첫 퇴실이면 제거\n",
    "    if df['checkin'].iloc[0] == 2:\n",
    "        df = df.iloc[1:]\n",
    "    \n",
    "    # 마지막 입실이면 제거\n",
    "    if len(df) > 0 and df['checkin'].iloc[-1] == 1:\n",
    "        df = df.iloc[:-1]\n",
    "    \n",
    "    return df\n",
    "\n",
    "# 유저별로 적용\n",
    "cleaned_logs_trimmed = cleaned_logs.groupby('user_uuid', group_keys=False).apply(drop_edge_if_invalid).reset_index(drop=True)\n",
    "cleaned_logs_trimmed.shape\n"
   ]
  },
  {
   "cell_type": "code",
   "execution_count": 19,
   "id": "f8a9083b",
   "metadata": {},
   "outputs": [
    {
     "name": "stderr",
     "output_type": "stream",
     "text": [
      "/var/folders/kg/chgs_d9545562m_vjpsykkdc0000gp/T/ipykernel_98272/1920760519.py:6: DeprecationWarning: DataFrameGroupBy.apply operated on the grouping columns. This behavior is deprecated, and in a future version of pandas the grouping columns will be excluded from the operation. Either pass `include_groups=False` to exclude the groupings or explicitly select the grouping columns after groupby to silence this warning.\n",
      "  final_logs = cleaned_logs_trimmed.groupby('user_uuid', group_keys=False).apply(\n"
     ]
    }
   ],
   "source": [
    "def remove_redundant_checkins(df):  # ← 이렇게 함수 이름 바꿔줘\n",
    "    df = df.sort_values(by='cdate')\n",
    "    return df[df['checkin'] != df['checkin'].shift(1)]\n",
    "\n",
    "# 그 후 변수명 사용 가능\n",
    "final_logs = cleaned_logs_trimmed.groupby('user_uuid', group_keys=False).apply(\n",
    "    remove_redundant_checkins\n",
    ").reset_index(drop=True)"
   ]
  },
  {
   "cell_type": "code",
   "execution_count": 20,
   "id": "4ceded3c",
   "metadata": {},
   "outputs": [],
   "source": [
    "payment_unique_df = payment_df.drop_duplicates(subset='user_uuid')"
   ]
  },
  {
   "cell_type": "code",
   "execution_count": 21,
   "id": "aec900d3",
   "metadata": {},
   "outputs": [],
   "source": [
    "final_logs = final_logs.merge(payment_unique_df, on='user_uuid')"
   ]
  },
  {
   "cell_type": "code",
   "execution_count": 22,
   "id": "69116315",
   "metadata": {},
   "outputs": [],
   "source": [
    "final_logs = final_logs.merge(site_df, on='site_id')"
   ]
  },
  {
   "cell_type": "code",
   "execution_count": 24,
   "id": "e68a6cc6",
   "metadata": {},
   "outputs": [],
   "source": [
    "final_logs['date'] = pd.to_datetime(final_logs['cdate']).dt.date"
   ]
  },
  {
   "cell_type": "code",
   "execution_count": 25,
   "id": "6aada3da",
   "metadata": {},
   "outputs": [
    {
     "data": {
      "text/html": [
       "<div>\n",
       "<style scoped>\n",
       "    .dataframe tbody tr th:only-of-type {\n",
       "        vertical-align: middle;\n",
       "    }\n",
       "\n",
       "    .dataframe tbody tr th {\n",
       "        vertical-align: top;\n",
       "    }\n",
       "\n",
       "    .dataframe thead th {\n",
       "        text-align: right;\n",
       "    }\n",
       "</style>\n",
       "<table border=\"1\" class=\"dataframe\">\n",
       "  <thead>\n",
       "    <tr style=\"text-align: right;\">\n",
       "      <th></th>\n",
       "      <th>user_uuid</th>\n",
       "      <th>visit_days</th>\n",
       "      <th>session_count</th>\n",
       "    </tr>\n",
       "  </thead>\n",
       "  <tbody>\n",
       "    <tr>\n",
       "      <th>0</th>\n",
       "      <td>000590dc-046f-462b-8225-4c81a97b7166</td>\n",
       "      <td>1</td>\n",
       "      <td>3</td>\n",
       "    </tr>\n",
       "    <tr>\n",
       "      <th>1</th>\n",
       "      <td>000be14f-ba0f-4af6-bc2c-7b00dfcbc98c</td>\n",
       "      <td>2</td>\n",
       "      <td>9</td>\n",
       "    </tr>\n",
       "    <tr>\n",
       "      <th>2</th>\n",
       "      <td>0018e22d-a2cc-4e06-bca2-d6a041770f3b</td>\n",
       "      <td>2</td>\n",
       "      <td>8</td>\n",
       "    </tr>\n",
       "    <tr>\n",
       "      <th>3</th>\n",
       "      <td>002606d9-38ca-48f3-910c-cbfada9a9109</td>\n",
       "      <td>2</td>\n",
       "      <td>4</td>\n",
       "    </tr>\n",
       "    <tr>\n",
       "      <th>4</th>\n",
       "      <td>002a7570-90dd-4cab-b0aa-b0e40f7ef27a</td>\n",
       "      <td>1</td>\n",
       "      <td>5</td>\n",
       "    </tr>\n",
       "  </tbody>\n",
       "</table>\n",
       "</div>"
      ],
      "text/plain": [
       "                              user_uuid  visit_days  session_count\n",
       "0  000590dc-046f-462b-8225-4c81a97b7166           1              3\n",
       "1  000be14f-ba0f-4af6-bc2c-7b00dfcbc98c           2              9\n",
       "2  0018e22d-a2cc-4e06-bca2-d6a041770f3b           2              8\n",
       "3  002606d9-38ca-48f3-910c-cbfada9a9109           2              4\n",
       "4  002a7570-90dd-4cab-b0aa-b0e40f7ef27a           1              5"
      ]
     },
     "execution_count": 25,
     "metadata": {},
     "output_type": "execute_result"
    }
   ],
   "source": [
    "# 1. visit_days: 유저별로 고유한 cdate 수\n",
    "visit_days = final_logs.groupby('user_uuid')['date'].nunique().rename('visit_days')\n",
    "\n",
    "# 2. session_count: 유저별로 입실(1) 로그 개수\n",
    "session_count = final_logs[final_logs['checkin'] == 1].groupby('user_uuid').size().rename('session_count')\n",
    "\n",
    "# 3. 병합해서 user_df 만들기\n",
    "user_df = pd.concat([visit_days, session_count], axis=1).fillna(0).reset_index()\n",
    "\n",
    "# 4. session_count를 정수형으로 변환\n",
    "user_df['session_count'] = user_df['session_count'].astype(int)\n",
    "\n",
    "# 확인\n",
    "user_df.head()"
   ]
  },
  {
   "cell_type": "code",
   "execution_count": 26,
   "id": "3b84b9fb",
   "metadata": {},
   "outputs": [],
   "source": [
    "user_df = user_df.merge(payment_unique_df, on='user_uuid')"
   ]
  },
  {
   "cell_type": "code",
   "execution_count": 27,
   "id": "e7a94693",
   "metadata": {},
   "outputs": [],
   "source": [
    "# 1. 유저별 평균/총 체류 시간 집계\n",
    "stay_time_stats = visit_df.groupby('user_uuid')['stay_time_second'].agg(\n",
    "    avg_stay_time='mean',\n",
    "    total_stay_time='sum'\n",
    ").reset_index()\n",
    "\n",
    "# 2. 기존 user_df와 병합\n",
    "user_df = user_df.merge(stay_time_stats, on='user_uuid', how='left')"
   ]
  },
  {
   "cell_type": "code",
   "execution_count": 29,
   "id": "23c9cdcf",
   "metadata": {},
   "outputs": [
    {
     "data": {
      "text/plain": [
       "visit_sites_count\n",
       "1    5499\n",
       "2     186\n",
       "3      21\n",
       "4       1\n",
       "Name: count, dtype: int64"
      ]
     },
     "execution_count": 29,
     "metadata": {},
     "output_type": "execute_result"
    }
   ],
   "source": [
    "# 1. 유저별 고유 지점 수 계산\n",
    "visit_sites = final_logs.groupby('user_uuid')['site_id'].nunique().rename('visit_sites_count').reset_index()\n",
    "\n",
    "# 2. user_df에 병합\n",
    "user_df = user_df.merge(visit_sites, on='user_uuid', how='left')\n",
    "\n",
    "# 3. 방문 지점이 없었던 유저는 0으로 채움\n",
    "user_df['visit_sites_count'] = user_df['visit_sites_count'].fillna(0).astype(int)\n",
    "\n",
    "# 결과 확인\n",
    "user_df['visit_sites_count'].value_counts()"
   ]
  },
  {
   "cell_type": "markdown",
   "id": "74d31f59",
   "metadata": {},
   "source": [
    "## 3. EDA"
   ]
  },
  {
   "cell_type": "markdown",
   "id": "d71159cf",
   "metadata": {},
   "source": [
    "### 3-1 방문횟수별 유료 결제 전환율"
   ]
  },
  {
   "cell_type": "code",
   "execution_count": 30,
   "id": "fcf7b544",
   "metadata": {},
   "outputs": [
    {
     "data": {
      "text/plain": [
       "visit_days\n",
       "1    3220\n",
       "2    1932\n",
       "3    1297\n",
       "4      85\n",
       "Name: count, dtype: int64"
      ]
     },
     "execution_count": 30,
     "metadata": {},
     "output_type": "execute_result"
    }
   ],
   "source": [
    "user_visit_count = visit_df.groupby('user_uuid')['date'].nunique().reset_index(name='visit_days')\n",
    "\n",
    "# 방문 일수별 유저 수 \n",
    "user_visit_count['visit_days'].value_counts()"
   ]
  },
  {
   "cell_type": "code",
   "execution_count": 127,
   "id": "a38ba165",
   "metadata": {},
   "outputs": [
    {
     "data": {
      "text/html": [
       "<div>\n",
       "<style scoped>\n",
       "    .dataframe tbody tr th:only-of-type {\n",
       "        vertical-align: middle;\n",
       "    }\n",
       "\n",
       "    .dataframe tbody tr th {\n",
       "        vertical-align: top;\n",
       "    }\n",
       "\n",
       "    .dataframe thead th {\n",
       "        text-align: right;\n",
       "    }\n",
       "</style>\n",
       "<table border=\"1\" class=\"dataframe\">\n",
       "  <thead>\n",
       "    <tr style=\"text-align: right;\">\n",
       "      <th></th>\n",
       "      <th>user_uuid</th>\n",
       "      <th>visit_days</th>\n",
       "    </tr>\n",
       "  </thead>\n",
       "  <tbody>\n",
       "    <tr>\n",
       "      <th>51</th>\n",
       "      <td>01dab720-a416-4444-94bc-dee7fdbe8bd2</td>\n",
       "      <td>4</td>\n",
       "    </tr>\n",
       "    <tr>\n",
       "      <th>141</th>\n",
       "      <td>051c2bb0-dcdf-494d-b10c-d72f2c23fccb</td>\n",
       "      <td>4</td>\n",
       "    </tr>\n",
       "    <tr>\n",
       "      <th>146</th>\n",
       "      <td>0563c265-e2e2-4bc9-ba7d-70dfeee006ee</td>\n",
       "      <td>4</td>\n",
       "    </tr>\n",
       "    <tr>\n",
       "      <th>225</th>\n",
       "      <td>07d073f3-d749-4a78-bc20-099d23ba93b3</td>\n",
       "      <td>4</td>\n",
       "    </tr>\n",
       "    <tr>\n",
       "      <th>232</th>\n",
       "      <td>08159317-8a5c-4774-a8d8-97dac9146f86</td>\n",
       "      <td>4</td>\n",
       "    </tr>\n",
       "    <tr>\n",
       "      <th>...</th>\n",
       "      <td>...</td>\n",
       "      <td>...</td>\n",
       "    </tr>\n",
       "    <tr>\n",
       "      <th>6029</th>\n",
       "      <td>eb7cf947-5c73-4b54-8511-16315ec53a02</td>\n",
       "      <td>4</td>\n",
       "    </tr>\n",
       "    <tr>\n",
       "      <th>6065</th>\n",
       "      <td>edbdc71b-5f82-4a5e-aafc-08d0a1c1b9c6</td>\n",
       "      <td>4</td>\n",
       "    </tr>\n",
       "    <tr>\n",
       "      <th>6205</th>\n",
       "      <td>f2838847-e7f5-4719-8818-5d39256d122e</td>\n",
       "      <td>4</td>\n",
       "    </tr>\n",
       "    <tr>\n",
       "      <th>6302</th>\n",
       "      <td>f655be50-4b26-46cb-823b-bcc01108b3cc</td>\n",
       "      <td>4</td>\n",
       "    </tr>\n",
       "    <tr>\n",
       "      <th>6432</th>\n",
       "      <td>fbc19d42-097c-447b-b8d4-12d8446a9bca</td>\n",
       "      <td>4</td>\n",
       "    </tr>\n",
       "  </tbody>\n",
       "</table>\n",
       "<p>85 rows × 2 columns</p>\n",
       "</div>"
      ],
      "text/plain": [
       "                                 user_uuid  visit_days\n",
       "51    01dab720-a416-4444-94bc-dee7fdbe8bd2           4\n",
       "141   051c2bb0-dcdf-494d-b10c-d72f2c23fccb           4\n",
       "146   0563c265-e2e2-4bc9-ba7d-70dfeee006ee           4\n",
       "225   07d073f3-d749-4a78-bc20-099d23ba93b3           4\n",
       "232   08159317-8a5c-4774-a8d8-97dac9146f86           4\n",
       "...                                    ...         ...\n",
       "6029  eb7cf947-5c73-4b54-8511-16315ec53a02           4\n",
       "6065  edbdc71b-5f82-4a5e-aafc-08d0a1c1b9c6           4\n",
       "6205  f2838847-e7f5-4719-8818-5d39256d122e           4\n",
       "6302  f655be50-4b26-46cb-823b-bcc01108b3cc           4\n",
       "6432  fbc19d42-097c-447b-b8d4-12d8446a9bca           4\n",
       "\n",
       "[85 rows x 2 columns]"
      ]
     },
     "execution_count": 127,
     "metadata": {},
     "output_type": "execute_result"
    }
   ],
   "source": [
    "user_visit_count[user_visit_count['visit_days'] > 3]"
   ]
  },
  {
   "cell_type": "code",
   "execution_count": 128,
   "id": "a2dc52ff",
   "metadata": {},
   "outputs": [
    {
     "data": {
      "text/html": [
       "<div>\n",
       "<style scoped>\n",
       "    .dataframe tbody tr th:only-of-type {\n",
       "        vertical-align: middle;\n",
       "    }\n",
       "\n",
       "    .dataframe tbody tr th {\n",
       "        vertical-align: top;\n",
       "    }\n",
       "\n",
       "    .dataframe thead th {\n",
       "        text-align: right;\n",
       "    }\n",
       "</style>\n",
       "<table border=\"1\" class=\"dataframe\">\n",
       "  <thead>\n",
       "    <tr style=\"text-align: right;\">\n",
       "      <th></th>\n",
       "      <th>user_uuid</th>\n",
       "      <th>is_payment</th>\n",
       "    </tr>\n",
       "  </thead>\n",
       "  <tbody>\n",
       "    <tr>\n",
       "      <th>0</th>\n",
       "      <td>2b251333-8676-4c11-a736-dcf2350f8821</td>\n",
       "      <td>0</td>\n",
       "    </tr>\n",
       "    <tr>\n",
       "      <th>1</th>\n",
       "      <td>e111619a-0975-451b-9a4a-bc8aea7b7b84</td>\n",
       "      <td>0</td>\n",
       "    </tr>\n",
       "    <tr>\n",
       "      <th>2</th>\n",
       "      <td>4a184795-b056-4572-a874-644f68609ea3</td>\n",
       "      <td>1</td>\n",
       "    </tr>\n",
       "    <tr>\n",
       "      <th>3</th>\n",
       "      <td>2ba8ab19-2d40-4423-ad04-f0f9ca814871</td>\n",
       "      <td>0</td>\n",
       "    </tr>\n",
       "    <tr>\n",
       "      <th>4</th>\n",
       "      <td>1d49ba36-6c23-405b-9514-aa7f4aeceff0</td>\n",
       "      <td>0</td>\n",
       "    </tr>\n",
       "    <tr>\n",
       "      <th>...</th>\n",
       "      <td>...</td>\n",
       "      <td>...</td>\n",
       "    </tr>\n",
       "    <tr>\n",
       "      <th>9654</th>\n",
       "      <td>d7599df4-1e5a-4f5e-97ce-c42047bfd87c</td>\n",
       "      <td>0</td>\n",
       "    </tr>\n",
       "    <tr>\n",
       "      <th>9655</th>\n",
       "      <td>43263092-3b28-4817-9fa9-4205ad3097fe</td>\n",
       "      <td>0</td>\n",
       "    </tr>\n",
       "    <tr>\n",
       "      <th>9656</th>\n",
       "      <td>51a40f33-1027-4544-9b95-45bca7c104fb</td>\n",
       "      <td>0</td>\n",
       "    </tr>\n",
       "    <tr>\n",
       "      <th>9657</th>\n",
       "      <td>3e649531-bf5b-4b99-84e5-ca3e0e647d0c</td>\n",
       "      <td>0</td>\n",
       "    </tr>\n",
       "    <tr>\n",
       "      <th>9658</th>\n",
       "      <td>b7633cc2-bde9-4dff-9c8f-33dac3c976c2</td>\n",
       "      <td>0</td>\n",
       "    </tr>\n",
       "  </tbody>\n",
       "</table>\n",
       "<p>9624 rows × 2 columns</p>\n",
       "</div>"
      ],
      "text/plain": [
       "                                 user_uuid  is_payment\n",
       "0     2b251333-8676-4c11-a736-dcf2350f8821           0\n",
       "1     e111619a-0975-451b-9a4a-bc8aea7b7b84           0\n",
       "2     4a184795-b056-4572-a874-644f68609ea3           1\n",
       "3     2ba8ab19-2d40-4423-ad04-f0f9ca814871           0\n",
       "4     1d49ba36-6c23-405b-9514-aa7f4aeceff0           0\n",
       "...                                    ...         ...\n",
       "9654  d7599df4-1e5a-4f5e-97ce-c42047bfd87c           0\n",
       "9655  43263092-3b28-4817-9fa9-4205ad3097fe           0\n",
       "9656  51a40f33-1027-4544-9b95-45bca7c104fb           0\n",
       "9657  3e649531-bf5b-4b99-84e5-ca3e0e647d0c           0\n",
       "9658  b7633cc2-bde9-4dff-9c8f-33dac3c976c2           0\n",
       "\n",
       "[9624 rows x 2 columns]"
      ]
     },
     "execution_count": 128,
     "metadata": {},
     "output_type": "execute_result"
    }
   ],
   "source": [
    "# 결제 여부가 있는 유저 정보\n",
    "user_payment = payment_df[['user_uuid', 'is_payment']].drop_duplicates()\n",
    "user_payment"
   ]
  },
  {
   "cell_type": "code",
   "execution_count": 129,
   "id": "936e5910",
   "metadata": {},
   "outputs": [
    {
     "data": {
      "text/html": [
       "<div>\n",
       "<style scoped>\n",
       "    .dataframe tbody tr th:only-of-type {\n",
       "        vertical-align: middle;\n",
       "    }\n",
       "\n",
       "    .dataframe tbody tr th {\n",
       "        vertical-align: top;\n",
       "    }\n",
       "\n",
       "    .dataframe thead th {\n",
       "        text-align: right;\n",
       "    }\n",
       "</style>\n",
       "<table border=\"1\" class=\"dataframe\">\n",
       "  <thead>\n",
       "    <tr style=\"text-align: right;\">\n",
       "      <th></th>\n",
       "      <th>user_uuid</th>\n",
       "      <th>visit_days</th>\n",
       "      <th>is_payment</th>\n",
       "    </tr>\n",
       "  </thead>\n",
       "  <tbody>\n",
       "    <tr>\n",
       "      <th>0</th>\n",
       "      <td>000590dc-046f-462b-8225-4c81a97b7166</td>\n",
       "      <td>1</td>\n",
       "      <td>0</td>\n",
       "    </tr>\n",
       "    <tr>\n",
       "      <th>1</th>\n",
       "      <td>000be14f-ba0f-4af6-bc2c-7b00dfcbc98c</td>\n",
       "      <td>3</td>\n",
       "      <td>1</td>\n",
       "    </tr>\n",
       "    <tr>\n",
       "      <th>2</th>\n",
       "      <td>0018e22d-a2cc-4e06-bca2-d6a041770f3b</td>\n",
       "      <td>2</td>\n",
       "      <td>0</td>\n",
       "    </tr>\n",
       "    <tr>\n",
       "      <th>3</th>\n",
       "      <td>002606d9-38ca-48f3-910c-cbfada9a9109</td>\n",
       "      <td>2</td>\n",
       "      <td>0</td>\n",
       "    </tr>\n",
       "    <tr>\n",
       "      <th>4</th>\n",
       "      <td>002a7570-90dd-4cab-b0aa-b0e40f7ef27a</td>\n",
       "      <td>2</td>\n",
       "      <td>1</td>\n",
       "    </tr>\n",
       "    <tr>\n",
       "      <th>...</th>\n",
       "      <td>...</td>\n",
       "      <td>...</td>\n",
       "      <td>...</td>\n",
       "    </tr>\n",
       "    <tr>\n",
       "      <th>6529</th>\n",
       "      <td>ffc79669-ed11-4cde-86d4-8ec232ac7b14</td>\n",
       "      <td>2</td>\n",
       "      <td>0</td>\n",
       "    </tr>\n",
       "    <tr>\n",
       "      <th>6530</th>\n",
       "      <td>ffcb7950-d150-40ae-a6bf-f85f5c2b9702</td>\n",
       "      <td>2</td>\n",
       "      <td>0</td>\n",
       "    </tr>\n",
       "    <tr>\n",
       "      <th>6531</th>\n",
       "      <td>ffce32ca-2efc-4485-b685-4b65811c2dcf</td>\n",
       "      <td>1</td>\n",
       "      <td>0</td>\n",
       "    </tr>\n",
       "    <tr>\n",
       "      <th>6532</th>\n",
       "      <td>ffd287bc-2797-4788-82fa-6268c82e7fa9</td>\n",
       "      <td>3</td>\n",
       "      <td>0</td>\n",
       "    </tr>\n",
       "    <tr>\n",
       "      <th>6533</th>\n",
       "      <td>fffbf2b3-7853-4c07-bd2a-aae686ac9013</td>\n",
       "      <td>1</td>\n",
       "      <td>0</td>\n",
       "    </tr>\n",
       "  </tbody>\n",
       "</table>\n",
       "<p>6534 rows × 3 columns</p>\n",
       "</div>"
      ],
      "text/plain": [
       "                                 user_uuid  visit_days  is_payment\n",
       "0     000590dc-046f-462b-8225-4c81a97b7166           1           0\n",
       "1     000be14f-ba0f-4af6-bc2c-7b00dfcbc98c           3           1\n",
       "2     0018e22d-a2cc-4e06-bca2-d6a041770f3b           2           0\n",
       "3     002606d9-38ca-48f3-910c-cbfada9a9109           2           0\n",
       "4     002a7570-90dd-4cab-b0aa-b0e40f7ef27a           2           1\n",
       "...                                    ...         ...         ...\n",
       "6529  ffc79669-ed11-4cde-86d4-8ec232ac7b14           2           0\n",
       "6530  ffcb7950-d150-40ae-a6bf-f85f5c2b9702           2           0\n",
       "6531  ffce32ca-2efc-4485-b685-4b65811c2dcf           1           0\n",
       "6532  ffd287bc-2797-4788-82fa-6268c82e7fa9           3           0\n",
       "6533  fffbf2b3-7853-4c07-bd2a-aae686ac9013           1           0\n",
       "\n",
       "[6534 rows x 3 columns]"
      ]
     },
     "execution_count": 129,
     "metadata": {},
     "output_type": "execute_result"
    }
   ],
   "source": [
    "visit_payment_users = user_visit_count.merge(user_payment, on='user_uuid', how='left')\n",
    "visit_payment_users"
   ]
  },
  {
   "cell_type": "code",
   "execution_count": 174,
   "id": "70b71a61",
   "metadata": {},
   "outputs": [
    {
     "data": {
      "text/html": [
       "<div>\n",
       "<style scoped>\n",
       "    .dataframe tbody tr th:only-of-type {\n",
       "        vertical-align: middle;\n",
       "    }\n",
       "\n",
       "    .dataframe tbody tr th {\n",
       "        vertical-align: top;\n",
       "    }\n",
       "\n",
       "    .dataframe thead th {\n",
       "        text-align: right;\n",
       "    }\n",
       "</style>\n",
       "<table border=\"1\" class=\"dataframe\">\n",
       "  <thead>\n",
       "    <tr style=\"text-align: right;\">\n",
       "      <th>is_payment</th>\n",
       "      <th>무료</th>\n",
       "      <th>유료</th>\n",
       "    </tr>\n",
       "    <tr>\n",
       "      <th>visit_days</th>\n",
       "      <th></th>\n",
       "      <th></th>\n",
       "    </tr>\n",
       "  </thead>\n",
       "  <tbody>\n",
       "    <tr>\n",
       "      <th>1</th>\n",
       "      <td>2144</td>\n",
       "      <td>1076</td>\n",
       "    </tr>\n",
       "    <tr>\n",
       "      <th>2</th>\n",
       "      <td>1121</td>\n",
       "      <td>811</td>\n",
       "    </tr>\n",
       "    <tr>\n",
       "      <th>3</th>\n",
       "      <td>690</td>\n",
       "      <td>607</td>\n",
       "    </tr>\n",
       "    <tr>\n",
       "      <th>4</th>\n",
       "      <td>15</td>\n",
       "      <td>70</td>\n",
       "    </tr>\n",
       "  </tbody>\n",
       "</table>\n",
       "</div>"
      ],
      "text/plain": [
       "is_payment    무료    유료\n",
       "visit_days            \n",
       "1           2144  1076\n",
       "2           1121   811\n",
       "3            690   607\n",
       "4             15    70"
      ]
     },
     "execution_count": 174,
     "metadata": {},
     "output_type": "execute_result"
    }
   ],
   "source": [
    "result = (\n",
    "    visit_payment_users\n",
    "    .groupby(['visit_days', 'is_payment'])['user_uuid']\n",
    "    .nunique()\n",
    "    .reset_index(name='user_count')\n",
    "    .pivot(index='visit_days', columns='is_payment', values='user_count')\n",
    "    .fillna(0)\n",
    "    .rename(columns={0: '무료', 1: '유료'})\n",
    "    .astype(int)\n",
    "    .sort_index()\n",
    ")\n",
    "result"
   ]
  },
  {
   "cell_type": "code",
   "execution_count": 175,
   "id": "dda692bc",
   "metadata": {},
   "outputs": [
    {
     "data": {
      "text/html": [
       "<div>\n",
       "<style scoped>\n",
       "    .dataframe tbody tr th:only-of-type {\n",
       "        vertical-align: middle;\n",
       "    }\n",
       "\n",
       "    .dataframe tbody tr th {\n",
       "        vertical-align: top;\n",
       "    }\n",
       "\n",
       "    .dataframe thead th {\n",
       "        text-align: right;\n",
       "    }\n",
       "</style>\n",
       "<table border=\"1\" class=\"dataframe\">\n",
       "  <thead>\n",
       "    <tr style=\"text-align: right;\">\n",
       "      <th>is_payment</th>\n",
       "      <th>무료</th>\n",
       "      <th>유료</th>\n",
       "      <th>전환율</th>\n",
       "    </tr>\n",
       "    <tr>\n",
       "      <th>visit_days</th>\n",
       "      <th></th>\n",
       "      <th></th>\n",
       "      <th></th>\n",
       "    </tr>\n",
       "  </thead>\n",
       "  <tbody>\n",
       "    <tr>\n",
       "      <th>1</th>\n",
       "      <td>2144</td>\n",
       "      <td>1076</td>\n",
       "      <td>0.334</td>\n",
       "    </tr>\n",
       "    <tr>\n",
       "      <th>2</th>\n",
       "      <td>1121</td>\n",
       "      <td>811</td>\n",
       "      <td>0.420</td>\n",
       "    </tr>\n",
       "    <tr>\n",
       "      <th>3</th>\n",
       "      <td>690</td>\n",
       "      <td>607</td>\n",
       "      <td>0.468</td>\n",
       "    </tr>\n",
       "    <tr>\n",
       "      <th>4</th>\n",
       "      <td>15</td>\n",
       "      <td>70</td>\n",
       "      <td>0.824</td>\n",
       "    </tr>\n",
       "  </tbody>\n",
       "</table>\n",
       "</div>"
      ],
      "text/plain": [
       "is_payment    무료    유료    전환율\n",
       "visit_days                   \n",
       "1           2144  1076  0.334\n",
       "2           1121   811  0.420\n",
       "3            690   607  0.468\n",
       "4             15    70  0.824"
      ]
     },
     "execution_count": 175,
     "metadata": {},
     "output_type": "execute_result"
    }
   ],
   "source": [
    "result['전환율'] = round(result['유료'] / (result['유료'] + result['무료']),3)\n",
    "result"
   ]
  },
  {
   "cell_type": "markdown",
   "id": "0fb40579",
   "metadata": {},
   "source": [
    "#### 출입 기록 데이터 전처리 \n",
    " 1. 출입 기록(access_log) 데이터 유저별 날짜순 오름차순 정렬\n",
    " 2. 유저별 날짜별 첫 행이 퇴실인 행이거나 마지막 행이 퇴실인 행 제거\n",
    " 3. 연속된 checkin 값 중 첫 행만 남기고 제거하기\n",
    "\n",
    "- 전처리 후 출입기록 정상 체크인 유저 5707명 유지가 목표 \n",
    "- 전처리 후 데이터 행 수\n",
    "    - 60124개 -> 57370개(2744개 제거)"
   ]
  },
  {
   "cell_type": "code",
   "execution_count": 31,
   "id": "57e1e137",
   "metadata": {},
   "outputs": [
    {
     "data": {
      "text/plain": [
       "user_uuid\n",
       "000590dc-046f-462b-8225-4c81a97b7166     3\n",
       "000be14f-ba0f-4af6-bc2c-7b00dfcbc98c     9\n",
       "0018e22d-a2cc-4e06-bca2-d6a041770f3b     8\n",
       "002606d9-38ca-48f3-910c-cbfada9a9109     4\n",
       "002a7570-90dd-4cab-b0aa-b0e40f7ef27a     5\n",
       "                                        ..\n",
       "ffc79669-ed11-4cde-86d4-8ec232ac7b14     4\n",
       "ffcb7950-d150-40ae-a6bf-f85f5c2b9702     5\n",
       "ffce32ca-2efc-4485-b685-4b65811c2dcf     2\n",
       "ffd287bc-2797-4788-82fa-6268c82e7fa9    10\n",
       "fffbf2b3-7853-4c07-bd2a-aae686ac9013     3\n",
       "Name: session_count, Length: 5707, dtype: int64"
      ]
     },
     "execution_count": 31,
     "metadata": {},
     "output_type": "execute_result"
    }
   ],
   "source": [
    "# 1. 유저별 입실 횟수(=세션 수)\n",
    "session_counts = final_logs[final_logs['checkin'] == 1] \\\n",
    "    .groupby('user_uuid')['checkin'] \\\n",
    "    .count() \\\n",
    "    .rename('session_count')\n",
    "session_counts"
   ]
  },
  {
   "cell_type": "markdown",
   "id": "e594972d",
   "metadata": {},
   "source": [
    "- 3일 체험 방문자의 유료 결제 여부 \n",
    "    - 3일 체험 신청자: 9624명\n",
    "    - 전체: 5707명 \n",
    "    - 무료(0): 3478명 (60.9%)\n",
    "    - 유료(1): 2229명 (39.1%)"
   ]
  },
  {
   "cell_type": "markdown",
   "id": "f7b919d9",
   "metadata": {},
   "source": [
    "### 3-2 유저별 첫 방문 기록, 첫 방문 시간대\n",
    "- 첫 방문 시간대 -> 아침/오후/저녁/심야"
   ]
  },
  {
   "cell_type": "code",
   "execution_count": 33,
   "id": "37cdc9f4",
   "metadata": {},
   "outputs": [
    {
     "data": {
      "text/html": [
       "<div>\n",
       "<style scoped>\n",
       "    .dataframe tbody tr th:only-of-type {\n",
       "        vertical-align: middle;\n",
       "    }\n",
       "\n",
       "    .dataframe tbody tr th {\n",
       "        vertical-align: top;\n",
       "    }\n",
       "\n",
       "    .dataframe thead th {\n",
       "        text-align: right;\n",
       "    }\n",
       "</style>\n",
       "<table border=\"1\" class=\"dataframe\">\n",
       "  <thead>\n",
       "    <tr style=\"text-align: right;\">\n",
       "      <th></th>\n",
       "      <th>user_uuid</th>\n",
       "      <th>first_visit_time</th>\n",
       "      <th>first_visit_hour</th>\n",
       "      <th>first_visit_month</th>\n",
       "    </tr>\n",
       "  </thead>\n",
       "  <tbody>\n",
       "    <tr>\n",
       "      <th>0</th>\n",
       "      <td>000590dc-046f-462b-8225-4c81a97b7166</td>\n",
       "      <td>2023-09-05 02:57:01.695334</td>\n",
       "      <td>2</td>\n",
       "      <td>2023-09</td>\n",
       "    </tr>\n",
       "    <tr>\n",
       "      <th>1</th>\n",
       "      <td>000be14f-ba0f-4af6-bc2c-7b00dfcbc98c</td>\n",
       "      <td>2021-09-30 07:31:14.861813</td>\n",
       "      <td>7</td>\n",
       "      <td>2021-09</td>\n",
       "    </tr>\n",
       "    <tr>\n",
       "      <th>2</th>\n",
       "      <td>0018e22d-a2cc-4e06-bca2-d6a041770f3b</td>\n",
       "      <td>2023-11-15 00:44:08.498847</td>\n",
       "      <td>0</td>\n",
       "      <td>2023-11</td>\n",
       "    </tr>\n",
       "    <tr>\n",
       "      <th>3</th>\n",
       "      <td>002606d9-38ca-48f3-910c-cbfada9a9109</td>\n",
       "      <td>2023-01-07 08:25:54.781175</td>\n",
       "      <td>8</td>\n",
       "      <td>2023-01</td>\n",
       "    </tr>\n",
       "    <tr>\n",
       "      <th>4</th>\n",
       "      <td>002a7570-90dd-4cab-b0aa-b0e40f7ef27a</td>\n",
       "      <td>2021-09-08 07:37:24.456986</td>\n",
       "      <td>7</td>\n",
       "      <td>2021-09</td>\n",
       "    </tr>\n",
       "  </tbody>\n",
       "</table>\n",
       "</div>"
      ],
      "text/plain": [
       "                              user_uuid           first_visit_time  \\\n",
       "0  000590dc-046f-462b-8225-4c81a97b7166 2023-09-05 02:57:01.695334   \n",
       "1  000be14f-ba0f-4af6-bc2c-7b00dfcbc98c 2021-09-30 07:31:14.861813   \n",
       "2  0018e22d-a2cc-4e06-bca2-d6a041770f3b 2023-11-15 00:44:08.498847   \n",
       "3  002606d9-38ca-48f3-910c-cbfada9a9109 2023-01-07 08:25:54.781175   \n",
       "4  002a7570-90dd-4cab-b0aa-b0e40f7ef27a 2021-09-08 07:37:24.456986   \n",
       "\n",
       "   first_visit_hour first_visit_month  \n",
       "0                 2           2023-09  \n",
       "1                 7           2021-09  \n",
       "2                 0           2023-11  \n",
       "3                 8           2023-01  \n",
       "4                 7           2021-09  "
      ]
     },
     "execution_count": 33,
     "metadata": {},
     "output_type": "execute_result"
    }
   ],
   "source": [
    "# 유저별 첫 방문 시각\n",
    "first_visit = final_logs.groupby('user_uuid')['cdate'].min().reset_index()\n",
    "first_visit.columns = ['user_uuid','first_visit_time'] \n",
    "\n",
    "first_visit['first_visit_hour'] = first_visit['first_visit_time'].dt.hour\n",
    "first_visit['first_visit_month'] = first_visit['first_visit_time'].dt.to_period('M').astype(str)\n",
    "\n",
    "first_visit.head()"
   ]
  },
  {
   "cell_type": "code",
   "execution_count": 34,
   "id": "3c2607fc",
   "metadata": {},
   "outputs": [],
   "source": [
    "# 시간대 라벨링 함수\n",
    "def assign_time_band(hour):\n",
    "    if 6 <= hour < 12:\n",
    "        return '아침'\n",
    "    elif 12 <= hour < 18:\n",
    "        return '오후'\n",
    "    elif 18 <= hour < 24:\n",
    "        return '저녁'\n",
    "    else:\n",
    "        return '심야'\n",
    "\n",
    "# 시간대 컬럼 생성\n",
    "first_visit['first_visit_time_band'] = first_visit['first_visit_hour'].apply(assign_time_band)"
   ]
  },
  {
   "cell_type": "code",
   "execution_count": 35,
   "id": "c5ff591c",
   "metadata": {},
   "outputs": [
    {
     "data": {
      "text/plain": [
       "first_visit_time_band\n",
       "심야    3385\n",
       "아침    1937\n",
       "오후     272\n",
       "저녁     113\n",
       "Name: count, dtype: int64"
      ]
     },
     "execution_count": 35,
     "metadata": {},
     "output_type": "execute_result"
    }
   ],
   "source": [
    "first_visit['first_visit_time_band'].value_counts()"
   ]
  },
  {
   "cell_type": "code",
   "execution_count": 36,
   "id": "45ff5d9d",
   "metadata": {},
   "outputs": [],
   "source": [
    "final_logs = final_logs.merge(\n",
    "    first_visit[['user_uuid', 'first_visit_time_band']],\n",
    "    on='user_uuid',\n",
    "    how='left'\n",
    ")"
   ]
  },
  {
   "cell_type": "markdown",
   "id": "1f4fb82f",
   "metadata": {},
   "source": [
    "EDA 기반 모델링 파생변수 후보군 생성"
   ]
  },
  {
   "cell_type": "markdown",
   "id": "9e016e6a",
   "metadata": {},
   "source": [
    "- `first_visit_time_band` : 첫 방문 시간대\n",
    "- `first_visit_month` : 첫 방문 월\n",
    "- `days_to_payment` : 결제까지 걸린 일수\n",
    "- `total_stay_time` : 총 체류 시간 \n",
    "- `avg_stay_time` : 평균 체류 시간 \n",
    "- `visit_days` : 방문 일수 \n",
    "- `visited_sites_count` : 방문 지점 개수(여러 지점 방문할수록 유료 결제 전환율이 올라가는가?)\n",
    "- `session_count` : 입실 횟수(출입 빈도 보기 위함)\n",
    "- `area_pyeong` : 첫 방문 지점 면적 "
   ]
  },
  {
   "cell_type": "code",
   "execution_count": null,
   "id": "85324d12",
   "metadata": {},
   "outputs": [],
   "source": [
    "# user_df = user_df.drop(columns=['visit_sites_count_x','visit_sites_count_y'])"
   ]
  },
  {
   "cell_type": "markdown",
   "id": "d56d012b",
   "metadata": {},
   "source": [
    "### 3-3 방문패턴 분석\n",
    "- 방문 일수가 늘어날수록 유저 수는 줄어들지만 전환율은 늘어나는 경향을 보임 "
   ]
  },
  {
   "cell_type": "code",
   "execution_count": 204,
   "id": "b80f4cf3",
   "metadata": {},
   "outputs": [
    {
     "data": {
      "text/html": [
       "<div>\n",
       "<style scoped>\n",
       "    .dataframe tbody tr th:only-of-type {\n",
       "        vertical-align: middle;\n",
       "    }\n",
       "\n",
       "    .dataframe tbody tr th {\n",
       "        vertical-align: top;\n",
       "    }\n",
       "\n",
       "    .dataframe thead th {\n",
       "        text-align: right;\n",
       "    }\n",
       "</style>\n",
       "<table border=\"1\" class=\"dataframe\">\n",
       "  <thead>\n",
       "    <tr style=\"text-align: right;\">\n",
       "      <th></th>\n",
       "      <th>visit_days</th>\n",
       "      <th>user_count</th>\n",
       "      <th>conversion_rate</th>\n",
       "    </tr>\n",
       "  </thead>\n",
       "  <tbody>\n",
       "    <tr>\n",
       "      <th>0</th>\n",
       "      <td>1</td>\n",
       "      <td>3293</td>\n",
       "      <td>35.894321</td>\n",
       "    </tr>\n",
       "    <tr>\n",
       "      <th>1</th>\n",
       "      <td>2</td>\n",
       "      <td>2026</td>\n",
       "      <td>42.991115</td>\n",
       "    </tr>\n",
       "    <tr>\n",
       "      <th>2</th>\n",
       "      <td>3</td>\n",
       "      <td>388</td>\n",
       "      <td>45.360825</td>\n",
       "    </tr>\n",
       "  </tbody>\n",
       "</table>\n",
       "</div>"
      ],
      "text/plain": [
       "   visit_days  user_count  conversion_rate\n",
       "0           1        3293        35.894321\n",
       "1           2        2026        42.991115\n",
       "2           3         388        45.360825"
      ]
     },
     "execution_count": 204,
     "metadata": {},
     "output_type": "execute_result"
    }
   ],
   "source": [
    "# 방문일수별 유저 수 및 전환율 집계\n",
    "visit_days_summary = user_df.groupby('visit_days').agg(\n",
    "    user_count=('user_uuid', 'count'),\n",
    "    conversion_rate=('is_payment', 'mean')\n",
    ").reset_index()\n",
    "\n",
    "# 전환율을 퍼센트로 표현\n",
    "visit_days_summary['conversion_rate'] *= 100\n",
    "visit_days_summary.head(10)"
   ]
  },
  {
   "cell_type": "code",
   "execution_count": null,
   "id": "352f3934",
   "metadata": {},
   "outputs": [
    {
     "data": {
      "text/html": [
       "<div>\n",
       "<style scoped>\n",
       "    .dataframe tbody tr th:only-of-type {\n",
       "        vertical-align: middle;\n",
       "    }\n",
       "\n",
       "    .dataframe tbody tr th {\n",
       "        vertical-align: top;\n",
       "    }\n",
       "\n",
       "    .dataframe thead th {\n",
       "        text-align: right;\n",
       "    }\n",
       "</style>\n",
       "<table border=\"1\" class=\"dataframe\">\n",
       "  <thead>\n",
       "    <tr style=\"text-align: right;\">\n",
       "      <th></th>\n",
       "      <th>session_count</th>\n",
       "      <th>user_count</th>\n",
       "      <th>conversion_rate</th>\n",
       "    </tr>\n",
       "  </thead>\n",
       "  <tbody>\n",
       "    <tr>\n",
       "      <th>0</th>\n",
       "      <td>1</td>\n",
       "      <td>1014</td>\n",
       "      <td>39.349112</td>\n",
       "    </tr>\n",
       "    <tr>\n",
       "      <th>1</th>\n",
       "      <td>2</td>\n",
       "      <td>960</td>\n",
       "      <td>40.520833</td>\n",
       "    </tr>\n",
       "    <tr>\n",
       "      <th>2</th>\n",
       "      <td>3</td>\n",
       "      <td>789</td>\n",
       "      <td>35.741445</td>\n",
       "    </tr>\n",
       "    <tr>\n",
       "      <th>3</th>\n",
       "      <td>4</td>\n",
       "      <td>606</td>\n",
       "      <td>40.264026</td>\n",
       "    </tr>\n",
       "    <tr>\n",
       "      <th>4</th>\n",
       "      <td>5</td>\n",
       "      <td>492</td>\n",
       "      <td>38.821138</td>\n",
       "    </tr>\n",
       "    <tr>\n",
       "      <th>5</th>\n",
       "      <td>6</td>\n",
       "      <td>390</td>\n",
       "      <td>42.307692</td>\n",
       "    </tr>\n",
       "    <tr>\n",
       "      <th>6</th>\n",
       "      <td>7</td>\n",
       "      <td>296</td>\n",
       "      <td>39.189189</td>\n",
       "    </tr>\n",
       "    <tr>\n",
       "      <th>7</th>\n",
       "      <td>8</td>\n",
       "      <td>227</td>\n",
       "      <td>36.123348</td>\n",
       "    </tr>\n",
       "    <tr>\n",
       "      <th>8</th>\n",
       "      <td>9</td>\n",
       "      <td>186</td>\n",
       "      <td>36.021505</td>\n",
       "    </tr>\n",
       "    <tr>\n",
       "      <th>9</th>\n",
       "      <td>10</td>\n",
       "      <td>144</td>\n",
       "      <td>36.805556</td>\n",
       "    </tr>\n",
       "    <tr>\n",
       "      <th>10</th>\n",
       "      <td>11</td>\n",
       "      <td>128</td>\n",
       "      <td>41.406250</td>\n",
       "    </tr>\n",
       "    <tr>\n",
       "      <th>11</th>\n",
       "      <td>12</td>\n",
       "      <td>97</td>\n",
       "      <td>39.175258</td>\n",
       "    </tr>\n",
       "    <tr>\n",
       "      <th>12</th>\n",
       "      <td>13</td>\n",
       "      <td>88</td>\n",
       "      <td>42.045455</td>\n",
       "    </tr>\n",
       "    <tr>\n",
       "      <th>13</th>\n",
       "      <td>14</td>\n",
       "      <td>57</td>\n",
       "      <td>38.596491</td>\n",
       "    </tr>\n",
       "    <tr>\n",
       "      <th>14</th>\n",
       "      <td>15</td>\n",
       "      <td>49</td>\n",
       "      <td>42.857143</td>\n",
       "    </tr>\n",
       "    <tr>\n",
       "      <th>15</th>\n",
       "      <td>16</td>\n",
       "      <td>40</td>\n",
       "      <td>35.000000</td>\n",
       "    </tr>\n",
       "    <tr>\n",
       "      <th>16</th>\n",
       "      <td>17</td>\n",
       "      <td>20</td>\n",
       "      <td>40.000000</td>\n",
       "    </tr>\n",
       "    <tr>\n",
       "      <th>17</th>\n",
       "      <td>18</td>\n",
       "      <td>27</td>\n",
       "      <td>25.925926</td>\n",
       "    </tr>\n",
       "    <tr>\n",
       "      <th>18</th>\n",
       "      <td>19</td>\n",
       "      <td>17</td>\n",
       "      <td>47.058824</td>\n",
       "    </tr>\n",
       "    <tr>\n",
       "      <th>19</th>\n",
       "      <td>20</td>\n",
       "      <td>11</td>\n",
       "      <td>45.454545</td>\n",
       "    </tr>\n",
       "  </tbody>\n",
       "</table>\n",
       "</div>"
      ],
      "text/plain": [
       "    session_count  user_count  conversion_rate\n",
       "0               1        1014        39.349112\n",
       "1               2         960        40.520833\n",
       "2               3         789        35.741445\n",
       "3               4         606        40.264026\n",
       "4               5         492        38.821138\n",
       "5               6         390        42.307692\n",
       "6               7         296        39.189189\n",
       "7               8         227        36.123348\n",
       "8               9         186        36.021505\n",
       "9              10         144        36.805556\n",
       "10             11         128        41.406250\n",
       "11             12          97        39.175258\n",
       "12             13          88        42.045455\n",
       "13             14          57        38.596491\n",
       "14             15          49        42.857143\n",
       "15             16          40        35.000000\n",
       "16             17          20        40.000000\n",
       "17             18          27        25.925926\n",
       "18             19          17        47.058824\n",
       "19             20          11        45.454545"
      ]
     },
     "execution_count": 216,
     "metadata": {},
     "output_type": "execute_result"
    }
   ],
   "source": [
    "# 출입 횟수별 유저 수 및 결제 전환율 집계\n",
    "session_summary = user_df.groupby('session_count').agg(\n",
    "    user_count=('user_uuid', 'count'),\n",
    "    conversion_rate=('is_payment', 'mean')\n",
    ").reset_index()\n",
    "\n",
    "# 전환율을 백분율로 변환\n",
    "session_summary['conversion_rate'] *= 100\n",
    "session_summary.head(20)"
   ]
  },
  {
   "cell_type": "markdown",
   "id": "9fd4cd21",
   "metadata": {},
   "source": [
    "#### 세션 카운트별 유료 결제자 수"
   ]
  },
  {
   "cell_type": "code",
   "execution_count": null,
   "id": "bef8c806",
   "metadata": {},
   "outputs": [],
   "source": [
    "# session_count별 결제자 수만 집계\n",
    "paid_by_session = (\n",
    "    user_df[user_df['is_payment'] == 1]\n",
    "    .groupby('session_count')['user_uuid']\n",
    "    .count()\n",
    "    .reset_index()\n",
    "    .rename(columns={'user_uuid': 'paid_user_count'})\n",
    ")"
   ]
  },
  {
   "cell_type": "markdown",
   "id": "3e048c26",
   "metadata": {},
   "source": [
    "### 3-4 방문 지점 개수별 유료 결제 전환율 \n",
    "- 대부분 유저가 1개 지점 방문, 전환율 보통 수준\n",
    "- 2개 지점 비교 후 결제 가능성 높음 \n",
    "- 소수 유저지만 전환율 나쁘지 않음"
   ]
  },
  {
   "cell_type": "code",
   "execution_count": 208,
   "id": "b62da0a6",
   "metadata": {},
   "outputs": [
    {
     "data": {
      "text/html": [
       "<div>\n",
       "<style scoped>\n",
       "    .dataframe tbody tr th:only-of-type {\n",
       "        vertical-align: middle;\n",
       "    }\n",
       "\n",
       "    .dataframe tbody tr th {\n",
       "        vertical-align: top;\n",
       "    }\n",
       "\n",
       "    .dataframe thead th {\n",
       "        text-align: right;\n",
       "    }\n",
       "</style>\n",
       "<table border=\"1\" class=\"dataframe\">\n",
       "  <thead>\n",
       "    <tr style=\"text-align: right;\">\n",
       "      <th></th>\n",
       "      <th>visit_sites_count</th>\n",
       "      <th>user_count</th>\n",
       "      <th>conversion_rate</th>\n",
       "    </tr>\n",
       "  </thead>\n",
       "  <tbody>\n",
       "    <tr>\n",
       "      <th>0</th>\n",
       "      <td>1</td>\n",
       "      <td>5499</td>\n",
       "      <td>38.861611</td>\n",
       "    </tr>\n",
       "    <tr>\n",
       "      <th>1</th>\n",
       "      <td>2</td>\n",
       "      <td>186</td>\n",
       "      <td>46.236559</td>\n",
       "    </tr>\n",
       "    <tr>\n",
       "      <th>2</th>\n",
       "      <td>3</td>\n",
       "      <td>21</td>\n",
       "      <td>28.571429</td>\n",
       "    </tr>\n",
       "    <tr>\n",
       "      <th>3</th>\n",
       "      <td>4</td>\n",
       "      <td>1</td>\n",
       "      <td>0.000000</td>\n",
       "    </tr>\n",
       "  </tbody>\n",
       "</table>\n",
       "</div>"
      ],
      "text/plain": [
       "   visit_sites_count  user_count  conversion_rate\n",
       "0                  1        5499        38.861611\n",
       "1                  2         186        46.236559\n",
       "2                  3          21        28.571429\n",
       "3                  4           1         0.000000"
      ]
     },
     "execution_count": 208,
     "metadata": {},
     "output_type": "execute_result"
    }
   ],
   "source": [
    "site_count_summary = user_df.groupby('visit_sites_count').agg(\n",
    "    user_count=('user_uuid', 'count'),\n",
    "    conversion_rate=('is_payment', 'mean')\n",
    ").reset_index()\n",
    "\n",
    "# 전환율 백분율 변환\n",
    "site_count_summary['conversion_rate'] *= 100\n",
    "site_count_summary"
   ]
  },
  {
   "cell_type": "markdown",
   "id": "3e1832a2",
   "metadata": {},
   "source": [
    "### 3-5 첫 방문 월별 결제자 수\n",
    "- 월별로는 대체적으로 결제율이 떨어지는 경향은 찾지 못함"
   ]
  },
  {
   "cell_type": "code",
   "execution_count": null,
   "id": "22b337c7",
   "metadata": {},
   "outputs": [],
   "source": [
    "# 유저별 첫 방문일 추출 → 월 단위로 변환\n",
    "first_visit_month = (\n",
    "    final_logs.groupby('user_uuid')['cdate']\n",
    "    .min()\n",
    "    .dt.to_period('M')  # '2025-06' 형식\n",
    "    .astype(str)\n",
    "    .rename('first_visit_month'))"
   ]
  },
  {
   "cell_type": "code",
   "execution_count": null,
   "id": "321ed19a",
   "metadata": {},
   "outputs": [],
   "source": [
    "access_log_final_df = final_logs.merge(first_visit_month, on='user_uuid', how='left')"
   ]
  },
  {
   "cell_type": "code",
   "execution_count": null,
   "id": "08cf05b3",
   "metadata": {},
   "outputs": [
    {
     "data": {
      "text/html": [
       "<div>\n",
       "<style scoped>\n",
       "    .dataframe tbody tr th:only-of-type {\n",
       "        vertical-align: middle;\n",
       "    }\n",
       "\n",
       "    .dataframe tbody tr th {\n",
       "        vertical-align: top;\n",
       "    }\n",
       "\n",
       "    .dataframe thead th {\n",
       "        text-align: right;\n",
       "    }\n",
       "</style>\n",
       "<table border=\"1\" class=\"dataframe\">\n",
       "  <thead>\n",
       "    <tr style=\"text-align: right;\">\n",
       "      <th></th>\n",
       "      <th>first_visit_month</th>\n",
       "      <th>user_count</th>\n",
       "      <th>paid_user_count</th>\n",
       "      <th>conversion_rate</th>\n",
       "    </tr>\n",
       "  </thead>\n",
       "  <tbody>\n",
       "    <tr>\n",
       "      <th>28</th>\n",
       "      <td>2023-09</td>\n",
       "      <td>208</td>\n",
       "      <td>63</td>\n",
       "      <td>30.288462</td>\n",
       "    </tr>\n",
       "    <tr>\n",
       "      <th>29</th>\n",
       "      <td>2023-10</td>\n",
       "      <td>183</td>\n",
       "      <td>55</td>\n",
       "      <td>30.054645</td>\n",
       "    </tr>\n",
       "    <tr>\n",
       "      <th>30</th>\n",
       "      <td>2023-11</td>\n",
       "      <td>190</td>\n",
       "      <td>40</td>\n",
       "      <td>21.052632</td>\n",
       "    </tr>\n",
       "    <tr>\n",
       "      <th>31</th>\n",
       "      <td>2023-12</td>\n",
       "      <td>244</td>\n",
       "      <td>54</td>\n",
       "      <td>22.131148</td>\n",
       "    </tr>\n",
       "    <tr>\n",
       "      <th>32</th>\n",
       "      <td>2024-01</td>\n",
       "      <td>2</td>\n",
       "      <td>0</td>\n",
       "      <td>0.000000</td>\n",
       "    </tr>\n",
       "  </tbody>\n",
       "</table>\n",
       "</div>"
      ],
      "text/plain": [
       "   first_visit_month  user_count  paid_user_count  conversion_rate\n",
       "28           2023-09         208               63        30.288462\n",
       "29           2023-10         183               55        30.054645\n",
       "30           2023-11         190               40        21.052632\n",
       "31           2023-12         244               54        22.131148\n",
       "32           2024-01           2                0         0.000000"
      ]
     },
     "execution_count": 225,
     "metadata": {},
     "output_type": "execute_result"
    }
   ],
   "source": [
    "monthly_summary = user_df.groupby('first_visit_month').agg(\n",
    "    user_count=('user_uuid', 'count'),\n",
    "    paid_user_count=('is_payment', 'sum'),  # is_payment가 1이면 결제자\n",
    ").reset_index()\n",
    "\n",
    "# 전환율 계산 (%)\n",
    "monthly_summary['conversion_rate'] = (monthly_summary['paid_user_count'] / monthly_summary['user_count']) * 100\n",
    "monthly_summary.tail()"
   ]
  },
  {
   "cell_type": "markdown",
   "id": "e9bf7d43",
   "metadata": {},
   "source": [
    "---"
   ]
  },
  {
   "cell_type": "markdown",
   "id": "de12017e",
   "metadata": {},
   "source": [
    "### 유료 결제 전환율 막대그래프 시각화"
   ]
  },
  {
   "cell_type": "code",
   "execution_count": 192,
   "id": "8cf52e3c",
   "metadata": {},
   "outputs": [
    {
     "data": {
      "text/plain": [
       "is_payment\n",
       "0    3478\n",
       "1    2229\n",
       "Name: user_uuid, dtype: int64"
      ]
     },
     "execution_count": 192,
     "metadata": {},
     "output_type": "execute_result"
    }
   ],
   "source": [
    "final_logs.groupby('is_payment')['user_uuid'].nunique()"
   ]
  },
  {
   "cell_type": "code",
   "execution_count": null,
   "id": "6c492260",
   "metadata": {},
   "outputs": [
    {
     "data": {
      "image/png": "[encoded data removed]",
      "text/plain": [
       "<Figure size 600x400 with 1 Axes>"
      ]
     },
     "metadata": {},
     "output_type": "display_data"
    }
   ],
   "source": [
    "import matplotlib.pyplot as plt\n",
    "\n",
    "total_users = conversion_count.sum()\n",
    "colors = ['lightgray', '#ffe599']\n",
    "\n",
    "plt.figure(figsize=(6, 4))\n",
    "bars = plt.bar(conversion_count.index, conversion_count.values, color=colors)\n",
    "\n",
    "for bar, count in zip(bars, conversion_count.values):\n",
    "    percentage = count / total_users * 100\n",
    "    plt.text(\n",
    "        bar.get_x() + bar.get_width() / 2,\n",
    "        bar.get_height() - 10,  # 막대 상단에서 10만큼 내려서 내부에 고정 위치\n",
    "        f'{percentage:.1f}%',\n",
    "        ha='center', va='top', fontsize=12, color='black'\n",
    "    )\n",
    "\n",
    "plt.title('유료 결제 전환율 및 유저 수')\n",
    "plt.ylabel('고유 고객 수')\n",
    "plt.xlabel('전환 여부')\n",
    "plt.grid(axis='y', linestyle='--', alpha=0.5)\n",
    "plt.tight_layout()\n",
    "plt.show()"
   ]
  },
  {
   "cell_type": "code",
   "execution_count": 195,
   "id": "780bc7db",
   "metadata": {},
   "outputs": [],
   "source": [
    "# 3. user_uuid별 고유 방문일 수 계산\n",
    "user_visit_days = final_logs.groupby('user_uuid')['date'].nunique().reset_index(name='visit_days')\n",
    "# 4. 원본에 병합\n",
    "final_logs = final_logs.merge(user_visit_days, on='user_uuid', how='left')"
   ]
  },
  {
   "cell_type": "code",
   "execution_count": 201,
   "id": "5ec92bdc",
   "metadata": {},
   "outputs": [],
   "source": [
    "# visit_days가 3 초과인 경우 모두 3으로 통일\n",
    "user_df['visit_days'] = user_df['visit_days'].apply(lambda x: min(x, 3))"
   ]
  },
  {
   "cell_type": "code",
   "execution_count": 202,
   "id": "8adfd416",
   "metadata": {},
   "outputs": [
    {
     "data": {
      "text/plain": [
       "visit_days\n",
       "1    3293\n",
       "2    2026\n",
       "3     388\n",
       "Name: user_uuid, dtype: int64"
      ]
     },
     "execution_count": 202,
     "metadata": {},
     "output_type": "execute_result"
    }
   ],
   "source": [
    "user_df.groupby('visit_days')['user_uuid'].nunique()"
   ]
  },
  {
   "cell_type": "code",
   "execution_count": null,
   "id": "1dafc5c5",
   "metadata": {},
   "outputs": [
    {
     "data": {
      "text/plain": [
       "visit_days\n",
       "1    1182\n",
       "2     871\n",
       "3     176\n",
       "Name: user_uuid, dtype: int64"
      ]
     },
     "execution_count": 376,
     "metadata": {},
     "output_type": "execute_result"
    }
   ],
   "source": [
    "access_log_final_df[access_log_final_df['is_payment'] == 1].groupby('visit_days')['user_uuid'].nunique()"
   ]
  },
  {
   "cell_type": "code",
   "execution_count": null,
   "id": "aab0bca1",
   "metadata": {},
   "outputs": [],
   "source": [
    "# 1. user_uuid별 방문일 수 집계 (앞서 만든 것)\n",
    "user_visit_days = access_log_final_df.groupby('user_uuid')['date'].nunique().reset_index(name='visit_days')\n",
    "user_visit_days['visit_days'] = user_visit_days['visit_days'].clip(upper=3)  "
   ]
  },
  {
   "cell_type": "code",
   "execution_count": null,
   "id": "0ce7444d",
   "metadata": {},
   "outputs": [
    {
     "data": {
      "text/html": [
       "<div>\n",
       "<style scoped>\n",
       "    .dataframe tbody tr th:only-of-type {\n",
       "        vertical-align: middle;\n",
       "    }\n",
       "\n",
       "    .dataframe tbody tr th {\n",
       "        vertical-align: top;\n",
       "    }\n",
       "\n",
       "    .dataframe thead th {\n",
       "        text-align: right;\n",
       "    }\n",
       "</style>\n",
       "<table border=\"1\" class=\"dataframe\">\n",
       "  <thead>\n",
       "    <tr style=\"text-align: right;\">\n",
       "      <th></th>\n",
       "      <th>user_uuid</th>\n",
       "      <th>is_payment</th>\n",
       "    </tr>\n",
       "  </thead>\n",
       "  <tbody>\n",
       "    <tr>\n",
       "      <th>0</th>\n",
       "      <td>000590dc-046f-462b-8225-4c81a97b7166</td>\n",
       "      <td>0</td>\n",
       "    </tr>\n",
       "    <tr>\n",
       "      <th>6</th>\n",
       "      <td>000be14f-ba0f-4af6-bc2c-7b00dfcbc98c</td>\n",
       "      <td>1</td>\n",
       "    </tr>\n",
       "    <tr>\n",
       "      <th>24</th>\n",
       "      <td>0018e22d-a2cc-4e06-bca2-d6a041770f3b</td>\n",
       "      <td>0</td>\n",
       "    </tr>\n",
       "    <tr>\n",
       "      <th>40</th>\n",
       "      <td>002606d9-38ca-48f3-910c-cbfada9a9109</td>\n",
       "      <td>0</td>\n",
       "    </tr>\n",
       "    <tr>\n",
       "      <th>48</th>\n",
       "      <td>002a7570-90dd-4cab-b0aa-b0e40f7ef27a</td>\n",
       "      <td>1</td>\n",
       "    </tr>\n",
       "    <tr>\n",
       "      <th>...</th>\n",
       "      <td>...</td>\n",
       "      <td>...</td>\n",
       "    </tr>\n",
       "    <tr>\n",
       "      <th>57322</th>\n",
       "      <td>ffc79669-ed11-4cde-86d4-8ec232ac7b14</td>\n",
       "      <td>0</td>\n",
       "    </tr>\n",
       "    <tr>\n",
       "      <th>57330</th>\n",
       "      <td>ffcb7950-d150-40ae-a6bf-f85f5c2b9702</td>\n",
       "      <td>0</td>\n",
       "    </tr>\n",
       "    <tr>\n",
       "      <th>57340</th>\n",
       "      <td>ffce32ca-2efc-4485-b685-4b65811c2dcf</td>\n",
       "      <td>0</td>\n",
       "    </tr>\n",
       "    <tr>\n",
       "      <th>57344</th>\n",
       "      <td>ffd287bc-2797-4788-82fa-6268c82e7fa9</td>\n",
       "      <td>0</td>\n",
       "    </tr>\n",
       "    <tr>\n",
       "      <th>57364</th>\n",
       "      <td>fffbf2b3-7853-4c07-bd2a-aae686ac9013</td>\n",
       "      <td>0</td>\n",
       "    </tr>\n",
       "  </tbody>\n",
       "</table>\n",
       "<p>5707 rows × 2 columns</p>\n",
       "</div>"
      ],
      "text/plain": [
       "                                  user_uuid  is_payment\n",
       "0      000590dc-046f-462b-8225-4c81a97b7166           0\n",
       "6      000be14f-ba0f-4af6-bc2c-7b00dfcbc98c           1\n",
       "24     0018e22d-a2cc-4e06-bca2-d6a041770f3b           0\n",
       "40     002606d9-38ca-48f3-910c-cbfada9a9109           0\n",
       "48     002a7570-90dd-4cab-b0aa-b0e40f7ef27a           1\n",
       "...                                     ...         ...\n",
       "57322  ffc79669-ed11-4cde-86d4-8ec232ac7b14           0\n",
       "57330  ffcb7950-d150-40ae-a6bf-f85f5c2b9702           0\n",
       "57340  ffce32ca-2efc-4485-b685-4b65811c2dcf           0\n",
       "57344  ffd287bc-2797-4788-82fa-6268c82e7fa9           0\n",
       "57364  fffbf2b3-7853-4c07-bd2a-aae686ac9013           0\n",
       "\n",
       "[5707 rows x 2 columns]"
      ]
     },
     "execution_count": 196,
     "metadata": {},
     "output_type": "execute_result"
    }
   ],
   "source": [
    "# 2. user_uuid별 유료 결제 여부 (is_payment=1 여부만 유지)\n",
    "user_payment = final_logs[['user_uuid', 'is_payment']].drop_duplicates('user_uuid')"
   ]
  },
  {
   "cell_type": "code",
   "execution_count": 197,
   "id": "a3b875e4",
   "metadata": {},
   "outputs": [],
   "source": [
    "user_summary = user_visit_days.merge(user_payment, on='user_uuid', how='left')"
   ]
  },
  {
   "cell_type": "code",
   "execution_count": 199,
   "id": "0a8fe9e6",
   "metadata": {},
   "outputs": [
    {
     "data": {
      "text/html": [
       "<div>\n",
       "<style scoped>\n",
       "    .dataframe tbody tr th:only-of-type {\n",
       "        vertical-align: middle;\n",
       "    }\n",
       "\n",
       "    .dataframe tbody tr th {\n",
       "        vertical-align: top;\n",
       "    }\n",
       "\n",
       "    .dataframe thead th {\n",
       "        text-align: right;\n",
       "    }\n",
       "</style>\n",
       "<table border=\"1\" class=\"dataframe\">\n",
       "  <thead>\n",
       "    <tr style=\"text-align: right;\">\n",
       "      <th></th>\n",
       "      <th>visit_days</th>\n",
       "      <th>total_users</th>\n",
       "      <th>payers</th>\n",
       "      <th>conversion_rate</th>\n",
       "    </tr>\n",
       "  </thead>\n",
       "  <tbody>\n",
       "    <tr>\n",
       "      <th>0</th>\n",
       "      <td>1</td>\n",
       "      <td>3293</td>\n",
       "      <td>1182</td>\n",
       "      <td>0.358943</td>\n",
       "    </tr>\n",
       "    <tr>\n",
       "      <th>1</th>\n",
       "      <td>2</td>\n",
       "      <td>2026</td>\n",
       "      <td>871</td>\n",
       "      <td>0.429911</td>\n",
       "    </tr>\n",
       "    <tr>\n",
       "      <th>2</th>\n",
       "      <td>3</td>\n",
       "      <td>384</td>\n",
       "      <td>175</td>\n",
       "      <td>0.455729</td>\n",
       "    </tr>\n",
       "    <tr>\n",
       "      <th>3</th>\n",
       "      <td>4</td>\n",
       "      <td>4</td>\n",
       "      <td>1</td>\n",
       "      <td>0.250000</td>\n",
       "    </tr>\n",
       "  </tbody>\n",
       "</table>\n",
       "</div>"
      ],
      "text/plain": [
       "   visit_days  total_users  payers  conversion_rate\n",
       "0           1         3293    1182         0.358943\n",
       "1           2         2026     871         0.429911\n",
       "2           3          384     175         0.455729\n",
       "3           4            4       1         0.250000"
      ]
     },
     "execution_count": 199,
     "metadata": {},
     "output_type": "execute_result"
    }
   ],
   "source": [
    "conversion_summary = user_df.groupby('visit_days').agg(\n",
    "    total_users=('user_uuid', 'nunique'),\n",
    "    payers=('is_payment', 'sum')  # is_payment가 1이면 결제자 수\n",
    ").reset_index()\n",
    "\n",
    "conversion_summary['conversion_rate'] = conversion_summary['payers'] / conversion_summary['total_users']\n",
    "conversion_summary"
   ]
  },
  {
   "cell_type": "markdown",
   "id": "73b98e15",
   "metadata": {},
   "source": [
    "### 방문일 수에 따른 유료 결제 전환율 및 결제자 수 시각화"
   ]
  },
  {
   "cell_type": "code",
   "execution_count": null,
   "id": "b9e1c375",
   "metadata": {},
   "outputs": [
    {
     "data": {
      "image/png": "[encoded data removed]",
      "text/plain": [
       "<Figure size 700x500 with 1 Axes>"
      ]
     },
     "metadata": {},
     "output_type": "display_data"
    }
   ],
   "source": [
    "import matplotlib.pyplot as plt\n",
    "\n",
    "plt.figure(figsize=(7, 5))\n",
    "\n",
    "# 막대: 전환율 기준으로 그리기\n",
    "bars = plt.bar(\n",
    "    conversion_summary['visit_days'],\n",
    "    conversion_summary['conversion_rate'],\n",
    "    color='#ffe599',\n",
    "    width=0.6\n",
    ")\n",
    "\n",
    "# 텍스트: 막대 위에 전환율, 그 아래 결제자 수\n",
    "for bar, rate, payer in zip(bars, conversion_summary['conversion_rate'], conversion_summary['payers']):\n",
    "    x = bar.get_x() + bar.get_width() / 2\n",
    "    y = bar.get_height()\n",
    "\n",
    "    # 전환율 텍스트 (막대 상단)\n",
    "    plt.text(x, y - 0.02, f'{rate:.1%}', ha='center', va='top', fontsize=11, color='black')\n",
    "\n",
    "    # 결제자 수 텍스트 (막대 내부 중간 아래)\n",
    "    plt.text(x, y - 0.08, f'{payer}명', ha='center', va='top', fontsize=10, color='black')\n",
    "\n",
    "plt.xticks(conversion_summary['visit_days'], [f'{d}일 방문' for d in conversion_summary['visit_days']])\n",
    "plt.ylim(0, 1)\n",
    "plt.title('방문일수에 따른 유료 결제 전환율 및 결제자 수')\n",
    "plt.xlabel('방문일 수')\n",
    "plt.ylabel('전환율')\n",
    "plt.grid(axis='y', linestyle='--', alpha=0.5)\n",
    "plt.tight_layout()\n",
    "plt.show()\n"
   ]
  },
  {
   "cell_type": "markdown",
   "id": "4be19299",
   "metadata": {},
   "source": [
    "### 결제 여부에 따른 방문일수별 평균 체류 시간"
   ]
  },
  {
   "cell_type": "markdown",
   "id": "806ff17c",
   "metadata": {},
   "source": [
    "- `인사이트`\n",
    "    - 미결제 그룹은 오래 머무른다는 점은 관심도는 높지만 결제 유도 설계의 필요성을 시사함\n",
    "    - 미결제 그룹은 결정을 미루는 경향 \n",
    "    - 결제자는 오히려 빠른 판단형 -> 체류시간보다 행동 중심 결제 설계 필요"
   ]
  },
  {
   "cell_type": "code",
   "execution_count": null,
   "id": "80e3f465",
   "metadata": {},
   "outputs": [
    {
     "data": {
      "image/png": "[encoded data removed]",
      "text/plain": [
       "<Figure size 700x500 with 1 Axes>"
      ]
     },
     "metadata": {},
     "output_type": "display_data"
    }
   ],
   "source": [
    "pivot_df = stay_summary.pivot(index='visit_days', columns='is_payment', values='mean_stay_time')\n",
    "\n",
    "x = pivot_df.index\n",
    "\n",
    "# y축 값: 평균 체류시간\n",
    "y_no_pay = pivot_df[0]  # 미결제 그룹\n",
    "y_pay = pivot_df[1]     # 결제 그룹\n",
    "\n",
    "# 2. 라인그래프 그리기\n",
    "plt.figure(figsize=(7, 5))\n",
    "\n",
    "# 미결제 라인\n",
    "plt.plot(x, y_no_pay, marker='o', color='gray', label='미결제')\n",
    "\n",
    "# 결제 라인\n",
    "plt.plot(x, y_pay, marker='o', color='#f1c232', label='결제')  # 파스텔 노랑\n",
    "\n",
    "# 3. 그래프 꾸미기\n",
    "plt.title('방문일수별 평균 체류시간')\n",
    "plt.xlabel('방문일 수')  # x축 라벨\n",
    "plt.ylabel('평균 체류시간 (초)')  # y축 라벨\n",
    "plt.xticks([1, 2, 3], ['1일 방문', '2일 방문', '3일 방문'])  # x축 표시\n",
    "plt.grid(True, linestyle='--', alpha=0.5)  # 눈금선\n",
    "plt.legend()  # 범례 표시\n",
    "\n",
    "plt.tight_layout()\n",
    "plt.show()"
   ]
  },
  {
   "cell_type": "code",
   "execution_count": null,
   "id": "b3a1850f",
   "metadata": {},
   "outputs": [
    {
     "data": {
      "text/html": [
       "<div>\n",
       "<style scoped>\n",
       "    .dataframe tbody tr th:only-of-type {\n",
       "        vertical-align: middle;\n",
       "    }\n",
       "\n",
       "    .dataframe tbody tr th {\n",
       "        vertical-align: top;\n",
       "    }\n",
       "\n",
       "    .dataframe thead th {\n",
       "        text-align: right;\n",
       "    }\n",
       "</style>\n",
       "<table border=\"1\" class=\"dataframe\">\n",
       "  <thead>\n",
       "    <tr style=\"text-align: right;\">\n",
       "      <th></th>\n",
       "      <th>area_pyeong</th>\n",
       "      <th>total_users</th>\n",
       "      <th>payers</th>\n",
       "      <th>conversion_rate</th>\n",
       "    </tr>\n",
       "  </thead>\n",
       "  <tbody>\n",
       "    <tr>\n",
       "      <th>0</th>\n",
       "      <td>50</td>\n",
       "      <td>1591</td>\n",
       "      <td>604</td>\n",
       "      <td>0.379635</td>\n",
       "    </tr>\n",
       "    <tr>\n",
       "      <th>1</th>\n",
       "      <td>100</td>\n",
       "      <td>1417</td>\n",
       "      <td>541</td>\n",
       "      <td>0.381793</td>\n",
       "    </tr>\n",
       "    <tr>\n",
       "      <th>2</th>\n",
       "      <td>150</td>\n",
       "      <td>2872</td>\n",
       "      <td>1157</td>\n",
       "      <td>0.402855</td>\n",
       "    </tr>\n",
       "  </tbody>\n",
       "</table>\n",
       "</div>"
      ],
      "text/plain": [
       "   area_pyeong  total_users  payers  conversion_rate\n",
       "0           50         1591     604         0.379635\n",
       "1          100         1417     541         0.381793\n",
       "2          150         2872    1157         0.402855"
      ]
     },
     "execution_count": 334,
     "metadata": {},
     "output_type": "execute_result"
    }
   ],
   "source": [
    "area_summary = (\n",
    "    user_area\n",
    "    .groupby('area_pyeong')\n",
    "    .agg(\n",
    "        total_users=('user_uuid', 'nunique'),\n",
    "        payers=('is_payment', 'sum')\n",
    "    )\n",
    "    .reset_index()\n",
    ")\n",
    "\n",
    "# 전환율 컬럼 추가\n",
    "area_summary['conversion_rate'] = area_summary['payers'] / area_summary['total_users']\n",
    "\n",
    "# 최종 요약 데이터프레임\n",
    "area_summary"
   ]
  },
  {
   "cell_type": "markdown",
   "id": "d0a143a1",
   "metadata": {},
   "source": [
    "- 지점 면적별 유료 결제 전환율은 표로 보여주기"
   ]
  },
  {
   "cell_type": "code",
   "execution_count": null,
   "id": "31035a60",
   "metadata": {},
   "outputs": [],
   "source": [
    "# 1. 유저별 방문 지점 수와 결제 여부만 추출하고 중복 제거\n",
    "user_site_df = access_log_final_df[['user_uuid', 'visited_sites_count', 'is_payment']].drop_duplicates('user_uuid')\n",
    "\n",
    "# 2. visited_sites_count를 기준으로 전체 유저 수, 유료 결제자 수 집계\n",
    "site_summary = user_site_df.groupby('visited_sites_count').agg(\n",
    "    total_users=('user_uuid', 'nunique'),\n",
    "    payers=('is_payment', 'sum')\n",
    ").reset_index()\n",
    "\n",
    "# 3. 전환율 계산: 유료 결제자 수 ÷ 전체 유저 수\n",
    "site_summary['conversion_rate'] = site_summary['payers'] / site_summary['total_users']"
   ]
  },
  {
   "cell_type": "code",
   "execution_count": null,
   "id": "8a3381af",
   "metadata": {},
   "outputs": [
    {
     "data": {
      "text/html": [
       "<div>\n",
       "<style scoped>\n",
       "    .dataframe tbody tr th:only-of-type {\n",
       "        vertical-align: middle;\n",
       "    }\n",
       "\n",
       "    .dataframe tbody tr th {\n",
       "        vertical-align: top;\n",
       "    }\n",
       "\n",
       "    .dataframe thead th {\n",
       "        text-align: right;\n",
       "    }\n",
       "</style>\n",
       "<table border=\"1\" class=\"dataframe\">\n",
       "  <thead>\n",
       "    <tr style=\"text-align: right;\">\n",
       "      <th></th>\n",
       "      <th>visited_sites_count</th>\n",
       "      <th>total_users</th>\n",
       "      <th>payers</th>\n",
       "      <th>conversion_rate</th>\n",
       "    </tr>\n",
       "  </thead>\n",
       "  <tbody>\n",
       "    <tr>\n",
       "      <th>0</th>\n",
       "      <td>1</td>\n",
       "      <td>5428</td>\n",
       "      <td>2095</td>\n",
       "      <td>0.385962</td>\n",
       "    </tr>\n",
       "    <tr>\n",
       "      <th>1</th>\n",
       "      <td>2</td>\n",
       "      <td>238</td>\n",
       "      <td>118</td>\n",
       "      <td>0.495798</td>\n",
       "    </tr>\n",
       "    <tr>\n",
       "      <th>2</th>\n",
       "      <td>3</td>\n",
       "      <td>39</td>\n",
       "      <td>16</td>\n",
       "      <td>0.410256</td>\n",
       "    </tr>\n",
       "    <tr>\n",
       "      <th>3</th>\n",
       "      <td>4</td>\n",
       "      <td>2</td>\n",
       "      <td>0</td>\n",
       "      <td>0.000000</td>\n",
       "    </tr>\n",
       "  </tbody>\n",
       "</table>\n",
       "</div>"
      ],
      "text/plain": [
       "   visited_sites_count  total_users  payers  conversion_rate\n",
       "0                    1         5428    2095         0.385962\n",
       "1                    2          238     118         0.495798\n",
       "2                    3           39      16         0.410256\n",
       "3                    4            2       0         0.000000"
      ]
     },
     "execution_count": 338,
     "metadata": {},
     "output_type": "execute_result"
    }
   ],
   "source": [
    "site_summary"
   ]
  },
  {
   "cell_type": "code",
   "execution_count": null,
   "id": "d6bf8b0d",
   "metadata": {},
   "outputs": [],
   "source": [
    "paid_df = access_log_final_df[access_log_final_df['is_payment'] == 1]\n",
    "# timestamp가 datetime 형태라면 정렬 후 첫 방문만 추출\n",
    "first_visit_df = paid_df.sort_values('cdate').drop_duplicates('user_uuid', keep='first')"
   ]
  },
  {
   "cell_type": "code",
   "execution_count": null,
   "id": "c67ccf6d",
   "metadata": {},
   "outputs": [
    {
     "data": {
      "text/html": [
       "<div>\n",
       "<style scoped>\n",
       "    .dataframe tbody tr th:only-of-type {\n",
       "        vertical-align: middle;\n",
       "    }\n",
       "\n",
       "    .dataframe tbody tr th {\n",
       "        vertical-align: top;\n",
       "    }\n",
       "\n",
       "    .dataframe thead th {\n",
       "        text-align: right;\n",
       "    }\n",
       "</style>\n",
       "<table border=\"1\" class=\"dataframe\">\n",
       "  <thead>\n",
       "    <tr style=\"text-align: right;\">\n",
       "      <th></th>\n",
       "      <th>weekday</th>\n",
       "      <th>paid_user_count</th>\n",
       "    </tr>\n",
       "  </thead>\n",
       "  <tbody>\n",
       "    <tr>\n",
       "      <th>3</th>\n",
       "      <td>Friday</td>\n",
       "      <td>342</td>\n",
       "    </tr>\n",
       "    <tr>\n",
       "      <th>4</th>\n",
       "      <td>Monday</td>\n",
       "      <td>244</td>\n",
       "    </tr>\n",
       "    <tr>\n",
       "      <th>5</th>\n",
       "      <td>Saturday</td>\n",
       "      <td>221</td>\n",
       "    </tr>\n",
       "    <tr>\n",
       "      <th>6</th>\n",
       "      <td>Sunday</td>\n",
       "      <td>177</td>\n",
       "    </tr>\n",
       "    <tr>\n",
       "      <th>2</th>\n",
       "      <td>Thursday</td>\n",
       "      <td>368</td>\n",
       "    </tr>\n",
       "    <tr>\n",
       "      <th>0</th>\n",
       "      <td>Tuesday</td>\n",
       "      <td>476</td>\n",
       "    </tr>\n",
       "    <tr>\n",
       "      <th>1</th>\n",
       "      <td>Wednesday</td>\n",
       "      <td>401</td>\n",
       "    </tr>\n",
       "  </tbody>\n",
       "</table>\n",
       "</div>"
      ],
      "text/plain": [
       "     weekday  paid_user_count\n",
       "3     Friday              342\n",
       "4     Monday              244\n",
       "5   Saturday              221\n",
       "6     Sunday              177\n",
       "2   Thursday              368\n",
       "0    Tuesday              476\n",
       "1  Wednesday              401"
      ]
     },
     "execution_count": 353,
     "metadata": {},
     "output_type": "execute_result"
    }
   ],
   "source": [
    "weekday_summary = first_visit_df['weekday'].value_counts().reset_index()\n",
    "weekday_summary.columns = ['weekday', 'paid_user_count']\n",
    "weekday_summary = weekday_summary.sort_values('weekday')  # 월~일 정렬은 필요 시 커스텀 정렬\n",
    "weekday_summary"
   ]
  },
  {
   "cell_type": "markdown",
   "id": "9fb6309f",
   "metadata": {},
   "source": [
    "### 요일별 결제자 수 시각화"
   ]
  },
  {
   "cell_type": "code",
   "execution_count": null,
   "id": "26dfb503",
   "metadata": {},
   "outputs": [
    {
     "data": {
      "image/png": "[encoded data removed]",
      "text/plain": [
       "<Figure size 800x500 with 1 Axes>"
      ]
     },
     "metadata": {},
     "output_type": "display_data"
    }
   ],
   "source": [
    "# 요일 정렬 순서 지정 (월~일)\n",
    "ordered_days = ['Monday', 'Tuesday', 'Wednesday', 'Thursday', 'Friday', 'Saturday', 'Sunday']\n",
    "\n",
    "# 요일 순서에 맞게 정렬\n",
    "weekday_summary['weekday'] = pd.Categorical(weekday_summary['weekday'], categories=ordered_days, ordered=True)\n",
    "weekday_summary = weekday_summary.sort_values('weekday')\n",
    "\n",
    "# 시각화\n",
    "plt.figure(figsize=(8, 5))\n",
    "bars = plt.bar(\n",
    "    weekday_summary['weekday'],\n",
    "    weekday_summary['paid_user_count'],\n",
    "    color='#ffe599'  # 파스텔 노랑\n",
    ")\n",
    "\n",
    "# 막대 위 텍스트 (중앙 위)\n",
    "for bar in bars:\n",
    "    x = bar.get_x() + bar.get_width() / 2\n",
    "    y = bar.get_height()\n",
    "    plt.text(x, y + 0.5, f'{int(y)}명', ha='center', va='bottom', fontsize=11)\n",
    "\n",
    "plt.title('요일별 결제자 수 분포')\n",
    "plt.xlabel('첫 방문 요일')\n",
    "plt.ylabel('결제자 수')\n",
    "plt.grid(axis='y', linestyle='--', alpha=0.5)\n",
    "plt.tight_layout()\n",
    "plt.show()"
   ]
  },
  {
   "cell_type": "code",
   "execution_count": null,
   "id": "dd993ac0",
   "metadata": {},
   "outputs": [],
   "source": [
    "free_df = access_log_final_df[access_log_final_df['is_payment'] == 0]\n",
    "# timestamp가 datetime 형태라면 정렬 후 첫 방문만 추출\n",
    "first_visit_df2 = free_df.sort_values('cdate').drop_duplicates('user_uuid', keep='first')"
   ]
  },
  {
   "cell_type": "code",
   "execution_count": null,
   "id": "fb7eabee",
   "metadata": {},
   "outputs": [
    {
     "data": {
      "text/html": [
       "<div>\n",
       "<style scoped>\n",
       "    .dataframe tbody tr th:only-of-type {\n",
       "        vertical-align: middle;\n",
       "    }\n",
       "\n",
       "    .dataframe tbody tr th {\n",
       "        vertical-align: top;\n",
       "    }\n",
       "\n",
       "    .dataframe thead th {\n",
       "        text-align: right;\n",
       "    }\n",
       "</style>\n",
       "<table border=\"1\" class=\"dataframe\">\n",
       "  <thead>\n",
       "    <tr style=\"text-align: right;\">\n",
       "      <th></th>\n",
       "      <th>weekday</th>\n",
       "      <th>free_user_count</th>\n",
       "    </tr>\n",
       "  </thead>\n",
       "  <tbody>\n",
       "    <tr>\n",
       "      <th>2</th>\n",
       "      <td>Friday</td>\n",
       "      <td>515</td>\n",
       "    </tr>\n",
       "    <tr>\n",
       "      <th>5</th>\n",
       "      <td>Monday</td>\n",
       "      <td>411</td>\n",
       "    </tr>\n",
       "    <tr>\n",
       "      <th>4</th>\n",
       "      <td>Saturday</td>\n",
       "      <td>495</td>\n",
       "    </tr>\n",
       "    <tr>\n",
       "      <th>6</th>\n",
       "      <td>Sunday</td>\n",
       "      <td>283</td>\n",
       "    </tr>\n",
       "    <tr>\n",
       "      <th>3</th>\n",
       "      <td>Thursday</td>\n",
       "      <td>513</td>\n",
       "    </tr>\n",
       "    <tr>\n",
       "      <th>1</th>\n",
       "      <td>Tuesday</td>\n",
       "      <td>626</td>\n",
       "    </tr>\n",
       "    <tr>\n",
       "      <th>0</th>\n",
       "      <td>Wednesday</td>\n",
       "      <td>635</td>\n",
       "    </tr>\n",
       "  </tbody>\n",
       "</table>\n",
       "</div>"
      ],
      "text/plain": [
       "     weekday  free_user_count\n",
       "2     Friday              515\n",
       "5     Monday              411\n",
       "4   Saturday              495\n",
       "6     Sunday              283\n",
       "3   Thursday              513\n",
       "1    Tuesday              626\n",
       "0  Wednesday              635"
      ]
     },
     "execution_count": 348,
     "metadata": {},
     "output_type": "execute_result"
    }
   ],
   "source": [
    "weekday_summary = first_visit_df2['weekday'].value_counts().reset_index()\n",
    "weekday_summary.columns = ['weekday', 'free_user_count']\n",
    "weekday_summary = weekday_summary.sort_values('weekday')  # 월~일 정렬은 필요 시 커스텀 정렬\n",
    "weekday_summary"
   ]
  },
  {
   "cell_type": "code",
   "execution_count": null,
   "id": "f3605e9b",
   "metadata": {},
   "outputs": [
    {
     "data": {
      "image/png": "[encoded data removed]",
      "text/plain": [
       "<Figure size 800x500 with 1 Axes>"
      ]
     },
     "metadata": {},
     "output_type": "display_data"
    }
   ],
   "source": [
    "# 요일 정렬 순서 지정 (월~일)\n",
    "ordered_days = ['Monday', 'Tuesday', 'Wednesday', 'Thursday', 'Friday', 'Saturday', 'Sunday']\n",
    "\n",
    "# 요일 순서에 맞게 정렬\n",
    "weekday_summary['weekday'] = pd.Categorical(weekday_summary['weekday'], categories=ordered_days, ordered=True)\n",
    "weekday_summary = weekday_summary.sort_values('weekday')\n",
    "\n",
    "# 시각화\n",
    "plt.figure(figsize=(8, 5))\n",
    "bars = plt.bar(\n",
    "    weekday_summary['weekday'],\n",
    "    weekday_summary['free_user_count'],\n",
    "    color='#ffe599'  # 파스텔 노랑\n",
    ")\n",
    "\n",
    "# 막대 위 텍스트 (중앙 위)\n",
    "for bar in bars:\n",
    "    x = bar.get_x() + bar.get_width() / 2\n",
    "    y = bar.get_height()\n",
    "    plt.text(x, y + 0.5, f'{int(y)}명', ha='center', va='bottom', fontsize=11)\n",
    "\n",
    "plt.title('요일별 첫 방문 결제자 수')\n",
    "plt.xlabel('첫 방문 요일')\n",
    "plt.ylabel('결제자 수')\n",
    "plt.grid(axis='y', linestyle='--', alpha=0.5)\n",
    "plt.tight_layout()\n",
    "plt.show()"
   ]
  },
  {
   "cell_type": "markdown",
   "id": "4f7a22e8",
   "metadata": {},
   "source": [
    "### 첫 방문 기준 결제 그룹의 입실 및 퇴실 시각 분포"
   ]
  },
  {
   "cell_type": "code",
   "execution_count": null,
   "id": "5d4c3087",
   "metadata": {},
   "outputs": [
    {
     "data": {
      "image/png": "[encoded data removed]",
      "text/plain": [
       "<Figure size 1000x500 with 1 Axes>"
      ]
     },
     "metadata": {},
     "output_type": "display_data"
    }
   ],
   "source": [
    "import matplotlib.pyplot as plt\n",
    "\n",
    "# 1. 유료 결제자 + 입실 로그만 필터링\n",
    "paid_checkin_df = access_log_final_df[\n",
    "    (access_log_final_df['is_payment'] == 1) &\n",
    "    (access_log_final_df['checkin'] == 1)\n",
    "].copy()\n",
    "\n",
    "# 2. 유저별 첫 입실 로그만 추출\n",
    "first_checkin_df = paid_checkin_df.sort_values('cdate').drop_duplicates('user_uuid', keep='first')\n",
    "\n",
    "# 3. 입실 시각별 결제 유저 수 집계\n",
    "user_counts_by_hour = first_checkin_df['hour'].value_counts().sort_index()\n",
    "\n",
    "# 4. 시각화\n",
    "plt.figure(figsize=(10, 5))\n",
    "bars = plt.bar(user_counts_by_hour.index, user_counts_by_hour.values, color='#ffe599')  # 파스텔 노랑\n",
    "\n",
    "# 5. 막대 위 텍스트 표시\n",
    "for bar in bars:\n",
    "    x = bar.get_x() + bar.get_width() / 2\n",
    "    y = bar.get_height()\n",
    "    plt.text(x, y + 0.5, f'{int(y)}', ha='center', va='bottom', fontsize=10)\n",
    "\n",
    "plt.title('결제 유저의 첫 입실 시각 분포 (유저 수 기준)')\n",
    "plt.xlabel('입실 시각 (시간대)')\n",
    "plt.ylabel('결제 유저 수')\n",
    "plt.xticks(range(0, 24))\n",
    "plt.grid(axis='y', linestyle='--', alpha=0.5)\n",
    "plt.tight_layout()\n",
    "plt.show()"
   ]
  },
  {
   "cell_type": "code",
   "execution_count": null,
   "id": "7358626b",
   "metadata": {},
   "outputs": [],
   "source": [
    "# 2. 퇴실 로그만 추출\n",
    "checkout_df = access_log_final_df[access_log_final_df['checkin'] == 2].copy()\n",
    "\n",
    "# 3. 유저 + 날짜별 퇴실 시각(hour) 중 가장 빠른 값 선택 (또는 마지막 값 선택도 가능)\n",
    "checkout_hour_df = checkout_df.groupby(['user_uuid', 'date'])['hour'].max().reset_index()\n",
    "checkout_hour_df = checkout_hour_df.rename(columns={'hour': 'checkout_hour'})"
   ]
  },
  {
   "cell_type": "code",
   "execution_count": null,
   "id": "12df9bfe",
   "metadata": {},
   "outputs": [
    {
     "data": {
      "image/png": "[encoded data removed]",
      "text/plain": [
       "<Figure size 1000x500 with 1 Axes>"
      ]
     },
     "metadata": {},
     "output_type": "display_data"
    }
   ],
   "source": [
    "import matplotlib.pyplot as plt\n",
    "\n",
    "# 1. 결제 유저 + 퇴실 시각 있는 행만 필터링\n",
    "checkout_data = access_log_final_df[\n",
    "    (access_log_final_df['is_payment'] == 1) &\n",
    "    (access_log_final_df['checkout_hour'].notna())\n",
    "].copy()\n",
    "\n",
    "# 2. 퇴실 시각을 정수로 변환\n",
    "checkout_data['checkout_hour'] = checkout_data['checkout_hour'].astype(int)\n",
    "\n",
    "# 3. 유저별로 가장 마지막 퇴실 시각 1개만 추출\n",
    "last_checkout = checkout_data.sort_values('cdate').drop_duplicates('user_uuid', keep='last')\n",
    "\n",
    "# 4. 퇴실 시각별 결제 유저 수 집계\n",
    "checkout_user_counts = last_checkout['checkout_hour'].value_counts().sort_index()\n",
    "\n",
    "# 5. 시각화\n",
    "plt.figure(figsize=(10, 5))\n",
    "bars = plt.bar(checkout_user_counts.index, checkout_user_counts.values, color='#ffe599')\n",
    "\n",
    "# 6. 막대 위에 텍스트 표시\n",
    "for bar in bars:\n",
    "    x = bar.get_x() + bar.get_width() / 2\n",
    "    y = bar.get_height()\n",
    "    plt.text(x, y + 0.5, f'{int(y)}', ha='center', va='bottom', fontsize=10)\n",
    "\n",
    "plt.title('결제 유저의 마지막 퇴실 시각 분포 (유저 수 기준)')\n",
    "plt.xlabel('퇴실 시각 (시간)')\n",
    "plt.ylabel('결제 유저 수')\n",
    "plt.xticks(range(0, 24))\n",
    "plt.grid(axis='y', linestyle='--', alpha=0.5)\n",
    "plt.tight_layout()\n",
    "plt.show()"
   ]
  }
 ],
 "metadata": {
  "kernelspec": {
   "display_name": "codeit_env",
   "language": "python",
   "name": "python3"
  },
  "language_info": {
   "codemirror_mode": {
    "name": "ipython",
    "version": 3
   },
   "file_extension": ".py",
   "mimetype": "text/x-python",
   "name": "python",
   "nbconvert_exporter": "python",
   "pygments_lexer": "ipython3",
   "version": "3.12.9"
  }
 },
 "nbformat": 4,
 "nbformat_minor": 5
}
